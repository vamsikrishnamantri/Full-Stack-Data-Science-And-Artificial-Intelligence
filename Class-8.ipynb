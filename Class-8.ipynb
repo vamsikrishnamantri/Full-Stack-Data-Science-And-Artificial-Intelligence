{
 "cells": [
  {
   "cell_type": "code",
   "execution_count": 35,
   "id": "f47ffa4d",
   "metadata": {},
   "outputs": [
    {
     "name": "stdout",
     "output_type": "stream",
     "text": [
      "['start', 456, 789, 10.562, (5+0j), True, 'end']\n"
     ]
    },
    {
     "data": {
      "text/plain": [
       "['end', True, (5+0j), 10.562, 789, 456, 'start']"
      ]
     },
     "execution_count": 35,
     "metadata": {},
     "output_type": "execute_result"
    }
   ],
   "source": [
    "#by using the slicing we can able to get the list elements in reverse order also\n",
    "print(a)\n",
    "a[::-1]#this reverse order with not save in memory"
   ]
  },
  {
   "cell_type": "code",
   "execution_count": 36,
   "id": "bc7fa517",
   "metadata": {},
   "outputs": [
    {
     "name": "stdout",
     "output_type": "stream",
     "text": [
      "['start', 456, 789, 10.562, (5+0j), True, 'end']\n",
      "['end', True, (5+0j), 10.562, 789, 456, 'start']\n"
     ]
    }
   ],
   "source": [
    "#reverse: this function is used to reverse the elements in a list and save in the memory.\n",
    "print(a)\n",
    "a.reverse()\n",
    "print(a)"
   ]
  },
  {
   "cell_type": "code",
   "execution_count": 37,
   "id": "85d5cfbc",
   "metadata": {},
   "outputs": [
    {
     "data": {
      "text/plain": [
       "[98, 65, 65, 56, 37, 25, 10, 3, 2, 1, 0]"
      ]
     },
     "execution_count": 37,
     "metadata": {},
     "output_type": "execute_result"
    }
   ],
   "source": [
    "#sort:- this function is used to sort the list in ascending or desending order.\n",
    "#by default this function will arrange the elements in assending order.\n",
    "a=[1,10,25,3,56,65,65,32+5,56,98,2,0]\n",
    "a.sort()#parameter tunning: it means the system will pass the default parameters to the program.\n",
    "#here system passes by default ascending order.\n",
    "a.remove(56)\n",
    "a=a.copy()\n",
    "a.sort(reverse=True)#this is hyperparameter tunning, it means user will pass the parameters according to requirment.\n",
    "a"
   ]
  },
  {
   "cell_type": "code",
   "execution_count": 38,
   "id": "a03b3853",
   "metadata": {},
   "outputs": [
    {
     "name": "stdout",
     "output_type": "stream",
     "text": [
      "['anitha', 'pavan', 'ramya', 'seeta', 'vamsikrishna', 'vinay']\n",
      "['vinay', 'vamsikrishna', 'seeta', 'ramya', 'pavan', 'anitha']\n",
      "True\n",
      "False\n"
     ]
    }
   ],
   "source": [
    "a=['vamsikrishna','anitha','pavan','vinay','seeta','ramya']\n",
    "a.sort()#parameter tunning\n",
    "print(a)\n",
    "a.sort(reverse=True)#hyperparameter tunning\n",
    "print(a)\n",
    "#to sort the elements in a list, the list must contain similar datatype elements.\n",
    "#we can able to know wether a particular element contains in list or not.\n",
    "#example\n",
    "print('vamsikrishna' in a)#if it is there it returns True or else False.\n",
    "print('ANITHA' in a)"
   ]
  },
  {
   "cell_type": "code",
   "execution_count": 39,
   "id": "dc2f4c5f",
   "metadata": {},
   "outputs": [
    {
     "name": "stdout",
     "output_type": "stream",
     "text": [
      "[0, 1, 2, 3, 4, 5, 6, 7, 8, 9]\n",
      "[0, 1, 2, 3, 4, 5, 6, 7, 8, 9]\n",
      "[0, 1, 2, 3, 4]\n",
      "[2, 3, 4, 5]\n",
      "[9, 8, 7, 6, 5, 4, 3, 2, 1, 0]\n",
      "[1, 2, 3, 4, 5]\n",
      "[9, 6]\n"
     ]
    }
   ],
   "source": [
    "l=[0,1,2,3,4,5,6,7,8,9]\n",
    "print(l[:])\n",
    "print(l[0:])\n",
    "print(l[:5])\n",
    "print(l[2:6])\n",
    "print(l[::-1])\n",
    "print(l[1:6:1])\n",
    "print(l[-1:-5:-3])"
   ]
  },
  {
   "cell_type": "code",
   "execution_count": 40,
   "id": "72737201",
   "metadata": {},
   "outputs": [
    {
     "name": "stdout",
     "output_type": "stream",
     "text": [
      "[0, 1, 2, 3, 4, 5, 6, 7, 8, 9, 10, 20, 30]\n"
     ]
    },
    {
     "data": {
      "text/plain": [
       "[1, 2, 3, 4, 5, 6, 7, 8, 9]"
      ]
     },
     "execution_count": 40,
     "metadata": {},
     "output_type": "execute_result"
    }
   ],
   "source": [
    "#we can able to add one list to another list by using arthematic operator (+)\n",
    "\n",
    "s=l+[10,20,30]\n",
    "print(s)\n",
    "del l[0]\n",
    "l"
   ]
  },
  {
   "cell_type": "code",
   "execution_count": 41,
   "id": "2f3f9e56",
   "metadata": {},
   "outputs": [
    {
     "name": "stdout",
     "output_type": "stream",
     "text": [
      "(0, 0)\n",
      "(1, 1)\n",
      "(2, 2)\n",
      "(3, 3)\n",
      "(4, 4)\n",
      "(5, 5)\n",
      "(6, 6)\n",
      "(7, 7)\n",
      "(8, 8)\n",
      "(9, 9)\n",
      "(10, 10)\n",
      "(11, 20)\n",
      "(12, 30)\n"
     ]
    }
   ],
   "source": [
    "#enumerate(): it returns the list items with index positions like key value pairs\n",
    "for i in enumerate(s):\n",
    "    print(i)"
   ]
  },
  {
   "cell_type": "code",
   "execution_count": 42,
   "id": "c80f4a3f",
   "metadata": {},
   "outputs": [
    {
     "name": "stdout",
     "output_type": "stream",
     "text": [
      "False\n",
      "True\n"
     ]
    }
   ],
   "source": [
    "\"\"\"any() and all() functions: \n",
    "                            all() function returns True if all the elements in the list are True\n",
    "                            any() function returns True if any element in the list is True\n",
    "        \n",
    "\"\"\"\n",
    "l=[1,1,0]\n",
    "print(all(l))\n",
    "print(any(l))"
   ]
  }
 ],
 "metadata": {
  "kernelspec": {
   "display_name": "Python 3 (ipykernel)",
   "language": "python",
   "name": "python3"
  },
  "language_info": {
   "codemirror_mode": {
    "name": "ipython",
    "version": 3
   },
   "file_extension": ".py",
   "mimetype": "text/x-python",
   "name": "python",
   "nbconvert_exporter": "python",
   "pygments_lexer": "ipython3",
   "version": "3.11.5"
  }
 },
 "nbformat": 4,
 "nbformat_minor": 5
}
