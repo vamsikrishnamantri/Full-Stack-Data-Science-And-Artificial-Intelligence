{
 "cells": [
  {
   "cell_type": "code",
   "execution_count": 1,
   "id": "b77fe95e",
   "metadata": {},
   "outputs": [
    {
     "name": "stdout",
     "output_type": "stream",
     "text": [
      "True\n",
      "False\n",
      "=====================\n",
      "False\n",
      "True\n",
      "====================\n",
      "True\n",
      "False\n"
     ]
    }
   ],
   "source": [
    "# In set concept we are having superset and subset concept\n",
    "# Always a subset can inherit the superset, But the superset will not inherit the subset.\n",
    "# the elements of subset will always present in superset.\n",
    "\n",
    "a1 = {1,2,3,4,5,6,7,8,9}\n",
    "b1 = {3,4,5,6,7,8}\n",
    "c1 = {10,20,30,40}\n",
    "\n",
    "#issubset(): it is used to know a set is subset of another or not. it returns True if it is a subset orelse it returns False   \n",
    "\n",
    "print(b1.issubset(a1))\n",
    "print(a1.issubset(b1))\n",
    "\n",
    "#issuperset(): it is used to know wheather a set is superset or not.\n",
    "#it returns True if it is a superset orelse it returns Flase\n",
    "print(\"=====================\")\n",
    "print(b1.issuperset(a1))\n",
    "print(a1.issuperset(b1))\n",
    "\n",
    "#isdisjoint(): it is used to know if the sets are having the common elements or not\n",
    "#example\n",
    "print(\"====================\")\n",
    "s1={10,20,30,40}\n",
    "s2={50,60,80}\n",
    "s3={10,2}\n",
    "print(s1.isdisjoint(s2))\n",
    "print(s1.isdisjoint(s3))"
   ]
  },
  {
   "cell_type": "code",
   "execution_count": 2,
   "id": "86526b9e",
   "metadata": {},
   "outputs": [
    {
     "name": "stdout",
     "output_type": "stream",
     "text": [
      "((0, False), (1, 1), (2, 2), (3, 4), (4, 5), (5, 6), (6, 7), (7, 8), (8, 465), (9, 56))\n",
      "554\n",
      "465\n",
      "False\n",
      "10\n"
     ]
    },
    {
     "ename": "TypeError",
     "evalue": "'set' object is not subscriptable",
     "output_type": "error",
     "traceback": [
      "\u001b[1;31m---------------------------------------------------------------------------\u001b[0m",
      "\u001b[1;31mTypeError\u001b[0m                                 Traceback (most recent call last)",
      "Cell \u001b[1;32mIn[2], line 17\u001b[0m\n\u001b[0;32m     13\u001b[0m \u001b[38;5;66;03m#len(): it is used to find length of the set.\u001b[39;00m\n\u001b[0;32m     14\u001b[0m \u001b[38;5;28mprint\u001b[39m(\u001b[38;5;28mlen\u001b[39m(q))\n\u001b[1;32m---> 17\u001b[0m q[:]\n",
      "\u001b[1;31mTypeError\u001b[0m: 'set' object is not subscriptable"
     ]
    }
   ],
   "source": [
    "q={1,2,8,465,6,8,4,56,7,6,1,5,8,False,}\n",
    "print(tuple(enumerate(q)))\n",
    "\n",
    "#sum(): it is used to add the elements in the set.\n",
    "print(sum(q))\n",
    "\n",
    "#max(): it is used to find the maximam value in the set.\n",
    "print(max(q))#it wil not work if the set contains both int and complex datatypes.\n",
    "\n",
    "#min(): it is used to find the minimum value in the set.\n",
    "print(min(q))\n",
    "\n",
    "#len(): it is used to find length of the set.\n",
    "print(len(q))\n",
    "\n",
    "\n",
    "q[:]#set doesn't support's slicing and indexing.\n"
   ]
  },
  {
   "cell_type": "code",
   "execution_count": 3,
   "id": "28092d9c",
   "metadata": {},
   "outputs": [
    {
     "name": "stdout",
     "output_type": "stream",
     "text": [
      "{False, 1, 2, 4, 5, 6, 7, 8, 465, 56}\n",
      "======= set is freezed now========\n",
      "frozenset({False, 1, 2, 4, 5, 6, 7, 8, 465, 56})\n"
     ]
    },
    {
     "ename": "AttributeError",
     "evalue": "'frozenset' object has no attribute 'add'",
     "output_type": "error",
     "traceback": [
      "\u001b[1;31m---------------------------------------------------------------------------\u001b[0m",
      "\u001b[1;31mAttributeError\u001b[0m                            Traceback (most recent call last)",
      "Cell \u001b[1;32mIn[3], line 9\u001b[0m\n\u001b[0;32m      6\u001b[0m \u001b[38;5;28mprint\u001b[39m(a1)\n\u001b[0;32m      8\u001b[0m \u001b[38;5;66;03m#if we try to modify, it gives errors\u001b[39;00m\n\u001b[1;32m----> 9\u001b[0m a1\u001b[38;5;241m.\u001b[39madd(\u001b[38;5;241m10\u001b[39m)\n\u001b[0;32m     10\u001b[0m a1\u001b[38;5;241m.\u001b[39mdiscard(\u001b[38;5;241m2\u001b[39m)\n",
      "\u001b[1;31mAttributeError\u001b[0m: 'frozenset' object has no attribute 'add'"
     ]
    }
   ],
   "source": [
    "#frozenset(): it is predefined function, it is used to freeze a set.\n",
    "#if a set is freezed then it will not allows any modifications on the freezed set.\n",
    "print(q)\n",
    "a1=frozenset(q)\n",
    "print(\"======= set is freezed now========\")\n",
    "print(a1)\n",
    "\n",
    "#if we try to modify, it gives errors\n",
    "a1.add(10)\n",
    "a1.discard(2)"
   ]
  },
  {
   "cell_type": "code",
   "execution_count": 4,
   "id": "c6caa5c4",
   "metadata": {},
   "outputs": [
    {
     "name": "stdout",
     "output_type": "stream",
     "text": [
      "copy()\n",
      "d= {'vamsi': 100, 'krishna': 500, 9: 500}\n",
      "d1= {'vamsi': 100, 'krishna': 500, 9: 500}\n",
      "===============\n",
      "keys()\n",
      "dict_keys(['vamsi', 'krishna', 9])\n",
      "===============\n",
      "values()\n",
      "dict_values([100, 500, 500])\n",
      "===============\n",
      "pop()\n",
      "100 is removed\n",
      "===============\n",
      "adding/changing the elements in the dict\n",
      "{'krishna': 500, 9: 500, 1: 100, 2: 200, 3: 300}\n",
      "==============\n",
      "fromkeys()\n",
      "{101: None, 102: None, 103: None, 104: None, 105: None}\n",
      "dict_keys([101, 102, 103, 104, 105])\n",
      "dict_values([None, None, None, None, None])\n",
      "{101: 101, 102: 201, 103: 301, 104: 401, 105: 501}\n",
      "{101: None, 102: None, 103: None, 104: None, 105: None}\n"
     ]
    }
   ],
   "source": [
    "#Dictionary Data Structure: \n",
    "#dict is a data structure in python.\n",
    "#it is represented with {}.\n",
    "#the elements in dict data structure are always in the form of keys and values.\n",
    "#example:\n",
    "d={'vamsi':100,'krishna':500,9:500}\n",
    "\n",
    "#copy(): it is used to copy the elements of one dict and assign them to another variable.\n",
    "#example\n",
    "\n",
    "print(\"copy()\")\n",
    "print(\"d=\",d)\n",
    "d1=d.copy()\n",
    "print('d1=',d1)\n",
    "print('===============')\n",
    "\n",
    "#keys(): it is used to get all the keys in the dict\n",
    "print(\"keys()\")\n",
    "print(d.keys())\n",
    "\n",
    "print('===============')\n",
    "\n",
    "#values(): it is used to get all the values in the dict.\n",
    "print(\"values()\")\n",
    "print(d.values())\n",
    "\n",
    "print('===============')\n",
    "\n",
    "#pop(): it is used to remove the pair in the dict.\n",
    "#it allows one parameter that is we have to pass the key.\n",
    "#the key that we pass to the pop, that pair will removed.\n",
    "#example\n",
    "print(\"pop()\")\n",
    "print(d.pop('vamsi'),'is removed')\n",
    "\n",
    "print('===============')\n",
    "\n",
    "#adding the elements to the dict\n",
    "print('adding/changing the elements in the dict')\n",
    "d[1]=100\n",
    "d[2]=200\n",
    "d[3]=300\n",
    "print(d)\n",
    "\n",
    "print('==============')\n",
    "#fromkeys(): it to \n",
    "print(\"fromkeys()\")\n",
    "a={101,102,103,104,105}\n",
    "d1=dict.fromkeys(a)\n",
    "print(d1)\n",
    "print(d1.keys())\n",
    "print(d1.values())\n",
    "d1[101]=101\n",
    "d1[102]=201\n",
    "d1[103]=301\n",
    "d1[104]=401\n",
    "d1[105]=501\n",
    "print(d1)\n",
    "d1=dict.fromkeys(d1)\n",
    "print(d1)\n",
    "\n"
   ]
  },
  {
   "cell_type": "code",
   "execution_count": 5,
   "id": "60750470",
   "metadata": {},
   "outputs": [
    {
     "name": "stdout",
     "output_type": "stream",
     "text": [
      "{101: [10, 20, 30], 102: [10, 20, 30], 103: [10, 20, 30], 104: [10, 20, 30], 105: [10, 20, 30]}\n",
      "{101: [10, 20, 30, 40], 102: [10, 20, 30, 40], 103: [10, 20, 30, 40], 104: [10, 20, 30, 40], 105: [10, 20, 30, 40]}\n"
     ]
    }
   ],
   "source": [
    "p={101: [10, 20, 30], 102: [10, 20, 30], 103: [10, 20, 30], 104: [10, 20, 30], 105: [10, 20, 30]}\n",
    "values=[10,20,30]\n",
    "p=dict.fromkeys(p,values)\n",
    "print(p)\n",
    "values.append(40)\n",
    "print(p)"
   ]
  },
  {
   "cell_type": "code",
   "execution_count": 6,
   "id": "5bf91a6f",
   "metadata": {},
   "outputs": [
    {
     "name": "stdout",
     "output_type": "stream",
     "text": [
      "[10, 20, 30, 40]\n",
      "None\n"
     ]
    }
   ],
   "source": [
    "print(p[101])#by using this we can get the values by passing the keys\n",
    "#in this way, if keys is there in the dict, then we get the value or else we get the error. \n",
    "#to avoid the error, we can able to use get()\n",
    "\n",
    "#get(): it is used to get the values by passing key as parameter.\n",
    "#if the key is present in the dict, then we get the value orelse we will get the None.\n",
    "print(p.get(201))"
   ]
  },
  {
   "cell_type": "code",
   "execution_count": 7,
   "id": "0d530c24",
   "metadata": {},
   "outputs": [
    {
     "name": "stdout",
     "output_type": "stream",
     "text": [
      "{}\n",
      "{0: None, 1: None, 2: None, 3: None, 4: None, 5: None, 6: None, 7: None, 8: None}\n",
      "==============\n",
      "{0: 2, 1: 3, 2: 4, 3: 5, 4: 6, 5: 7, 6: 8, 7: 9, 8: 10}\n",
      "After updation\n",
      "{0: 2, 1: 3, 2: 4, 3: 5, 4: 6, 5: 7, 6: 8, 7: 9, 8: 10, 'g': 100}\n",
      "{0: 2, 1: 3, 2: 4, 3: 5, 4: 6, 5: 7, 6: 8, 7: 9, 8: 10}\n",
      "{0: 2, 1: 3, 2: 4, 3: 5, 4: 6, 5: 7, 6: 8, 7: 9}\n"
     ]
    }
   ],
   "source": [
    "#clear(): it is used to clear the elements in the dictionary\n",
    "#example\n",
    "q={1:'l'}\n",
    "q.clear()\n",
    "print(q)\n",
    "l=range(0,9)\n",
    "q=dict.fromkeys(l)\n",
    "print(q)\n",
    "count=2\n",
    "for i in q:\n",
    "    q[i]=count\n",
    "    count=count+1\n",
    "print('==============')\n",
    "\n",
    "#update(): it is used to update the dictionary with new values.\n",
    "print(q)\n",
    "q.update({'g':100})\n",
    "print('After updation')\n",
    "print(q)\n",
    "\n",
    "#popitem(): it is used to remove a random pair\n",
    "#example\n",
    "q.popitem()\n",
    "print(q)\n",
    "\n",
    "#removing item using del method\n",
    "del q[8]\n",
    "print(q)"
   ]
  },
  {
   "cell_type": "code",
   "execution_count": 8,
   "id": "4ca41c3d",
   "metadata": {},
   "outputs": [
    {
     "name": "stdout",
     "output_type": "stream",
     "text": [
      "2708305302080\n",
      "2708305301312\n"
     ]
    }
   ],
   "source": [
    "l=[4,5,6,7,89]\n",
    "l1=l.copy()\n",
    "print(id(l))\n",
    "print(id(l1))"
   ]
  },
  {
   "cell_type": "code",
   "execution_count": 9,
   "id": "500c28d3",
   "metadata": {},
   "outputs": [
    {
     "name": "stdout",
     "output_type": "stream",
     "text": [
      "<class 'dict'>\n",
      "{11: None, 22: None, 33: None, 44: None, 55: None, 66: None}\n",
      "11 : None\n",
      "22 : None\n",
      "33 : None\n",
      "44 : None\n",
      "55 : None\n",
      "66 : None\n",
      "{11: None, 22: None, 33: None, 44: None, 55: None, 66: None}\n",
      "True\n",
      "True\n"
     ]
    }
   ],
   "source": [
    "l=[11,22,33,44,55,66]\n",
    "l=dict.fromkeys(l)\n",
    "print(type(l))\n",
    "print(l)\n",
    "for i in l:\n",
    "    print(i,':',l[i])\n",
    "    \n",
    "print(l)   \n",
    "print(any(l))\n",
    "print(all(l))"
   ]
  }
 ],
 "metadata": {
  "kernelspec": {
   "display_name": "Python 3 (ipykernel)",
   "language": "python",
   "name": "python3"
  },
  "language_info": {
   "codemirror_mode": {
    "name": "ipython",
    "version": 3
   },
   "file_extension": ".py",
   "mimetype": "text/x-python",
   "name": "python",
   "nbconvert_exporter": "python",
   "pygments_lexer": "ipython3",
   "version": "3.11.5"
  }
 },
 "nbformat": 4,
 "nbformat_minor": 5
}
