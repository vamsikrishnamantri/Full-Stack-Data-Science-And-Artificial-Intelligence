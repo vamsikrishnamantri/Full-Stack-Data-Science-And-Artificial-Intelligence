{
 "cells": [
  {
   "cell_type": "code",
   "execution_count": 1,
   "id": "c7c2e27e",
   "metadata": {},
   "outputs": [],
   "source": [
    "#constructor: this is used to allocate the memory for the variables created in our program\n",
    "#in python we are having a special constructor that is _ _init_ _"
   ]
  },
  {
   "cell_type": "code",
   "execution_count": 2,
   "id": "0c586832",
   "metadata": {},
   "outputs": [],
   "source": [
    "#Python Comments: the comments are the non executed lines, those are ignored by the interpreter.\n",
    "#We are having two types of comments in python such as 1-Single line comments and 2-Multipe lined comments\n",
    "#The single lined comments are represented by (#).\n",
    "#The multiple lined comments are represented by triple cots(\"\"\" \"\"\")."
   ]
  },
  {
   "cell_type": "code",
   "execution_count": 3,
   "id": "6155e849",
   "metadata": {},
   "outputs": [
    {
     "name": "stdout",
     "output_type": "stream",
     "text": [
      "10\n",
      "10.58\n",
      "(4+8j)\n",
      "True\n",
      "vamsi\n"
     ]
    }
   ],
   "source": [
    "#Basic datatypes in python\n",
    " #Data type means the type of the data that we are storing in a variable.\n",
    " #We are having some of the basic datatypes in python such as int, float, complex, bool, string.\n",
    "A=10#int datatype, it will contains only integer values without decimals.\n",
    "B=10.58#float datatype, it will contains only integer values with decimals.\n",
    "C=4+8j#complex datatype, it is having a syntax that is a+bj. Where a is real part and b is imageny part.\n",
    "D=True#bool datatpye, it is the datatype that contains only True or False. Here in python True = 1 and False = 0.\n",
    "E=\"vamsi\"#string datatype, the string datatype is represented with '',\"\",\"\"\" \"\". The data that is written inside those cots are known as strings\n",
    "print(A)\n",
    "print(B)\n",
    "print(C)\n",
    "print(D)\n",
    "print(E)"
   ]
  },
  {
   "cell_type": "code",
   "execution_count": 4,
   "id": "1fada8dc",
   "metadata": {},
   "outputs": [
    {
     "name": "stdout",
     "output_type": "stream",
     "text": [
      "<class 'int'>\n",
      "<class 'float'>\n",
      "<class 'complex'>\n",
      "<class 'bool'>\n",
      "<class 'str'>\n"
     ]
    }
   ],
   "source": [
    "#The variables can be executed whenever we are calling it by using the identifier name.\n",
    "#type() is predefined function that returns the type of the data of a constant or the type of the data that a variable can store.\n",
    "print(type(A))\n",
    "print(type(B))\n",
    "print(type(C))\n",
    "print(type(D))\n",
    "print(type(E))"
   ]
  },
  {
   "cell_type": "code",
   "execution_count": 5,
   "id": "8f2b62c9",
   "metadata": {},
   "outputs": [
    {
     "name": "stdout",
     "output_type": "stream",
     "text": [
      "10\n",
      "100\n",
      "after swapping\n",
      "100\n",
      "10\n"
     ]
    }
   ],
   "source": [
    "#we can define and initialize the multiple variabes at a time.\n",
    "a,b=10,100\n",
    "print(a)\n",
    "print(b)\n",
    "#swaping of variables are very easy in python, swapping means exchanging the values of two variables with eachother.\n",
    "a,b=b,a\n",
    "print('after swapping')\n",
    "print(a)\n",
    "print(b)"
   ]
  },
  {
   "cell_type": "code",
   "execution_count": 6,
   "id": "26f64087",
   "metadata": {},
   "outputs": [
    {
     "name": "stdout",
     "output_type": "stream",
     "text": [
      "140714285307720\n",
      "140714285307912\n",
      "140714285308232\n",
      "140714285307720\n"
     ]
    }
   ],
   "source": [
    "#int\n",
    "#if the values are same then we will get the same unique id to the variabes \n",
    "i=34\n",
    "i1=40\n",
    "i2=50\n",
    "i3=32+2\n",
    "print(id(i))\n",
    "print(id(i1))\n",
    "print(id(i2))\n",
    "print(id(i3))"
   ]
  },
  {
   "cell_type": "code",
   "execution_count": 7,
   "id": "a93b0f99",
   "metadata": {},
   "outputs": [
    {
     "data": {
      "text/plain": [
       "2"
      ]
     },
     "execution_count": 7,
     "metadata": {},
     "output_type": "execute_result"
    }
   ],
   "source": [
    "True+False+True#We know that in python True = 1 and False = 0"
   ]
  },
  {
   "cell_type": "code",
   "execution_count": 8,
   "id": "3c2df217",
   "metadata": {},
   "outputs": [
    {
     "name": "stdout",
     "output_type": "stream",
     "text": [
      "50.5\n",
      "<class 'float'>\n",
      "1.0\n",
      "10.0\n",
      "100.0\n"
     ]
    }
   ],
   "source": [
    "#float\n",
    "\n",
    "f=50.5\n",
    "print(f)\n",
    "print(type(f))\n",
    "f=1e0\n",
    "print(f)\n",
    "f=1e1\n",
    "print(f)\n",
    "f=1e2\n",
    "print(f)"
   ]
  },
  {
   "cell_type": "code",
   "execution_count": null,
   "id": "27998dd5",
   "metadata": {},
   "outputs": [],
   "source": []
  },
  {
   "cell_type": "code",
   "execution_count": null,
   "id": "6a010174",
   "metadata": {},
   "outputs": [],
   "source": []
  }
 ],
 "metadata": {
  "kernelspec": {
   "display_name": "Python 3 (ipykernel)",
   "language": "python",
   "name": "python3"
  },
  "language_info": {
   "codemirror_mode": {
    "name": "ipython",
    "version": 3
   },
   "file_extension": ".py",
   "mimetype": "text/x-python",
   "name": "python",
   "nbconvert_exporter": "python",
   "pygments_lexer": "ipython3",
   "version": "3.11.5"
  }
 },
 "nbformat": 4,
 "nbformat_minor": 5
}
