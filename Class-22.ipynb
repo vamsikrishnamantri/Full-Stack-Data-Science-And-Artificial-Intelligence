{
 "cells": [
  {
   "cell_type": "code",
   "execution_count": 308,
   "id": "b2d5baad-754a-43bf-bc0b-d25713121452",
   "metadata": {},
   "outputs": [
    {
     "name": "stdout",
     "output_type": "stream",
     "text": [
      "vamsikrishna\n"
     ]
    }
   ],
   "source": [
    "print('vamsikrishna')#printing the data"
   ]
  },
  {
   "cell_type": "code",
   "execution_count": 309,
   "id": "a4c270c1-a4ce-4e99-9706-b32975d2e298",
   "metadata": {},
   "outputs": [
    {
     "data": {
      "text/plain": [
       "'vamsikrishna'"
      ]
     },
     "execution_count": 309,
     "metadata": {},
     "output_type": "execute_result"
    }
   ],
   "source": [
    "\"vamsikrishna\"#direct text"
   ]
  },
  {
   "cell_type": "code",
   "execution_count": 310,
   "id": "381183c9-a06a-44ca-9118-82a6a0f2e58b",
   "metadata": {},
   "outputs": [
    {
     "data": {
      "text/plain": [
       "'vamsikrishna'"
      ]
     },
     "execution_count": 310,
     "metadata": {},
     "output_type": "execute_result"
    }
   ],
   "source": [
    "#storing the data in s1 variable and then by using s1 identifier we are printing the data\n",
    "s1=\"vamsikrishna\"\n",
    "s1"
   ]
  },
  {
   "cell_type": "code",
   "execution_count": 311,
   "id": "406c0ad9-08e3-4d3c-bf6d-a0755556677e",
   "metadata": {},
   "outputs": [
    {
     "data": {
      "text/plain": [
       "106"
      ]
     },
     "execution_count": 311,
     "metadata": {},
     "output_type": "execute_result"
    }
   ],
   "source": [
    "a=2\n",
    "b=104\n",
    "a+b#print the sum of two values in two different variabes"
   ]
  },
  {
   "cell_type": "code",
   "execution_count": 312,
   "id": "07e901c7-21cc-4bf0-bb95-a9c281d98487",
   "metadata": {},
   "outputs": [
    {
     "data": {
      "text/plain": [
       "106"
      ]
     },
     "execution_count": 312,
     "metadata": {},
     "output_type": "execute_result"
    }
   ],
   "source": [
    "c=a+b\n",
    "c#we are store the sum of two values in two different variables in another variable and printing it."
   ]
  },
  {
   "cell_type": "code",
   "execution_count": 313,
   "id": "45dfc22a-70ee-450d-842f-9d0c5be3c28b",
   "metadata": {},
   "outputs": [
    {
     "data": {
      "text/plain": [
       "str"
      ]
     },
     "execution_count": 313,
     "metadata": {},
     "output_type": "execute_result"
    }
   ],
   "source": [
    "a=5\n",
    "b='vamsikrishna'\n",
    "type(b)#print the datatype of the data in b variable"
   ]
  },
  {
   "cell_type": "code",
   "execution_count": 314,
   "id": "b983e24c-0d9d-467e-ac4a-e15280fe9da5",
   "metadata": {},
   "outputs": [
    {
     "ename": "SyntaxError",
     "evalue": "unterminated string literal (detected at line 1) (2117197177.py, line 1)",
     "output_type": "error",
     "traceback": [
      "\u001b[1;36m  Cell \u001b[1;32mIn[314], line 1\u001b[1;36m\u001b[0m\n\u001b[1;33m    print('i'm vamsirishna')#here we are getting error because of the ''.\u001b[0m\n\u001b[1;37m                                                                       ^\u001b[0m\n\u001b[1;31mSyntaxError\u001b[0m\u001b[1;31m:\u001b[0m unterminated string literal (detected at line 1)\n"
     ]
    }
   ],
   "source": [
    "print('i'm vamsirishna')#here we are getting error because of the ''."
   ]
  },
  {
   "cell_type": "code",
   "execution_count": 329,
   "id": "1a91a32a-63e7-4958-ab5a-f65d7e878939",
   "metadata": {},
   "outputs": [
    {
     "name": "stdout",
     "output_type": "stream",
     "text": [
      "i'm vamsikrishna\n"
     ]
    }
   ],
   "source": [
    "print('i\\'m vamsikrishna') #to escape those type of errors by using bac slash '\\'."
   ]
  },
  {
   "cell_type": "code",
   "execution_count": 330,
   "id": "c8b34f85-cbb9-4d58-94b3-23b627a3ea71",
   "metadata": {},
   "outputs": [
    {
     "data": {
      "text/plain": [
       "'\\ntriple cots are used to mention the multiline strings and comments.\\n'"
      ]
     },
     "execution_count": 330,
     "metadata": {},
     "output_type": "execute_result"
    }
   ],
   "source": [
    "\"\"\"\n",
    "triple cots are used to mention the multiline strings and comments.\n",
    "\"\"\""
   ]
  },
  {
   "cell_type": "code",
   "execution_count": 331,
   "id": "4011eefa-518a-480b-bdae-123cb7d021e3",
   "metadata": {},
   "outputs": [
    {
     "name": "stdout",
     "output_type": "stream",
     "text": [
      "vamsi krishna\n"
     ]
    }
   ],
   "source": [
    "print('vamsi','krishna')"
   ]
  },
  {
   "cell_type": "code",
   "execution_count": 332,
   "id": "c29d7a39-4b56-4ea4-9b4e-1199959e39fd",
   "metadata": {},
   "outputs": [
    {
     "name": "stdout",
     "output_type": "stream",
     "text": [
      "vamsi\",\"krishn\"\n"
     ]
    }
   ],
   "source": [
    "print('vamsi\",\"krishn\"')"
   ]
  },
  {
   "cell_type": "code",
   "execution_count": 333,
   "id": "973fba11-5a4c-457c-840f-d8b8976787b5",
   "metadata": {},
   "outputs": [
    {
     "data": {
      "text/plain": [
       "'vamsivamsi'"
      ]
     },
     "execution_count": 333,
     "metadata": {},
     "output_type": "execute_result"
    }
   ],
   "source": [
    "'vamsi'+'vamsi'#concatinate the two or more strings"
   ]
  },
  {
   "cell_type": "code",
   "execution_count": 334,
   "id": "34c8dc82-6ffc-404d-9a5e-4fbf78617e05",
   "metadata": {},
   "outputs": [
    {
     "data": {
      "text/plain": [
       "'vamsikrishna'"
      ]
     },
     "execution_count": 334,
     "metadata": {},
     "output_type": "execute_result"
    }
   ],
   "source": [
    "'vamsi' 'krishna'"
   ]
  },
  {
   "cell_type": "code",
   "execution_count": 335,
   "id": "e2064203-a0bd-484a-810c-c2da7be3a1c0",
   "metadata": {},
   "outputs": [
    {
     "data": {
      "text/plain": [
       "'vamsivamsivamsivamsivamsi'"
      ]
     },
     "execution_count": 335,
     "metadata": {},
     "output_type": "execute_result"
    }
   ],
   "source": [
    "#5times printing a string\n",
    "'vamsi'*5"
   ]
  },
  {
   "cell_type": "code",
   "execution_count": 336,
   "id": "c4938110-fcca-49df-9dc1-f4c814e157e0",
   "metadata": {},
   "outputs": [
    {
     "data": {
      "text/plain": [
       "'vamsivamsivamsivamsivamsivamsivamsivamsivamsivamsivamsivamsivamsivamsivamsivamsivamsivamsivamsivamsivamsivamsivamsivamsivamsivamsivamsivamsivamsivamsivamsivamsivamsivamsivamsivamsivamsivamsivamsivamsivamsivamsivamsivamsivamsivamsivamsivamsivamsivamsivamsivamsivamsivamsivamsivamsivamsivamsivamsivamsivamsivamsivamsivamsivamsivamsivamsivamsivamsivamsivamsivamsivamsivamsivamsivamsivamsivamsivamsivamsivamsivamsivamsivamsivamsivamsivamsivamsivamsivamsivamsivamsivamsivamsivamsivamsivamsivamsivamsivamsivamsivamsivamsivamsivamsivamsivamsivamsivamsivamsivamsivamsivamsivamsivamsivamsivamsivamsivamsivamsivamsivamsivamsivamsivamsivamsivamsivamsivamsivamsivamsivamsivamsivamsivamsivamsivamsivamsivamsivamsivamsivamsivamsivamsivamsivamsivamsivamsivamsivamsivamsivamsivamsivamsivamsivamsivamsivamsivamsivamsivamsivamsivamsivamsivamsivamsivamsivamsivamsivamsivamsivamsivamsivamsivamsivamsivamsivamsivamsivamsivamsivamsivamsivamsivamsivamsivamsivamsivamsivamsivamsivamsivamsivamsivamsivamsivamsivamsivamsivamsi'"
      ]
     },
     "execution_count": 336,
     "metadata": {},
     "output_type": "execute_result"
    }
   ],
   "source": [
    "'vamsi'*200"
   ]
  },
  {
   "cell_type": "code",
   "execution_count": 337,
   "id": "e83004db-8d87-403d-b64d-2587ebca6434",
   "metadata": {},
   "outputs": [
    {
     "data": {
      "text/plain": [
       "'vamsi vamsi vamsi vamsi vamsi vamsi vamsi vamsi vamsi vamsi '"
      ]
     },
     "execution_count": 337,
     "metadata": {},
     "output_type": "execute_result"
    }
   ],
   "source": [
    "'vamsi '*10#space between the words"
   ]
  },
  {
   "cell_type": "code",
   "execution_count": 338,
   "id": "46c2a50a-86f1-4baa-980e-c8e69870b3c5",
   "metadata": {},
   "outputs": [
    {
     "name": "stdout",
     "output_type": "stream",
     "text": [
      "d:\n",
      "it\n"
     ]
    }
   ],
   "source": [
    "print('d:\\nit')#\\n is used to print new line."
   ]
  },
  {
   "cell_type": "code",
   "execution_count": 339,
   "id": "034221f0-c8f3-47ef-837d-5719a76620a3",
   "metadata": {},
   "outputs": [
    {
     "name": "stdout",
     "output_type": "stream",
     "text": [
      "D:\\nMatplotlib Cheatsheet - Scaler Topics.pdf\n"
     ]
    }
   ],
   "source": [
    "print(r\"D:\\nMatplotlib Cheatsheet - Scaler Topics.pdf\")#here we mentioned r that means raw string."
   ]
  },
  {
   "cell_type": "code",
   "execution_count": 340,
   "id": "d5101395-f17e-4980-af16-7435460cdc7f",
   "metadata": {},
   "outputs": [
    {
     "data": {
      "text/plain": [
       "2"
      ]
     },
     "execution_count": 340,
     "metadata": {},
     "output_type": "execute_result"
    }
   ],
   "source": [
    "2"
   ]
  },
  {
   "cell_type": "code",
   "execution_count": 341,
   "id": "a9e4230a-59db-42dc-ad81-7c31e3ddf4b0",
   "metadata": {},
   "outputs": [
    {
     "data": {
      "text/plain": [
       "2"
      ]
     },
     "execution_count": 341,
     "metadata": {},
     "output_type": "execute_result"
    }
   ],
   "source": [
    "x=2\n",
    "x"
   ]
  },
  {
   "cell_type": "code",
   "execution_count": 342,
   "id": "b888ece3-885d-45ca-9303-8fd7cdd0ac50",
   "metadata": {},
   "outputs": [
    {
     "data": {
      "text/plain": [
       "5"
      ]
     },
     "execution_count": 342,
     "metadata": {},
     "output_type": "execute_result"
    }
   ],
   "source": [
    "x+3"
   ]
  },
  {
   "cell_type": "code",
   "execution_count": 343,
   "id": "f00b7c53-db26-4142-a016-9f54f88666be",
   "metadata": {},
   "outputs": [
    {
     "data": {
      "text/plain": [
       "3"
      ]
     },
     "execution_count": 343,
     "metadata": {},
     "output_type": "execute_result"
    }
   ],
   "source": [
    "y=3\n",
    "y"
   ]
  },
  {
   "cell_type": "code",
   "execution_count": 344,
   "id": "0cab6cc9-4c7e-416d-8f5f-0c5baa8645fb",
   "metadata": {},
   "outputs": [
    {
     "data": {
      "text/plain": [
       "5"
      ]
     },
     "execution_count": 344,
     "metadata": {},
     "output_type": "execute_result"
    }
   ],
   "source": [
    "x+y"
   ]
  },
  {
   "cell_type": "code",
   "execution_count": 345,
   "id": "be2f23dc-d637-4d91-9006-94c97fb7d451",
   "metadata": {},
   "outputs": [
    {
     "data": {
      "text/plain": [
       "9"
      ]
     },
     "execution_count": 345,
     "metadata": {},
     "output_type": "execute_result"
    }
   ],
   "source": [
    "x=9\n",
    "x"
   ]
  },
  {
   "cell_type": "code",
   "execution_count": 346,
   "id": "3200909e-aec6-4850-8490-263ea8db5356",
   "metadata": {},
   "outputs": [
    {
     "data": {
      "text/plain": [
       "12"
      ]
     },
     "execution_count": 346,
     "metadata": {},
     "output_type": "execute_result"
    }
   ],
   "source": [
    "x+y"
   ]
  },
  {
   "cell_type": "code",
   "execution_count": 347,
   "id": "01002ada-aa4f-4eea-98af-c48bc13e8fe9",
   "metadata": {},
   "outputs": [
    {
     "data": {
      "text/plain": [
       "19"
      ]
     },
     "execution_count": 347,
     "metadata": {},
     "output_type": "execute_result"
    }
   ],
   "source": [
    "x+10"
   ]
  },
  {
   "cell_type": "code",
   "execution_count": 348,
   "id": "6e6570d0-1d1b-4586-b1cc-abcffbcfd838",
   "metadata": {},
   "outputs": [
    {
     "data": {
      "text/plain": [
       "19"
      ]
     },
     "execution_count": 348,
     "metadata": {},
     "output_type": "execute_result"
    }
   ],
   "source": [
    "_"
   ]
  },
  {
   "cell_type": "code",
   "execution_count": 349,
   "id": "6259122f-82d0-4c5a-be9d-3bfa64a4a657",
   "metadata": {},
   "outputs": [
    {
     "data": {
      "text/plain": [
       "20"
      ]
     },
     "execution_count": 349,
     "metadata": {},
     "output_type": "execute_result"
    }
   ],
   "source": [
    "19+1 #_ the underscore will store the previous result/output."
   ]
  },
  {
   "cell_type": "code",
   "execution_count": 350,
   "id": "f923b0ad-b2d8-4808-9d09-bd77d609375d",
   "metadata": {},
   "outputs": [
    {
     "data": {
      "text/plain": [
       "20"
      ]
     },
     "execution_count": 350,
     "metadata": {},
     "output_type": "execute_result"
    }
   ],
   "source": [
    "_"
   ]
  },
  {
   "cell_type": "code",
   "execution_count": 391,
   "id": "021a891d-3cc1-40ef-b5ec-6b746eb5ebe5",
   "metadata": {},
   "outputs": [],
   "source": [
    "#string object\n",
    "\n",
    "name='vamsi'"
   ]
  },
  {
   "cell_type": "code",
   "execution_count": 393,
   "id": "02d8b8dc-a073-46a8-a8e0-794db573bfe6",
   "metadata": {},
   "outputs": [
    {
     "data": {
      "text/plain": [
       "'vamsikrishna'"
      ]
     },
     "execution_count": 393,
     "metadata": {},
     "output_type": "execute_result"
    }
   ],
   "source": [
    "name+'krishna'"
   ]
  },
  {
   "cell_type": "code",
   "execution_count": 395,
   "id": "c8beb3fa-cb2c-4949-aa05-ce398c16c320",
   "metadata": {},
   "outputs": [
    {
     "data": {
      "text/plain": [
       "'vamsi krishna'"
      ]
     },
     "execution_count": 395,
     "metadata": {},
     "output_type": "execute_result"
    }
   ],
   "source": [
    "name+' krishna'"
   ]
  },
  {
   "cell_type": "code",
   "execution_count": 397,
   "id": "8ff3231c-481f-466c-ab39-3d605d05ed9d",
   "metadata": {},
   "outputs": [
    {
     "ename": "SyntaxError",
     "evalue": "invalid syntax (3888154697.py, line 1)",
     "output_type": "error",
     "traceback": [
      "\u001b[1;36m  Cell \u001b[1;32mIn[397], line 1\u001b[1;36m\u001b[0m\n\u001b[1;33m    name 'krishna'\u001b[0m\n\u001b[1;37m         ^\u001b[0m\n\u001b[1;31mSyntaxError\u001b[0m\u001b[1;31m:\u001b[0m invalid syntax\n"
     ]
    }
   ],
   "source": [
    "name 'krishna'"
   ]
  },
  {
   "cell_type": "code",
   "execution_count": 399,
   "id": "2aa403a3-8354-4d9a-bc32-a1f21d01ffd7",
   "metadata": {},
   "outputs": [
    {
     "ename": "SyntaxError",
     "evalue": "invalid syntax (3279511501.py, line 1)",
     "output_type": "error",
     "traceback": [
      "\u001b[1;36m  Cell \u001b[1;32mIn[399], line 1\u001b[1;36m\u001b[0m\n\u001b[1;33m    name name\u001b[0m\n\u001b[1;37m         ^\u001b[0m\n\u001b[1;31mSyntaxError\u001b[0m\u001b[1;31m:\u001b[0m invalid syntax\n"
     ]
    }
   ],
   "source": [
    "name name"
   ]
  },
  {
   "cell_type": "code",
   "execution_count": 401,
   "id": "f8d121d5-ad4c-44cf-a23e-482dc7b9061b",
   "metadata": {},
   "outputs": [
    {
     "data": {
      "text/plain": [
       "'vamsi krisshna'"
      ]
     },
     "execution_count": 401,
     "metadata": {},
     "output_type": "execute_result"
    }
   ],
   "source": [
    "'vamsi ' 'krisshna'"
   ]
  },
  {
   "cell_type": "code",
   "execution_count": 403,
   "id": "bfa18dca-4504-4639-b441-ae956c8f724b",
   "metadata": {},
   "outputs": [
    {
     "data": {
      "text/plain": [
       "'vamsi'"
      ]
     },
     "execution_count": 403,
     "metadata": {},
     "output_type": "execute_result"
    }
   ],
   "source": [
    "\n",
    "name"
   ]
  },
  {
   "cell_type": "code",
   "execution_count": 405,
   "id": "c7b02cab-af65-4f20-aa60-4e8f5aafd6c9",
   "metadata": {},
   "outputs": [
    {
     "data": {
      "text/plain": [
       "5"
      ]
     },
     "execution_count": 405,
     "metadata": {},
     "output_type": "execute_result"
    }
   ],
   "source": [
    "len(name)"
   ]
  },
  {
   "cell_type": "code",
   "execution_count": 407,
   "id": "2d4d5560-924c-4039-83e7-830c9b25af25",
   "metadata": {},
   "outputs": [
    {
     "data": {
      "text/plain": [
       "'v'"
      ]
     },
     "execution_count": 407,
     "metadata": {},
     "output_type": "execute_result"
    }
   ],
   "source": [
    "#indexing\n",
    "name[0]"
   ]
  },
  {
   "cell_type": "code",
   "execution_count": 409,
   "id": "81f4be00-e5d2-4c3b-9031-b668aac56205",
   "metadata": {},
   "outputs": [
    {
     "data": {
      "text/plain": [
       "'m'"
      ]
     },
     "execution_count": 409,
     "metadata": {},
     "output_type": "execute_result"
    }
   ],
   "source": [
    "name[2]"
   ]
  },
  {
   "cell_type": "code",
   "execution_count": 411,
   "id": "229a494d-6739-4caf-8f3e-b6ccefbb0ea8",
   "metadata": {},
   "outputs": [
    {
     "data": {
      "text/plain": [
       "'i'"
      ]
     },
     "execution_count": 411,
     "metadata": {},
     "output_type": "execute_result"
    }
   ],
   "source": [
    "name[-1]"
   ]
  },
  {
   "cell_type": "code",
   "execution_count": 413,
   "id": "cb93d8bc-fb73-4989-9666-380276ab61ad",
   "metadata": {},
   "outputs": [
    {
     "data": {
      "text/plain": [
       "'s'"
      ]
     },
     "execution_count": 413,
     "metadata": {},
     "output_type": "execute_result"
    }
   ],
   "source": [
    "name[-2]"
   ]
  },
  {
   "cell_type": "code",
   "execution_count": 415,
   "id": "76981f31-06cc-4536-b65a-04c12e8c3bb3",
   "metadata": {},
   "outputs": [
    {
     "data": {
      "text/plain": [
       "'vamsi'"
      ]
     },
     "execution_count": 415,
     "metadata": {},
     "output_type": "execute_result"
    }
   ],
   "source": [
    "#slicing\n",
    "\n",
    "name[:]"
   ]
  },
  {
   "cell_type": "code",
   "execution_count": 417,
   "id": "1d41926e-a37b-4950-97ff-f8ccbf2b8dc2",
   "metadata": {},
   "outputs": [
    {
     "data": {
      "text/plain": [
       "'va'"
      ]
     },
     "execution_count": 417,
     "metadata": {},
     "output_type": "execute_result"
    }
   ],
   "source": [
    "name[:2]"
   ]
  },
  {
   "cell_type": "code",
   "execution_count": 419,
   "id": "7e9b673e-e701-4010-9523-de31a36417b8",
   "metadata": {},
   "outputs": [
    {
     "data": {
      "text/plain": [
       "'vamsi'"
      ]
     },
     "execution_count": 419,
     "metadata": {},
     "output_type": "execute_result"
    }
   ],
   "source": [
    "name[0:]"
   ]
  },
  {
   "cell_type": "code",
   "execution_count": 421,
   "id": "4d036b93-088a-42b8-8b78-1ad747b989a4",
   "metadata": {},
   "outputs": [
    {
     "data": {
      "text/plain": [
       "'vams'"
      ]
     },
     "execution_count": 421,
     "metadata": {},
     "output_type": "execute_result"
    }
   ],
   "source": [
    "name[:-1]"
   ]
  },
  {
   "cell_type": "code",
   "execution_count": 423,
   "id": "3233b9a8-1912-45db-a2e5-085607dccfef",
   "metadata": {},
   "outputs": [
    {
     "data": {
      "text/plain": [
       "'m'"
      ]
     },
     "execution_count": 423,
     "metadata": {},
     "output_type": "execute_result"
    }
   ],
   "source": [
    "name[2:-2]"
   ]
  },
  {
   "cell_type": "code",
   "execution_count": 425,
   "id": "f15626b5-eb75-41c4-9a4f-783e1f993ac0",
   "metadata": {},
   "outputs": [],
   "source": [
    "name1='krishna'"
   ]
  },
  {
   "cell_type": "code",
   "execution_count": 427,
   "id": "6594f082-e6bb-4f39-b68f-eef075b3345e",
   "metadata": {},
   "outputs": [
    {
     "data": {
      "text/plain": [
       "'a'"
      ]
     },
     "execution_count": 427,
     "metadata": {},
     "output_type": "execute_result"
    }
   ],
   "source": [
    "name1[-1]"
   ]
  },
  {
   "cell_type": "code",
   "execution_count": 429,
   "id": "27689de4-685c-4817-891a-d6960e757832",
   "metadata": {},
   "outputs": [
    {
     "data": {
      "text/plain": [
       "'anhs'"
      ]
     },
     "execution_count": 429,
     "metadata": {},
     "output_type": "execute_result"
    }
   ],
   "source": [
    "name1[-1:2:-1]"
   ]
  },
  {
   "cell_type": "code",
   "execution_count": 431,
   "id": "0f3ac5e2-380e-4d42-9c5c-588d3f1f26b5",
   "metadata": {},
   "outputs": [
    {
     "ename": "TypeError",
     "evalue": "'str' object does not support item assignment",
     "output_type": "error",
     "traceback": [
      "\u001b[1;31m---------------------------------------------------------------------------\u001b[0m",
      "\u001b[1;31mTypeError\u001b[0m                                 Traceback (most recent call last)",
      "Cell \u001b[1;32mIn[431], line 1\u001b[0m\n\u001b[1;32m----> 1\u001b[0m name[\u001b[38;5;241m1\u001b[39m]\u001b[38;5;241m=\u001b[39m\u001b[38;5;124m'\u001b[39m\u001b[38;5;124ml\u001b[39m\u001b[38;5;124m'\u001b[39m\n",
      "\u001b[1;31mTypeError\u001b[0m: 'str' object does not support item assignment"
     ]
    }
   ],
   "source": [
    "name[1]='l'#Strings are immutable"
   ]
  },
  {
   "cell_type": "code",
   "execution_count": 433,
   "id": "40924d7b-2240-4059-8a0d-87d2659bd001",
   "metadata": {},
   "outputs": [
    {
     "data": {
      "text/plain": [
       "'krishna'"
      ]
     },
     "execution_count": 433,
     "metadata": {},
     "output_type": "execute_result"
    }
   ],
   "source": [
    "name1"
   ]
  },
  {
   "cell_type": "code",
   "execution_count": 435,
   "id": "e61ac58d-6e60-4d97-8f19-160bfcd25f94",
   "metadata": {},
   "outputs": [],
   "source": [
    " name='fine'"
   ]
  },
  {
   "cell_type": "code",
   "execution_count": 437,
   "id": "783b6deb-7edb-4c0c-86d7-c4add422bcba",
   "metadata": {},
   "outputs": [
    {
     "data": {
      "text/plain": [
       "'fine'"
      ]
     },
     "execution_count": 437,
     "metadata": {},
     "output_type": "execute_result"
    }
   ],
   "source": [
    "name"
   ]
  },
  {
   "cell_type": "code",
   "execution_count": 439,
   "id": "b17a7af4-f952-40f6-9439-07da23a234fb",
   "metadata": {},
   "outputs": [
    {
     "data": {
      "text/plain": [
       "'ine'"
      ]
     },
     "execution_count": 439,
     "metadata": {},
     "output_type": "execute_result"
    }
   ],
   "source": [
    "name[1:]"
   ]
  },
  {
   "cell_type": "code",
   "execution_count": 441,
   "id": "de71fd8b-8417-4551-8f5e-888683ef6f31",
   "metadata": {},
   "outputs": [
    {
     "data": {
      "text/plain": [
       "'dine'"
      ]
     },
     "execution_count": 441,
     "metadata": {},
     "output_type": "execute_result"
    }
   ],
   "source": [
    "'d'+name[1:]"
   ]
  },
  {
   "cell_type": "markdown",
   "id": "31261e77-ee75-4dc2-ba1f-72eac7cdbb1f",
   "metadata": {},
   "source": [
    "# Python Operators"
   ]
  },
  {
   "cell_type": "code",
   "execution_count": 444,
   "id": "62dda225-d000-44bc-9996-c9523c5d4612",
   "metadata": {},
   "outputs": [
    {
     "data": {
      "text/plain": [
       "'\\nOperators: \\n these are the special symbos used to do specific operations.\\n \\n -> we are having 5 types of operators.\\n    1-Arithmetic operators\\n    2-assignment operators\\n    3-relational operators\\n    4-logical operators\\n    5-unary operators\\n'"
      ]
     },
     "execution_count": 444,
     "metadata": {},
     "output_type": "execute_result"
    }
   ],
   "source": [
    "\"\"\"\n",
    "Operators: \n",
    " these are the special symbos used to do specific operations.\n",
    " \n",
    " -> we are having 5 types of operators.\n",
    "    1-Arithmetic operators\n",
    "    2-assignment operators\n",
    "    3-relational operators\n",
    "    4-logical operators\n",
    "    5-unary operators\n",
    "\"\"\""
   ]
  },
  {
   "cell_type": "code",
   "execution_count": 446,
   "id": "d581e487-4ce9-4ec2-8a54-87c3d3be4e55",
   "metadata": {},
   "outputs": [
    {
     "data": {
      "text/plain": [
       "'\\nArithmetic Operators: these operators are used to perform addition, substraction, multiplication, division.\\n'"
      ]
     },
     "execution_count": 446,
     "metadata": {},
     "output_type": "execute_result"
    }
   ],
   "source": [
    "\"\"\"\n",
    "Arithmetic Operators: these operators are used to perform addition, substraction, multiplication, division.\n",
    "\"\"\""
   ]
  },
  {
   "cell_type": "code",
   "execution_count": 456,
   "id": "b2d77b9f-9e4b-4b14-9870-b0a39a367e15",
   "metadata": {},
   "outputs": [],
   "source": [
    "x1,x2=5,20"
   ]
  },
  {
   "cell_type": "code",
   "execution_count": 458,
   "id": "c5843a7b-c017-4a99-9cdc-7cbd43a41f14",
   "metadata": {},
   "outputs": [
    {
     "data": {
      "text/plain": [
       "25"
      ]
     },
     "execution_count": 458,
     "metadata": {},
     "output_type": "execute_result"
    }
   ],
   "source": [
    "x1+x2#addition"
   ]
  },
  {
   "cell_type": "code",
   "execution_count": 460,
   "id": "fda57c2a-d11f-4f1d-bc43-eb2a9d9120de",
   "metadata": {},
   "outputs": [
    {
     "data": {
      "text/plain": [
       "-15"
      ]
     },
     "execution_count": 460,
     "metadata": {},
     "output_type": "execute_result"
    }
   ],
   "source": [
    "x1-x2#substraction"
   ]
  },
  {
   "cell_type": "code",
   "execution_count": 462,
   "id": "724ded8f-b855-45c2-bc52-548fbd3ac475",
   "metadata": {},
   "outputs": [
    {
     "data": {
      "text/plain": [
       "100"
      ]
     },
     "execution_count": 462,
     "metadata": {},
     "output_type": "execute_result"
    }
   ],
   "source": [
    "x1*x2#multiplication"
   ]
  },
  {
   "cell_type": "code",
   "execution_count": 464,
   "id": "fefc82ed-5e67-41a4-96a2-65ade9aba4fa",
   "metadata": {},
   "outputs": [
    {
     "data": {
      "text/plain": [
       "25"
      ]
     },
     "execution_count": 464,
     "metadata": {},
     "output_type": "execute_result"
    }
   ],
   "source": [
    "x1**2#power"
   ]
  },
  {
   "cell_type": "code",
   "execution_count": 466,
   "id": "ecc14955-cfcc-486c-9b51-6038ef3077e7",
   "metadata": {},
   "outputs": [
    {
     "data": {
      "text/plain": [
       "0.25"
      ]
     },
     "execution_count": 466,
     "metadata": {},
     "output_type": "execute_result"
    }
   ],
   "source": [
    "x1/x2#float division"
   ]
  },
  {
   "cell_type": "code",
   "execution_count": 468,
   "id": "50e51f17-df4d-4e6d-9ade-c001921cadd4",
   "metadata": {},
   "outputs": [
    {
     "data": {
      "text/plain": [
       "0"
      ]
     },
     "execution_count": 468,
     "metadata": {},
     "output_type": "execute_result"
    }
   ],
   "source": [
    "x1//x2#int division"
   ]
  },
  {
   "cell_type": "code",
   "execution_count": 470,
   "id": "4b28e8da-3eef-4830-9f0f-182c8f5fc288",
   "metadata": {},
   "outputs": [
    {
     "data": {
      "text/plain": [
       "5"
      ]
     },
     "execution_count": 470,
     "metadata": {},
     "output_type": "execute_result"
    }
   ],
   "source": [
    "x1"
   ]
  },
  {
   "cell_type": "code",
   "execution_count": 474,
   "id": "02d96314-9a82-4389-b12c-4e76a57f6d66",
   "metadata": {},
   "outputs": [
    {
     "data": {
      "text/plain": [
       "1"
      ]
     },
     "execution_count": 474,
     "metadata": {},
     "output_type": "execute_result"
    }
   ],
   "source": [
    "x1%2#Reminder"
   ]
  },
  {
   "cell_type": "code",
   "execution_count": 478,
   "id": "7a08835b-385e-45f2-bf18-f30e42526a3e",
   "metadata": {},
   "outputs": [
    {
     "data": {
      "text/plain": [
       "'\\nAssignment Operators: these operators are used to assignment something to anything( to variables).\\n'"
      ]
     },
     "execution_count": 478,
     "metadata": {},
     "output_type": "execute_result"
    }
   ],
   "source": [
    "\"\"\"\n",
    "Assignment Operators: these operators are used to assignment something to anything( to variables).\n",
    "\"\"\""
   ]
  },
  {
   "cell_type": "code",
   "execution_count": 480,
   "id": "a9d4acd3-cce3-41e9-b94d-537716495769",
   "metadata": {},
   "outputs": [],
   "source": [
    "x=1#assigning 1 to x variable."
   ]
  },
  {
   "cell_type": "code",
   "execution_count": 482,
   "id": "724f96dc-cad2-48b3-b444-45e809ab9672",
   "metadata": {},
   "outputs": [
    {
     "data": {
      "text/plain": [
       "2"
      ]
     },
     "execution_count": 482,
     "metadata": {},
     "output_type": "execute_result"
    }
   ],
   "source": [
    "x=x+1#increasing 1 to the value in x variable.\n",
    "x"
   ]
  },
  {
   "cell_type": "code",
   "execution_count": 484,
   "id": "a73faab7-c9b3-457b-8195-bc69a3eca955",
   "metadata": {},
   "outputs": [
    {
     "data": {
      "text/plain": [
       "3"
      ]
     },
     "execution_count": 484,
     "metadata": {},
     "output_type": "execute_result"
    }
   ],
   "source": [
    "x+=1#this is the alternate way for the above line.\n",
    "x"
   ]
  },
  {
   "cell_type": "code",
   "execution_count": 487,
   "id": "4a592eef-3743-4994-9d39-d9a8e95817a0",
   "metadata": {},
   "outputs": [
    {
     "data": {
      "text/plain": [
       "2"
      ]
     },
     "execution_count": 487,
     "metadata": {},
     "output_type": "execute_result"
    }
   ],
   "source": [
    "x=x-1#decreasing 1 from the value in x variable.\n",
    "x"
   ]
  },
  {
   "cell_type": "code",
   "execution_count": 489,
   "id": "263c6aac-9118-4317-b6be-d6fc5ef3b83c",
   "metadata": {},
   "outputs": [
    {
     "data": {
      "text/plain": [
       "1"
      ]
     },
     "execution_count": 489,
     "metadata": {},
     "output_type": "execute_result"
    }
   ],
   "source": [
    "x-=1#this is the alternate way for the above line.\n",
    "x"
   ]
  },
  {
   "cell_type": "code",
   "execution_count": 491,
   "id": "3b2340fe-dc76-4950-94e0-1b567476f6be",
   "metadata": {},
   "outputs": [
    {
     "data": {
      "text/plain": [
       "1"
      ]
     },
     "execution_count": 491,
     "metadata": {},
     "output_type": "execute_result"
    }
   ],
   "source": [
    "x=x*1#multipling the value in x with 1\n",
    "x"
   ]
  },
  {
   "cell_type": "code",
   "execution_count": 493,
   "id": "55d9c31c-29e1-47e0-b32d-e48124517b11",
   "metadata": {},
   "outputs": [
    {
     "data": {
      "text/plain": [
       "1"
      ]
     },
     "execution_count": 493,
     "metadata": {},
     "output_type": "execute_result"
    }
   ],
   "source": [
    "x*=1#the the alternate way for the above line\n",
    "x"
   ]
  },
  {
   "cell_type": "code",
   "execution_count": 495,
   "id": "0e45e99a-51e0-4a5e-87bf-1c90cccab66a",
   "metadata": {},
   "outputs": [
    {
     "data": {
      "text/plain": [
       "0.3333333333333333"
      ]
     },
     "execution_count": 495,
     "metadata": {},
     "output_type": "execute_result"
    }
   ],
   "source": [
    "x/=3\n",
    "x"
   ]
  },
  {
   "cell_type": "code",
   "execution_count": 497,
   "id": "973a4b12-7ca7-434e-8200-2386a968d8fe",
   "metadata": {},
   "outputs": [],
   "source": [
    "x//=1"
   ]
  },
  {
   "cell_type": "code",
   "execution_count": 499,
   "id": "fdc87905-fb5f-432b-9eb6-4f953671b9b9",
   "metadata": {},
   "outputs": [],
   "source": [
    "x**=2"
   ]
  },
  {
   "cell_type": "code",
   "execution_count": 501,
   "id": "75d8f0fc-8192-49a0-9ff4-c34592efd31f",
   "metadata": {},
   "outputs": [
    {
     "data": {
      "text/plain": [
       "0.0"
      ]
     },
     "execution_count": 501,
     "metadata": {},
     "output_type": "execute_result"
    }
   ],
   "source": [
    "x"
   ]
  },
  {
   "cell_type": "code",
   "execution_count": 504,
   "id": "c934cde0-92fe-4573-a338-1756ea70dd79",
   "metadata": {},
   "outputs": [
    {
     "data": {
      "text/plain": [
       "'\\nUnary Operators: these are having only one operator.\\n'"
      ]
     },
     "execution_count": 504,
     "metadata": {},
     "output_type": "execute_result"
    }
   ],
   "source": [
    "\"\"\"\n",
    "Unary Operators: these are having only one operator.\n",
    "\"\"\""
   ]
  },
  {
   "cell_type": "code",
   "execution_count": 506,
   "id": "c7012305-1d67-46ca-8b23-177cffd3bc98",
   "metadata": {},
   "outputs": [
    {
     "data": {
      "text/plain": [
       "7"
      ]
     },
     "execution_count": 506,
     "metadata": {},
     "output_type": "execute_result"
    }
   ],
   "source": [
    "n=7\n",
    "n"
   ]
  },
  {
   "cell_type": "code",
   "execution_count": 508,
   "id": "7250f4b7-e857-4423-bd89-b5aa594e4279",
   "metadata": {},
   "outputs": [
    {
     "data": {
      "text/plain": [
       "-7"
      ]
     },
     "execution_count": 508,
     "metadata": {},
     "output_type": "execute_result"
    }
   ],
   "source": [
    "n=-(n)#it is also known as negation.\n",
    "n"
   ]
  },
  {
   "cell_type": "code",
   "execution_count": 510,
   "id": "0027b998-ac71-4abf-8097-72b2decff585",
   "metadata": {},
   "outputs": [
    {
     "data": {
      "text/plain": [
       "'\\nRelational Operators: these operators are used to get the relationship between two operands.\\n-> these operators will return the boolean values(True/False).\\n'"
      ]
     },
     "execution_count": 510,
     "metadata": {},
     "output_type": "execute_result"
    }
   ],
   "source": [
    "\"\"\"\n",
    "Relational Operators: these operators are used to get the relationship between two operands.\n",
    "-> these operators will return the boolean values(True/False).\n",
    "\"\"\""
   ]
  },
  {
   "cell_type": "code",
   "execution_count": 512,
   "id": "381538bd-b2b8-407e-8174-fdcdd3998708",
   "metadata": {},
   "outputs": [],
   "source": [
    "a,b=20,40"
   ]
  },
  {
   "cell_type": "code",
   "execution_count": 514,
   "id": "15d92119-03aa-475f-8e40-4bbe2da145cf",
   "metadata": {},
   "outputs": [
    {
     "data": {
      "text/plain": [
       "20"
      ]
     },
     "execution_count": 514,
     "metadata": {},
     "output_type": "execute_result"
    }
   ],
   "source": [
    "a"
   ]
  },
  {
   "cell_type": "code",
   "execution_count": 516,
   "id": "5fd04a2b-9611-40a0-91af-cf819a91177a",
   "metadata": {},
   "outputs": [
    {
     "data": {
      "text/plain": [
       "40"
      ]
     },
     "execution_count": 516,
     "metadata": {},
     "output_type": "execute_result"
    }
   ],
   "source": [
    "b"
   ]
  },
  {
   "cell_type": "code",
   "execution_count": 518,
   "id": "29282294-bc26-4bdd-bd6d-8ebd53ade1e4",
   "metadata": {},
   "outputs": [
    {
     "data": {
      "text/plain": [
       "True"
      ]
     },
     "execution_count": 518,
     "metadata": {},
     "output_type": "execute_result"
    }
   ],
   "source": [
    "a<b#if the condition is satisfied then it will return True orelse it will return the False"
   ]
  },
  {
   "cell_type": "code",
   "execution_count": 520,
   "id": "443e2fe1-c572-4830-a8ce-a8b308e8d101",
   "metadata": {},
   "outputs": [
    {
     "data": {
      "text/plain": [
       "False"
      ]
     },
     "execution_count": 520,
     "metadata": {},
     "output_type": "execute_result"
    }
   ],
   "source": [
    "a>b"
   ]
  },
  {
   "cell_type": "code",
   "execution_count": 522,
   "id": "3a966ae5-9941-42ee-93c0-c5d382b7eb58",
   "metadata": {},
   "outputs": [
    {
     "data": {
      "text/plain": [
       "False"
      ]
     },
     "execution_count": 522,
     "metadata": {},
     "output_type": "execute_result"
    }
   ],
   "source": [
    "a==b#a not equal's to b"
   ]
  },
  {
   "cell_type": "code",
   "execution_count": 524,
   "id": "d8311438-41f2-4146-864c-578c84f4ca8d",
   "metadata": {},
   "outputs": [
    {
     "data": {
      "text/plain": [
       "True"
      ]
     },
     "execution_count": 524,
     "metadata": {},
     "output_type": "execute_result"
    }
   ],
   "source": [
    "a!=b#True, because a not equals to b"
   ]
  },
  {
   "cell_type": "code",
   "execution_count": 526,
   "id": "889fdf5b-dbda-4fa3-8b47-666d5698e040",
   "metadata": {},
   "outputs": [],
   "source": [
    "a=40"
   ]
  },
  {
   "cell_type": "code",
   "execution_count": 528,
   "id": "1d9bc9d3-9f84-45f0-96e3-eccd5913532c",
   "metadata": {},
   "outputs": [
    {
     "data": {
      "text/plain": [
       "True"
      ]
     },
     "execution_count": 528,
     "metadata": {},
     "output_type": "execute_result"
    }
   ],
   "source": [
    "a==b"
   ]
  },
  {
   "cell_type": "code",
   "execution_count": 530,
   "id": "c50ce64a-c059-4cfd-8485-06684392cd47",
   "metadata": {},
   "outputs": [
    {
     "data": {
      "text/plain": [
       "(40, 40)"
      ]
     },
     "execution_count": 530,
     "metadata": {},
     "output_type": "execute_result"
    }
   ],
   "source": [
    "a,b"
   ]
  },
  {
   "cell_type": "code",
   "execution_count": 532,
   "id": "9606a8ff-8e76-4d92-88a4-d757e95fe1ea",
   "metadata": {},
   "outputs": [
    {
     "data": {
      "text/plain": [
       "True"
      ]
     },
     "execution_count": 532,
     "metadata": {},
     "output_type": "execute_result"
    }
   ],
   "source": [
    "a>=b"
   ]
  },
  {
   "cell_type": "code",
   "execution_count": 534,
   "id": "010f181b-5a9f-4625-92ff-963854a4c888",
   "metadata": {},
   "outputs": [
    {
     "data": {
      "text/plain": [
       "True"
      ]
     },
     "execution_count": 534,
     "metadata": {},
     "output_type": "execute_result"
    }
   ],
   "source": [
    "a<=b"
   ]
  },
  {
   "cell_type": "code",
   "execution_count": 536,
   "id": "6f460a5c-ef71-40f2-8116-9fa7d18fd7b6",
   "metadata": {},
   "outputs": [
    {
     "data": {
      "text/plain": [
       "False"
      ]
     },
     "execution_count": 536,
     "metadata": {},
     "output_type": "execute_result"
    }
   ],
   "source": [
    "a!=b"
   ]
  },
  {
   "cell_type": "code",
   "execution_count": 538,
   "id": "ba3ebc2d-8b8c-451b-98d8-8b6fd8f0e7e4",
   "metadata": {},
   "outputs": [
    {
     "data": {
      "text/plain": [
       "False"
      ]
     },
     "execution_count": 538,
     "metadata": {},
     "output_type": "execute_result"
    }
   ],
   "source": [
    "a<b"
   ]
  },
  {
   "cell_type": "code",
   "execution_count": 540,
   "id": "1606156a-7bf9-42c1-bdc6-a130715f90ad",
   "metadata": {},
   "outputs": [
    {
     "data": {
      "text/plain": [
       "False"
      ]
     },
     "execution_count": 540,
     "metadata": {},
     "output_type": "execute_result"
    }
   ],
   "source": [
    "b<5"
   ]
  },
  {
   "cell_type": "code",
   "execution_count": 542,
   "id": "5f76f005-59f5-4445-befd-9416ad5961b7",
   "metadata": {},
   "outputs": [
    {
     "data": {
      "text/plain": [
       "'\\nLogical Operators: These operators are used to get the result based on more than one condition.\\n-> it will returns the boolean values (True/False)\\n-> we are having Logical AND, Logical OR, Logical Not. \\n\\ncondition1  AND  condition2\\nTrue           True          =       True\\nFalse          False         =       False\\nTrue           False         =       False\\nFalse          True          =       False\\n\\ncondition1  OR  condition2\\nTrue           True          =       True\\nFalse          False         =       False\\nTrue           False         =       True\\nFalse          True          =       True\\n\\n\\nNOT - condition\\nTrue = False\\nFalse= True\\n\\n\\n'"
      ]
     },
     "execution_count": 542,
     "metadata": {},
     "output_type": "execute_result"
    }
   ],
   "source": [
    "\"\"\"\n",
    "Logical Operators: These operators are used to get the result based on more than one condition.\n",
    "-> it will returns the boolean values (True/False)\n",
    "-> we are having Logical AND, Logical OR, Logical Not. \n",
    "\n",
    "condition1  AND  condition2\n",
    "True           True          =       True\n",
    "False          False         =       False\n",
    "True           False         =       False\n",
    "False          True          =       False\n",
    "\n",
    "condition1  OR  condition2\n",
    "True           True          =       True\n",
    "False          False         =       False\n",
    "True           False         =       True\n",
    "False          True          =       True\n",
    "\n",
    "\n",
    "NOT - condition\n",
    "True = False\n",
    "False= True\n",
    "\n",
    "\n",
    "\"\"\""
   ]
  },
  {
   "cell_type": "code",
   "execution_count": 544,
   "id": "d02e33e1-6968-42ca-afaa-40a389d7d730",
   "metadata": {},
   "outputs": [
    {
     "data": {
      "text/plain": [
       "(10, 20)"
      ]
     },
     "execution_count": 544,
     "metadata": {},
     "output_type": "execute_result"
    }
   ],
   "source": [
    "a,b=10,20\n",
    "a,b"
   ]
  },
  {
   "cell_type": "code",
   "execution_count": 548,
   "id": "6de7a23d-b9f6-4ac8-a89b-35175f9271d4",
   "metadata": {},
   "outputs": [
    {
     "data": {
      "text/plain": [
       "'\\nLogical Operators: These operators are used to get the result based on more than one condition.\\n-> it will returns the boolean values (True/False)\\n-> we are having Logical AND, Logical OR, Logical Not. \\n\\ncondition1  AND  condition2\\nTrue           True          =       True\\nFalse          False         =       False\\nTrue           False         =       False\\nFalse          True          =       False\\n\\ncondition1  OR  condition2\\nTrue           True          =       True\\nFalse          False         =       False\\nTrue           False         =       True\\nFalse          True          =       True\\n\\n\\nNOT - condition\\nTrue = False\\nFalse= True\\n\\n\\n'"
      ]
     },
     "execution_count": 548,
     "metadata": {},
     "output_type": "execute_result"
    }
   ],
   "source": [
    "\"\"\"\n",
    "Logical Operators: These operators are used to get the result based on more than one condition.\n",
    "-> it will returns the boolean values (True/False)\n",
    "-> we are having Logical AND, Logical OR, Logical Not. \n",
    "\n",
    "condition1  AND  condition2\n",
    "True           True          =       True\n",
    "False          False         =       False\n",
    "True           False         =       False\n",
    "False          True          =       False\n",
    "\n",
    "condition1  OR  condition2\n",
    "True           True          =       True\n",
    "False          False         =       False\n",
    "True           False         =       True\n",
    "False          True          =       True\n",
    "\n",
    "\n",
    "NOT - condition\n",
    "True = False\n",
    "False= True\n",
    "\n",
    "\n",
    "\"\"\""
   ]
  },
  {
   "cell_type": "code",
   "execution_count": 550,
   "id": "3edae3ec-e412-4b20-a430-48ed4326a9fa",
   "metadata": {},
   "outputs": [
    {
     "data": {
      "text/plain": [
       "(10, 20)"
      ]
     },
     "execution_count": 550,
     "metadata": {},
     "output_type": "execute_result"
    }
   ],
   "source": [
    "a,b=10,20\n",
    "a,b"
   ]
  },
  {
   "cell_type": "code",
   "execution_count": 552,
   "id": "61c20f38-e2d4-489d-b833-b32c28fe6946",
   "metadata": {},
   "outputs": [
    {
     "name": "stdout",
     "output_type": "stream",
     "text": [
      "False AND True = False\n",
      "True AND False = False\n",
      "True AND True = True\n",
      "False AND False = False\n"
     ]
    }
   ],
   "source": [
    "#and operator\n",
    "\"\"\"\n",
    "condition1  AND  condition2\n",
    "True           True          =       True\n",
    "False          False         =       False\n",
    "True           False         =       False\n",
    "False          True          =       False\n",
    "\"\"\"\n",
    "\n",
    "print(a>b,\"AND\",b>a,\"=\",a>b and b>a)\n",
    "print(a<b,\"AND\",b<a,\"=\",a<b and b<a)\n",
    "print(a<b,\"AND\",b>a,\"=\",a<b and b>a)\n",
    "print(a>b,\"AND\",b<a,\"=\",a>b and b<a)"
   ]
  },
  {
   "cell_type": "code",
   "execution_count": 554,
   "id": "bfb07d40-d9ee-40b1-bccd-90680184d717",
   "metadata": {},
   "outputs": [
    {
     "data": {
      "text/plain": [
       "(10, 20)"
      ]
     },
     "execution_count": 554,
     "metadata": {},
     "output_type": "execute_result"
    }
   ],
   "source": [
    "a,b"
   ]
  },
  {
   "cell_type": "code",
   "execution_count": 556,
   "id": "e88e12fa-d233-4f5f-ae48-d0b0e636144f",
   "metadata": {},
   "outputs": [
    {
     "name": "stdout",
     "output_type": "stream",
     "text": [
      "True  or  True  =  True\n",
      "False  or  False  =  False\n",
      "True  or  False  =  True\n",
      "False  or  True  =  True\n"
     ]
    }
   ],
   "source": [
    "#or operator\n",
    "\"\"\"\n",
    "condition1  OR  condition2\n",
    "True           True          =       True\n",
    "False          False         =       False\n",
    "True           False         =       True\n",
    "False          True          =       True\n",
    "\"\"\"\n",
    "\n",
    "print(a<b,\" or \", b>a,\" = \",a<b or b>a)\n",
    "print(a>b,\" or \", b<a,\" = \",a>b or b<a)\n",
    "print(a<b,\" or \", b<a,\" = \",a<b or b<a)\n",
    "print(a>b,\" or \", b>a,\" = \",a>b or b>a)"
   ]
  },
  {
   "cell_type": "code",
   "execution_count": 558,
   "id": "25180ab8-2ba3-41bd-9faa-79233a72e91a",
   "metadata": {},
   "outputs": [
    {
     "data": {
      "text/plain": [
       "True"
      ]
     },
     "execution_count": 558,
     "metadata": {},
     "output_type": "execute_result"
    }
   ],
   "source": [
    "a>b or b>a#False or True =True"
   ]
  },
  {
   "cell_type": "code",
   "execution_count": 560,
   "id": "72aa2387-fcd2-4a6b-94b5-2ab43732f03d",
   "metadata": {},
   "outputs": [
    {
     "data": {
      "text/plain": [
       "'\\nNOT - condition\\nTrue = False\\nFalse= True\\n'"
      ]
     },
     "execution_count": 560,
     "metadata": {},
     "output_type": "execute_result"
    }
   ],
   "source": [
    "#not operator\n",
    "\"\"\"\n",
    "NOT - condition\n",
    "True = False\n",
    "False= True\n",
    "\"\"\""
   ]
  },
  {
   "cell_type": "code",
   "execution_count": 562,
   "id": "86135490-3537-4b3d-93d1-59e9569a59e8",
   "metadata": {},
   "outputs": [
    {
     "data": {
      "text/plain": [
       "True"
      ]
     },
     "execution_count": 562,
     "metadata": {},
     "output_type": "execute_result"
    }
   ],
   "source": [
    "x=True\n",
    "x"
   ]
  },
  {
   "cell_type": "code",
   "execution_count": 564,
   "id": "9d807859-9b19-4ed1-9869-1cf635f670be",
   "metadata": {},
   "outputs": [
    {
     "data": {
      "text/plain": [
       "False"
      ]
     },
     "execution_count": 564,
     "metadata": {},
     "output_type": "execute_result"
    }
   ],
   "source": [
    "not x"
   ]
  },
  {
   "cell_type": "code",
   "execution_count": 566,
   "id": "56a37da7-0ec6-4cd1-ad72-7d537c19bdc0",
   "metadata": {},
   "outputs": [
    {
     "data": {
      "text/plain": [
       "True"
      ]
     },
     "execution_count": 566,
     "metadata": {},
     "output_type": "execute_result"
    }
   ],
   "source": [
    "not (not x)"
   ]
  },
  {
   "cell_type": "code",
   "execution_count": 568,
   "id": "d02d9d88-59c4-4819-a44d-2550095f252d",
   "metadata": {},
   "outputs": [],
   "source": [
    "#python operators are completed."
   ]
  },
  {
   "cell_type": "code",
   "execution_count": 570,
   "id": "0fea66e1-ed0a-4c44-914e-a3597e2ea8ca",
   "metadata": {},
   "outputs": [
    {
     "data": {
      "text/plain": [
       "'\\nnumber system: in number system we are having binary, octal, decimal, hexadecimal.\\nbinary-(base 2)-->0, 1.\\noctal-(base 8)-->0,1,2,3,4,5,6,7.\\ndecimal-(base 10)-->0,1,2,3,4,5,6,7,8,9.\\nhexadecimal-(base 16)-->0,1,2,3,4,5,6,7,8,9,A,B,C,D,E,F.\\n'"
      ]
     },
     "execution_count": 570,
     "metadata": {},
     "output_type": "execute_result"
    }
   ],
   "source": [
    "\"\"\"\n",
    "number system: in number system we are having binary, octal, decimal, hexadecimal.\n",
    "binary-(base 2)-->0, 1.\n",
    "octal-(base 8)-->0,1,2,3,4,5,6,7.\n",
    "decimal-(base 10)-->0,1,2,3,4,5,6,7,8,9.\n",
    "hexadecimal-(base 16)-->0,1,2,3,4,5,6,7,8,9,A,B,C,D,E,F.\n",
    "\"\"\""
   ]
  },
  {
   "cell_type": "code",
   "execution_count": 572,
   "id": "b187bb95-6860-4434-b9dd-c7314744d1d6",
   "metadata": {},
   "outputs": [
    {
     "data": {
      "text/plain": [
       "'0b10101'"
      ]
     },
     "execution_count": 572,
     "metadata": {},
     "output_type": "execute_result"
    }
   ],
   "source": [
    "\n",
    "\"\"\"\n",
    "2|21\n",
    "____\n",
    "2|10 1\n",
    "____\n",
    "2|5  0\n",
    "____\n",
    "2|2  1\n",
    "____\n",
    " |1  0\n",
    " \n",
    "from bottom, we have to combine the numbers -->10101.\n",
    "\"\"\"\n",
    "bin(21)#it will returns the binary form of 21."
   ]
  },
  {
   "cell_type": "code",
   "execution_count": 574,
   "id": "0f929f73-0dac-4c28-a29d-66e6f375df72",
   "metadata": {},
   "outputs": [
    {
     "data": {
      "text/plain": [
       "'0b110111'"
      ]
     },
     "execution_count": 574,
     "metadata": {},
     "output_type": "execute_result"
    }
   ],
   "source": [
    "bin(55)"
   ]
  },
  {
   "cell_type": "code",
   "execution_count": 576,
   "id": "cbe74622-e543-48ba-8609-072ef514859a",
   "metadata": {},
   "outputs": [
    {
     "data": {
      "text/plain": [
       "'0o32'"
      ]
     },
     "execution_count": 576,
     "metadata": {},
     "output_type": "execute_result"
    }
   ],
   "source": [
    "\"\"\"\n",
    "similarly octal is like\n",
    "8|26\n",
    "____\n",
    " |3  2\n",
    "\"\"\"\n",
    "oct(26)#so the octal form of 26 is 32\n"
   ]
  },
  {
   "cell_type": "code",
   "execution_count": 578,
   "id": "7b828335-537c-4119-9b07-abddc5ac342a",
   "metadata": {},
   "outputs": [
    {
     "data": {
      "text/plain": [
       "'0o31'"
      ]
     },
     "execution_count": 578,
     "metadata": {},
     "output_type": "execute_result"
    }
   ],
   "source": [
    "oct(25)"
   ]
  },
  {
   "cell_type": "code",
   "execution_count": 580,
   "id": "1848356d-82b0-423f-905c-4f9133c06f81",
   "metadata": {},
   "outputs": [
    {
     "name": "stdout",
     "output_type": "stream",
     "text": [
      "25\n"
     ]
    }
   ],
   "source": [
    "\"\"\"\n",
    "we learnt the conversion of number to binary form and number to octal form\n",
    "\n",
    "now\n",
    "    conversion of binary to number\n",
    "    ob11001 is?\n",
    "    we know \n",
    "    2**4, 2**3, 2**2, 2**1, 2**0\n",
    "    =>16,8,4,2,1\n",
    "       1 1 0 0 1\n",
    "    adding the 1's => 16+8+1=25\n",
    "\"\"\"\n",
    "\n",
    "print(0b11001)#it is internally converted."
   ]
  },
  {
   "cell_type": "code",
   "execution_count": 582,
   "id": "917443bd-0b49-4195-bdba-9d6dc5dd8c34",
   "metadata": {},
   "outputs": [
    {
     "data": {
      "text/plain": [
       "25"
      ]
     },
     "execution_count": 582,
     "metadata": {},
     "output_type": "execute_result"
    }
   ],
   "source": [
    "int(0b11001)"
   ]
  },
  {
   "cell_type": "code",
   "execution_count": 584,
   "id": "c360d848-4b65-4c7e-b61b-38f4489bfd07",
   "metadata": {},
   "outputs": [
    {
     "data": {
      "text/plain": [
       "'0o31'"
      ]
     },
     "execution_count": 584,
     "metadata": {},
     "output_type": "execute_result"
    }
   ],
   "source": [
    "#similarly \n",
    "oct(25)#number to octal"
   ]
  },
  {
   "cell_type": "code",
   "execution_count": 586,
   "id": "fee074b5-e80d-4a6c-b841-464be94e5631",
   "metadata": {},
   "outputs": [
    {
     "data": {
      "text/plain": [
       "25"
      ]
     },
     "execution_count": 586,
     "metadata": {},
     "output_type": "execute_result"
    }
   ],
   "source": [
    "\"\"\"\n",
    "0o31 is written as 3(8**1), 1(8**0)\n",
    "                      3(8)+1(1) = 24+1=25\n",
    "\"\"\"\n",
    "\n",
    "int(0o31)#octal to number"
   ]
  },
  {
   "cell_type": "code",
   "execution_count": 588,
   "id": "98d3a266-786f-429b-a200-e4e58456a8e2",
   "metadata": {},
   "outputs": [
    {
     "data": {
      "text/plain": [
       "'0x19'"
      ]
     },
     "execution_count": 588,
     "metadata": {},
     "output_type": "execute_result"
    }
   ],
   "source": [
    "#similarly for hexadecimal.\n",
    "\"\"\"\n",
    "16|25\n",
    "_____\n",
    "  |1  9\n",
    "\"\"\"\n",
    "hex(25)#so it is 0x19"
   ]
  },
  {
   "cell_type": "code",
   "execution_count": 590,
   "id": "2775dd4b-dbaf-45d4-a942-6bb91e7072b1",
   "metadata": {},
   "outputs": [
    {
     "data": {
      "text/plain": [
       "25"
      ]
     },
     "execution_count": 590,
     "metadata": {},
     "output_type": "execute_result"
    }
   ],
   "source": [
    "\"\"\"\n",
    "=1(16**1),9(16**0)\n",
    "=1(16),9(1)\n",
    "=16+9=25.\n",
    "\"\"\"\n",
    "int(0x19)#it is 25."
   ]
  },
  {
   "cell_type": "code",
   "execution_count": 592,
   "id": "e4cc793c-a3e3-4d3d-8c5b-20ca5a8bd720",
   "metadata": {},
   "outputs": [
    {
     "data": {
      "text/plain": [
       "10"
      ]
     },
     "execution_count": 592,
     "metadata": {},
     "output_type": "execute_result"
    }
   ],
   "source": [
    "a"
   ]
  },
  {
   "cell_type": "code",
   "execution_count": 594,
   "id": "523064d0-0ba2-47ae-8ef1-2e93a34342cf",
   "metadata": {},
   "outputs": [
    {
     "data": {
      "text/plain": [
       "'0xa'"
      ]
     },
     "execution_count": 594,
     "metadata": {},
     "output_type": "execute_result"
    }
   ],
   "source": [
    "hex(a)"
   ]
  },
  {
   "cell_type": "code",
   "execution_count": 596,
   "id": "24fc7fce-51b1-4ce6-84c6-cf395dc9285f",
   "metadata": {},
   "outputs": [
    {
     "data": {
      "text/plain": [
       "'0x14'"
      ]
     },
     "execution_count": 596,
     "metadata": {},
     "output_type": "execute_result"
    }
   ],
   "source": [
    "hex(b)"
   ]
  },
  {
   "cell_type": "code",
   "execution_count": 598,
   "id": "a01e83d3-d389-43ed-a2c0-56169fcc0373",
   "metadata": {},
   "outputs": [
    {
     "data": {
      "text/plain": [
       "'0x6a'"
      ]
     },
     "execution_count": 598,
     "metadata": {},
     "output_type": "execute_result"
    }
   ],
   "source": [
    "hex(c)"
   ]
  },
  {
   "cell_type": "markdown",
   "id": "ad0b5b0d-0800-41e2-a308-c57c639a0b6c",
   "metadata": {},
   "source": [
    "# Swapping Two Variables"
   ]
  },
  {
   "cell_type": "code",
   "execution_count": 601,
   "id": "1c444f70-0bd2-48fa-a22a-d24a85c9f442",
   "metadata": {},
   "outputs": [],
   "source": [
    "#Swapping:- it means exchanging the values of two variables together."
   ]
  },
  {
   "cell_type": "code",
   "execution_count": 603,
   "id": "6cdbffcf-c517-4084-a6d4-5d2f48b4a9b0",
   "metadata": {},
   "outputs": [
    {
     "name": "stdout",
     "output_type": "stream",
     "text": [
      "a= 6\n",
      "b=  6\n"
     ]
    }
   ],
   "source": [
    "a=5\n",
    "b=6\n",
    "\n",
    "\"\"\"\n",
    "Goal: if we print a and b, then a must show 6 and b must show 5.\n",
    "\"\"\"\n",
    "\n",
    "a=b\n",
    "b=a\n",
    "print('a=',a)\n",
    "print('b= ',b)"
   ]
  },
  {
   "cell_type": "code",
   "execution_count": 607,
   "id": "75bc75ab-d327-40b4-8b76-390194be66a7",
   "metadata": {},
   "outputs": [],
   "source": [
    "#by doing above process we losed 5. So that process is not correct."
   ]
  },
  {
   "cell_type": "code",
   "execution_count": 609,
   "id": "252cb7b5-1991-41ca-9429-cb9e8e193535",
   "metadata": {},
   "outputs": [],
   "source": [
    "#to overcome this problem, we can use below ways."
   ]
  },
  {
   "cell_type": "code",
   "execution_count": 613,
   "id": "d23f3cc0-9064-4da7-b81c-baa667ec7d1f",
   "metadata": {},
   "outputs": [
    {
     "name": "stdout",
     "output_type": "stream",
     "text": [
      "a= 6\n",
      "b=  5\n"
     ]
    }
   ],
   "source": [
    "#Using Third Variable\n",
    "\n",
    "a=5\n",
    "b=6\n",
    "\n",
    "temp=a#third variable\n",
    "a=b\n",
    "b=temp\n",
    "print('a=',a)\n",
    "print('b= ',b)"
   ]
  },
  {
   "cell_type": "code",
   "execution_count": 617,
   "id": "219b9374-d2bd-44ab-aee8-ae97b935897b",
   "metadata": {},
   "outputs": [
    {
     "name": "stdout",
     "output_type": "stream",
     "text": [
      "a= 6\n",
      "b=  15\n"
     ]
    }
   ],
   "source": [
    "\"\"\"\n",
    "Q) Can we swap without using third variable?\n",
    "A) Yes, We can.\n",
    "\"\"\"\n",
    "\n",
    "a=15\n",
    "b=6\n",
    "\n",
    "a=a+b\n",
    "b=a-b\n",
    "a=a-b\n",
    "\n",
    "print('a=',a)\n",
    "print('b= ',b)"
   ]
  },
  {
   "cell_type": "code",
   "execution_count": 621,
   "id": "0176b388-020b-45f9-805b-83a59be26b91",
   "metadata": {},
   "outputs": [
    {
     "name": "stdout",
     "output_type": "stream",
     "text": [
      "a= 5\n",
      "b=  10\n"
     ]
    }
   ],
   "source": [
    "#Another Way\n",
    "\n",
    "#It is by using XOR Or Exclusive Or. It is represented by using ^.\n",
    "\n",
    "#For better explanation refer the Notes.\n",
    "a=10\n",
    "b=5\n",
    "\n",
    "a=a^b\n",
    "b=a^b\n",
    "a=a^b\n",
    "print('a=',a)\n",
    "print('b= ',b)"
   ]
  },
  {
   "cell_type": "code",
   "execution_count": 625,
   "id": "3b3aa0a5-9292-4539-ab50-b99d779d0106",
   "metadata": {},
   "outputs": [
    {
     "name": "stdout",
     "output_type": "stream",
     "text": [
      "a= 30\n",
      "b=  20\n"
     ]
    }
   ],
   "source": [
    "#Another Way\n",
    "#easiest method\n",
    "a=20\n",
    "b=30\n",
    "\n",
    "a,b=b,a\n",
    "print('a=',a)\n",
    "print('b= ',b)"
   ]
  },
  {
   "cell_type": "code",
   "execution_count": 629,
   "id": "bf8435ec-5715-4f87-95f5-4774b11df515",
   "metadata": {},
   "outputs": [
    {
     "data": {
      "text/plain": [
       "'\\nQ) Why we need to use python decorator?\\nA) In an organization, if we are doing an project, the pyhton decorator will plays an important.\\n'"
      ]
     },
     "execution_count": 629,
     "metadata": {},
     "output_type": "execute_result"
    }
   ],
   "source": [
    "#These swapping techniques are used to learn/use the python decorators.\n",
    "\n",
    "\"\"\"\n",
    "Q) Why we need to use python decorator?\n",
    "A) In an organization, if we are doing an project, the pyhton decorator will plays an important.\n",
    "\"\"\""
   ]
  },
  {
   "cell_type": "code",
   "execution_count": null,
   "id": "3224bb3e-aeb4-4f2b-b8b0-9a43592c2678",
   "metadata": {},
   "outputs": [],
   "source": [
    "\"\"\"\n",
    "Bitwise Operators:\n",
    "-These are the special symbols that are used to perform some specific operations.\n",
    "-In bitwise operators, we are having 6 operators\n",
    "   1-complement(~)\n",
    "   2-bitwise Or(|)\n",
    "   3-bitwise And(&)\n",
    "   4-XOR(^)\n",
    "   5-bitewise leftshift(<<)\n",
    "   6-bitewise Rightshift(>>)\n",
    "\"\"\""
   ]
  },
  {
   "cell_type": "code",
   "execution_count": null,
   "id": "0db6fe06-1940-481e-851c-a9aada0db7df",
   "metadata": {},
   "outputs": [],
   "source": []
  },
  {
   "cell_type": "code",
   "execution_count": null,
   "id": "b204986e-58b2-4144-902d-821cd25b139a",
   "metadata": {},
   "outputs": [],
   "source": []
  }
 ],
 "metadata": {
  "kernelspec": {
   "display_name": "Python [conda env:base] *",
   "language": "python",
   "name": "conda-base-py"
  },
  "language_info": {
   "codemirror_mode": {
    "name": "ipython",
    "version": 3
   },
   "file_extension": ".py",
   "mimetype": "text/x-python",
   "name": "python",
   "nbconvert_exporter": "python",
   "pygments_lexer": "ipython3",
   "version": "3.12.7"
  }
 },
 "nbformat": 4,
 "nbformat_minor": 5
}
