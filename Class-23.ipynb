{
 "cells": [
  {
   "cell_type": "markdown",
   "id": "1f1c50e6-9188-4b47-ab6b-14c6f200ae55",
   "metadata": {},
   "source": [
    "# Bitwise Operators"
   ]
  },
  {
   "cell_type": "code",
   "execution_count": 2,
   "id": "d10d7f93-50d4-4610-8eb2-7445cbe94602",
   "metadata": {},
   "outputs": [
    {
     "data": {
      "text/plain": [
       "'\\n1-Complement(~)\\n2-bitewise And(&)\\n3-bitwise Or(|)\\n4-bitwise XOR(^)\\n5-bitwise leftshift(<<)\\n6-bitwise rightshift(>>)\\n'"
      ]
     },
     "execution_count": 2,
     "metadata": {},
     "output_type": "execute_result"
    }
   ],
   "source": [
    "#These are the special symbols that are used to perform specific operations\n",
    "#We are having 6 bitwise operators\n",
    "\"\"\"\n",
    "1-Complement(~)\n",
    "2-bitewise And(&)\n",
    "3-bitwise Or(|)\n",
    "4-bitwise XOR(^)\n",
    "5-bitwise leftshift(<<)\n",
    "6-bitwise rightshift(>>)\n",
    "\"\"\""
   ]
  },
  {
   "cell_type": "code",
   "execution_count": 3,
   "id": "38ebecbf-26d7-4a12-bd01-9bfb267c7451",
   "metadata": {},
   "outputs": [
    {
     "data": {
      "text/plain": [
       "'\\nComplement:-\\n- Complement means it is the reverse of binary format. like the complement of 0 is 1 and complement of 1 is 0.\\n-it is represented with ~\\n-some of the examples are given below.\\n'"
      ]
     },
     "execution_count": 3,
     "metadata": {},
     "output_type": "execute_result"
    }
   ],
   "source": [
    "\"\"\"\n",
    "Complement:-\n",
    "- Complement means it is the reverse of binary format. like the complement of 0 is 1 and complement of 1 is 0.\n",
    "-it is represented with ~\n",
    "-some of the examples are given below.\n",
    "\"\"\""
   ]
  },
  {
   "cell_type": "code",
   "execution_count": 4,
   "id": "e58c7ce6-0bcc-4166-8051-b6fc813de745",
   "metadata": {},
   "outputs": [
    {
     "data": {
      "text/plain": [
       "-16"
      ]
     },
     "execution_count": 4,
     "metadata": {},
     "output_type": "execute_result"
    }
   ],
   "source": [
    "~15"
   ]
  },
  {
   "cell_type": "code",
   "execution_count": 5,
   "id": "510857cd-3111-4d41-b9e1-01112cb0b065",
   "metadata": {},
   "outputs": [
    {
     "data": {
      "text/plain": [
       "-41"
      ]
     },
     "execution_count": 5,
     "metadata": {},
     "output_type": "execute_result"
    }
   ],
   "source": [
    "~40"
   ]
  },
  {
   "cell_type": "code",
   "execution_count": 6,
   "id": "380513dc-76e1-4882-8587-9e73cc2d85c5",
   "metadata": {
    "scrolled": true
   },
   "outputs": [
    {
     "data": {
      "text/plain": [
       "-101"
      ]
     },
     "execution_count": 6,
     "metadata": {},
     "output_type": "execute_result"
    }
   ],
   "source": [
    "~100"
   ]
  },
  {
   "cell_type": "code",
   "execution_count": 7,
   "id": "530f60cd-f127-452e-9ea1-5f037ef31555",
   "metadata": {},
   "outputs": [
    {
     "data": {
      "text/plain": [
       "0"
      ]
     },
     "execution_count": 7,
     "metadata": {},
     "output_type": "execute_result"
    }
   ],
   "source": [
    "#similarly \n",
    "~-1"
   ]
  },
  {
   "cell_type": "code",
   "execution_count": 8,
   "id": "b001f591-ca8f-4bc8-af34-ded0f589cb79",
   "metadata": {},
   "outputs": [
    {
     "data": {
      "text/plain": [
       "39"
      ]
     },
     "execution_count": 8,
     "metadata": {},
     "output_type": "execute_result"
    }
   ],
   "source": [
    "~-40"
   ]
  },
  {
   "cell_type": "code",
   "execution_count": 9,
   "id": "70860f14-3e48-4f44-a310-26ea7cc5884b",
   "metadata": {},
   "outputs": [
    {
     "data": {
      "text/plain": [
       "99"
      ]
     },
     "execution_count": 9,
     "metadata": {},
     "output_type": "execute_result"
    }
   ],
   "source": [
    "~-100"
   ]
  },
  {
   "cell_type": "code",
   "execution_count": 10,
   "id": "1e556e18-7b19-4488-9b9c-2647eb30bec3",
   "metadata": {},
   "outputs": [
    {
     "data": {
      "text/plain": [
       "'\\nx & y => xy\\n0 & 0 => 0\\n0 & 1 => 0\\n1 & 0 => 0\\n1 & 1 => 1\\n'"
      ]
     },
     "execution_count": 10,
     "metadata": {},
     "output_type": "execute_result"
    }
   ],
   "source": [
    "#Bitwise And Operator:\n",
    "# it is similar to logical And.\n",
    "# it is represented with &.\n",
    "# it will work according to the below table.\n",
    "\"\"\"\n",
    "x & y => xy\n",
    "0 & 0 => 0\n",
    "0 & 1 => 0\n",
    "1 & 0 => 0\n",
    "1 & 1 => 1\n",
    "\"\"\""
   ]
  },
  {
   "cell_type": "code",
   "execution_count": 11,
   "id": "a0e33989-cc65-4e1d-bba1-8f10843ef6f0",
   "metadata": {},
   "outputs": [
    {
     "data": {
      "text/plain": [
       "'\\nExample: Let us assume x=12 and y=13\\n\\nbinary form of x = 12=> 00001100\\nbinary form of y = 13=> 00001101\\nAccording above table=> ________\\n                        00001100 => number form is=> 12\\nso the output is 12 \\n'"
      ]
     },
     "execution_count": 11,
     "metadata": {},
     "output_type": "execute_result"
    }
   ],
   "source": [
    "\"\"\"\n",
    "Example: Let us assume x=12 and y=13\n",
    "\n",
    "binary form of x = 12=> 00001100\n",
    "binary form of y = 13=> 00001101\n",
    "According above table=> ________\n",
    "                        00001100 => number form is=> 12\n",
    "so the output is 12 \n",
    "\"\"\""
   ]
  },
  {
   "cell_type": "code",
   "execution_count": 12,
   "id": "d30d0f12-a0b1-4943-9a71-ecce22ece394",
   "metadata": {},
   "outputs": [
    {
     "data": {
      "text/plain": [
       "12"
      ]
     },
     "execution_count": 12,
     "metadata": {},
     "output_type": "execute_result"
    }
   ],
   "source": [
    " 12&13"
   ]
  },
  {
   "cell_type": "code",
   "execution_count": 13,
   "id": "1172189b-cde6-4aaf-a537-4a5b0c145257",
   "metadata": {},
   "outputs": [
    {
     "name": "stdout",
     "output_type": "stream",
     "text": [
      "12\n",
      "9\n"
     ]
    }
   ],
   "source": [
    "print(12&13)\n",
    "print(25&15)"
   ]
  },
  {
   "cell_type": "code",
   "execution_count": 14,
   "id": "6ab2ca07-fc7a-419e-af88-931a81abad5b",
   "metadata": {},
   "outputs": [
    {
     "data": {
      "text/plain": [
       "2"
      ]
     },
     "execution_count": 14,
     "metadata": {},
     "output_type": "execute_result"
    }
   ],
   "source": [
    "66&55"
   ]
  },
  {
   "cell_type": "code",
   "execution_count": 15,
   "id": "8384408e-39a5-4669-a2db-4652fd0bfd37",
   "metadata": {},
   "outputs": [
    {
     "data": {
      "text/plain": [
       "'\\nx | y => xy\\n0 | 0 => 0\\n0 | 1 => 1\\n1 | 0 => 1\\n1 | 1 => 1\\n'"
      ]
     },
     "execution_count": 15,
     "metadata": {},
     "output_type": "execute_result"
    }
   ],
   "source": [
    "#Bitwise OR:\n",
    "# it is similar to bitwise And.\n",
    "# But it will work based on below table\n",
    "# it is represented with |\n",
    "\"\"\"\n",
    "x | y => xy\n",
    "0 | 0 => 0\n",
    "0 | 1 => 1\n",
    "1 | 0 => 1\n",
    "1 | 1 => 1\n",
    "\"\"\""
   ]
  },
  {
   "cell_type": "code",
   "execution_count": 16,
   "id": "bdfa5412-05c5-41fa-ad54-fff26ecb5a77",
   "metadata": {},
   "outputs": [
    {
     "data": {
      "text/plain": [
       "'\\nExample: Let us assume x=12 and y=13\\n\\nbinary form of x = 12=> 00001100\\nbinary form of y = 13=> 00001101\\nAccording above table=> ________\\n                        00001101 => number form is=> 13\\nso the output is 13\\n'"
      ]
     },
     "execution_count": 16,
     "metadata": {},
     "output_type": "execute_result"
    }
   ],
   "source": [
    "\"\"\"\n",
    "Example: Let us assume x=12 and y=13\n",
    "\n",
    "binary form of x = 12=> 00001100\n",
    "binary form of y = 13=> 00001101\n",
    "According above table=> ________\n",
    "                        00001101 => number form is=> 13\n",
    "so the output is 13\n",
    "\"\"\""
   ]
  },
  {
   "cell_type": "code",
   "execution_count": 17,
   "id": "9f8ba5fd-639e-4f3b-8e03-689306eb69ea",
   "metadata": {},
   "outputs": [
    {
     "data": {
      "text/plain": [
       "13"
      ]
     },
     "execution_count": 17,
     "metadata": {},
     "output_type": "execute_result"
    }
   ],
   "source": [
    "#Example\n",
    "\n",
    "12|13"
   ]
  },
  {
   "cell_type": "code",
   "execution_count": 18,
   "id": "78c1502a-0b31-4f93-82dd-cc55ecd6ed5b",
   "metadata": {},
   "outputs": [
    {
     "name": "stdout",
     "output_type": "stream",
     "text": [
      "13\n"
     ]
    }
   ],
   "source": [
    "print(13|12)"
   ]
  },
  {
   "cell_type": "code",
   "execution_count": 19,
   "id": "e665baea-acfd-482c-9587-8a3a3494eb37",
   "metadata": {},
   "outputs": [
    {
     "data": {
      "text/plain": [
       "63"
      ]
     },
     "execution_count": 19,
     "metadata": {},
     "output_type": "execute_result"
    }
   ],
   "source": [
    "55|58"
   ]
  },
  {
   "cell_type": "code",
   "execution_count": 20,
   "id": "7151fa19-348d-418e-8567-364ec4868212",
   "metadata": {},
   "outputs": [
    {
     "data": {
      "text/plain": [
       "126"
      ]
     },
     "execution_count": 20,
     "metadata": {},
     "output_type": "execute_result"
    }
   ],
   "source": [
    "46|88"
   ]
  },
  {
   "cell_type": "code",
   "execution_count": 21,
   "id": "1bcb3ac9-a44d-4b32-b15f-7581b1e69962",
   "metadata": {},
   "outputs": [
    {
     "data": {
      "text/plain": [
       "'\\nx ^ y = xy\\n0 ^ 0 => 0\\n1 ^ 0 => 1\\n0 ^ 1 => 1\\n1 ^ 1 => 0\\n'"
      ]
     },
     "execution_count": 21,
     "metadata": {},
     "output_type": "execute_result"
    }
   ],
   "source": [
    "#Bitwsie XOR:-\n",
    "# it is also similar to &, |\n",
    "# But it will work based on below table\n",
    "# It is represented with ^.\n",
    "\"\"\"\n",
    "x ^ y = xy\n",
    "0 ^ 0 => 0\n",
    "1 ^ 0 => 1\n",
    "0 ^ 1 => 1\n",
    "1 ^ 1 => 0\n",
    "\"\"\""
   ]
  },
  {
   "cell_type": "code",
   "execution_count": 22,
   "id": "a01f3da4-0c92-4267-a14d-3707c68a5710",
   "metadata": {},
   "outputs": [
    {
     "data": {
      "text/plain": [
       "'\\nExample: Let us assume x=12 and y=13\\n\\nbinary form of x = 12=> 00001100\\nbinary form of y = 13=> 00001101\\nAccording above table=> ________\\n                        00000001 => number form is=> 1\\nso the output is 1 \\n'"
      ]
     },
     "execution_count": 22,
     "metadata": {},
     "output_type": "execute_result"
    }
   ],
   "source": [
    "\"\"\"\n",
    "Example: Let us assume x=12 and y=13\n",
    "\n",
    "binary form of x = 12=> 00001100\n",
    "binary form of y = 13=> 00001101\n",
    "According above table=> ________\n",
    "                        00000001 => number form is=> 1\n",
    "so the output is 1 \n",
    "\"\"\""
   ]
  },
  {
   "cell_type": "code",
   "execution_count": 23,
   "id": "7c9b3f8e-c509-4369-beca-21da985f9d05",
   "metadata": {},
   "outputs": [
    {
     "data": {
      "text/plain": [
       "1"
      ]
     },
     "execution_count": 23,
     "metadata": {},
     "output_type": "execute_result"
    }
   ],
   "source": [
    "12^13"
   ]
  },
  {
   "cell_type": "code",
   "execution_count": 24,
   "id": "15c2f437-7ebf-4899-8906-cf1f6f35091e",
   "metadata": {},
   "outputs": [
    {
     "data": {
      "text/plain": [
       "50"
      ]
     },
     "execution_count": 24,
     "metadata": {},
     "output_type": "execute_result"
    }
   ],
   "source": [
    "55^5"
   ]
  },
  {
   "cell_type": "code",
   "execution_count": 25,
   "id": "490ee77f-02cd-4c7d-8ccb-b26f1071dd04",
   "metadata": {},
   "outputs": [
    {
     "data": {
      "text/plain": [
       "67"
      ]
     },
     "execution_count": 25,
     "metadata": {},
     "output_type": "execute_result"
    }
   ],
   "source": [
    "89^26"
   ]
  },
  {
   "cell_type": "code",
   "execution_count": 26,
   "id": "b43dcdbe-799c-43be-ba1c-464632ea791f",
   "metadata": {},
   "outputs": [
    {
     "data": {
      "text/plain": [
       "11"
      ]
     },
     "execution_count": 26,
     "metadata": {},
     "output_type": "execute_result"
    }
   ],
   "source": [
    "9^2"
   ]
  },
  {
   "cell_type": "code",
   "execution_count": 27,
   "id": "ebe9fd42-e94c-4dd5-8cb2-6bc2c33298ac",
   "metadata": {},
   "outputs": [
    {
     "data": {
      "text/plain": [
       "1"
      ]
     },
     "execution_count": 27,
     "metadata": {},
     "output_type": "execute_result"
    }
   ],
   "source": [
    "0^1"
   ]
  },
  {
   "cell_type": "code",
   "execution_count": 28,
   "id": "a073b93b-702e-4c33-aa1b-b780fcf22835",
   "metadata": {},
   "outputs": [
    {
     "data": {
      "text/plain": [
       "\"\\nExample:\\n 10<<2\\n\\n binary form of 10 is 00001010\\n                            <<2 \\n that is shifting the two bits towards left side by adding zero's on right side => 00101000\\n\\n now convert 00101000 into number form => 128 64 32 16 8 4 2 1\\n                                           |   |  |  | | | | |\\n                                           0   0  1  0 1 0 0 0\\n                                           |   |  |  | | | | |\\n                                                 32    8       ======>40\\n\\n so the answer is 40.\\n\""
      ]
     },
     "execution_count": 28,
     "metadata": {},
     "output_type": "execute_result"
    }
   ],
   "source": [
    "#Bitwise leftshift:-\n",
    "# it is an operator that is used to shift the bits towards left hand side.\n",
    "# it represented with <<\n",
    "\"\"\"\n",
    "Example:\n",
    " 10<<2\n",
    "\n",
    " binary form of 10 is 00001010\n",
    "                            <<2 \n",
    " that is shifting the two bits towards left side by adding zero's on right side => 00101000\n",
    "\n",
    " now convert 00101000 into number form => 128 64 32 16 8 4 2 1\n",
    "                                           |   |  |  | | | | |\n",
    "                                           0   0  1  0 1 0 0 0\n",
    "                                           |   |  |  | | | | |\n",
    "                                                 32    8       ======>40\n",
    "\n",
    " so the answer is 40.\n",
    "\"\"\""
   ]
  },
  {
   "cell_type": "code",
   "execution_count": 29,
   "id": "45061c74-ce87-4d8d-b70a-32e5cc477f2f",
   "metadata": {},
   "outputs": [
    {
     "data": {
      "text/plain": [
       "40"
      ]
     },
     "execution_count": 29,
     "metadata": {},
     "output_type": "execute_result"
    }
   ],
   "source": [
    "10<<2"
   ]
  },
  {
   "cell_type": "code",
   "execution_count": 30,
   "id": "e83b671f-db2e-472e-97bb-a8df61693284",
   "metadata": {},
   "outputs": [
    {
     "data": {
      "text/plain": [
       "1760"
      ]
     },
     "execution_count": 30,
     "metadata": {},
     "output_type": "execute_result"
    }
   ],
   "source": [
    "55<<5"
   ]
  },
  {
   "cell_type": "code",
   "execution_count": 31,
   "id": "0c31bcaa-12da-4bff-b3fd-51085eaf56a6",
   "metadata": {},
   "outputs": [
    {
     "data": {
      "text/plain": [
       "88"
      ]
     },
     "execution_count": 31,
     "metadata": {},
     "output_type": "execute_result"
    }
   ],
   "source": [
    "22<<2"
   ]
  },
  {
   "cell_type": "code",
   "execution_count": 32,
   "id": "c057a55f-fc36-4505-b6e5-bb09555c5e56",
   "metadata": {},
   "outputs": [
    {
     "data": {
      "text/plain": [
       "\"\\nExample:\\n 10>>3\\n\\n binary form of 10 is 00001010\\n                      >>3 \\n that is shifting the three bits towards right side by adding zero's on left side => 00000001\\n\\n now convert 00101000 into number form => 128 64 32 16 8 4 2 1\\n                                           |   |  |  | | | | |\\n                                           0   0  0  0 0 0 0 1\\n                                           |   |  |  | | | | |\\n                                                             1======>1\\n\\n so the answer is 1.\\n\""
      ]
     },
     "execution_count": 32,
     "metadata": {},
     "output_type": "execute_result"
    }
   ],
   "source": [
    "#Similary for bitwise-rightshift\n",
    "\n",
    "#Bitwise leftshift:-\n",
    "# it is an operator that is used to shift the bits towards right hand side.\n",
    "# it represented with >>\n",
    "\"\"\"\n",
    "Example:\n",
    " 10>>3\n",
    "\n",
    " binary form of 10 is 00001010\n",
    "                      >>3 \n",
    " that is shifting the three bits towards right side by adding zero's on left side => 00000001\n",
    "\n",
    " now convert 00101000 into number form => 128 64 32 16 8 4 2 1\n",
    "                                           |   |  |  | | | | |\n",
    "                                           0   0  0  0 0 0 0 1\n",
    "                                           |   |  |  | | | | |\n",
    "                                                             1======>1\n",
    "\n",
    " so the answer is 1.\n",
    "\"\"\""
   ]
  },
  {
   "cell_type": "code",
   "execution_count": 33,
   "id": "46324f4f-3f54-46a8-91eb-63be68531105",
   "metadata": {},
   "outputs": [
    {
     "data": {
      "text/plain": [
       "1"
      ]
     },
     "execution_count": 33,
     "metadata": {},
     "output_type": "execute_result"
    }
   ],
   "source": [
    "10>>3"
   ]
  },
  {
   "cell_type": "code",
   "execution_count": 34,
   "id": "380a6759-9273-4227-aea1-bb2651954ab8",
   "metadata": {},
   "outputs": [
    {
     "data": {
      "text/plain": [
       "13"
      ]
     },
     "execution_count": 34,
     "metadata": {},
     "output_type": "execute_result"
    }
   ],
   "source": [
    "55>>2"
   ]
  },
  {
   "cell_type": "code",
   "execution_count": 35,
   "id": "fdcec245-daaf-41d2-a0a5-32aad0224c9e",
   "metadata": {},
   "outputs": [
    {
     "data": {
      "text/plain": [
       "1"
      ]
     },
     "execution_count": 35,
     "metadata": {},
     "output_type": "execute_result"
    }
   ],
   "source": [
    "6>>2"
   ]
  },
  {
   "cell_type": "code",
   "execution_count": 36,
   "id": "9f45005b-39b4-4ffe-8fa7-4516a10b226c",
   "metadata": {},
   "outputs": [],
   "source": [
    "#Operators are completed"
   ]
  },
  {
   "cell_type": "code",
   "execution_count": 37,
   "id": "6a7df6b2-9006-4c0f-b171-7b76094a2973",
   "metadata": {},
   "outputs": [],
   "source": [
    "#math library:\n",
    "# math is a python standard library that provides mathematical functions that can be used for mathematical calcuations."
   ]
  },
  {
   "cell_type": "code",
   "execution_count": 38,
   "id": "c5a7ec16-8137-4f06-a9fd-60e42b4979b0",
   "metadata": {},
   "outputs": [
    {
     "ename": "NameError",
     "evalue": "name 'sqrt' is not defined",
     "output_type": "error",
     "traceback": [
      "\u001b[1;31m---------------------------------------------------------------------------\u001b[0m",
      "\u001b[1;31mNameError\u001b[0m                                 Traceback (most recent call last)",
      "Cell \u001b[1;32mIn[38], line 2\u001b[0m\n\u001b[0;32m      1\u001b[0m x\u001b[38;5;241m=\u001b[39m\u001b[38;5;241m25\u001b[39m\n\u001b[1;32m----> 2\u001b[0m x\u001b[38;5;241m=\u001b[39msqrt(x)\u001b[38;5;66;03m# we get the error because sqrt is not present in python library. If we want to use, then we need to import.\u001b[39;00m\n\u001b[0;32m      3\u001b[0m x\n",
      "\u001b[1;31mNameError\u001b[0m: name 'sqrt' is not defined"
     ]
    }
   ],
   "source": [
    "x=25\n",
    "x=sqrt(x)# we get the error because sqrt is not present in python library. If we want to use, then we need to import.\n",
    "x"
   ]
  },
  {
   "cell_type": "code",
   "execution_count": 39,
   "id": "ae34fc75-8525-4f5b-8e7c-c41c05322908",
   "metadata": {},
   "outputs": [],
   "source": [
    "import math\n",
    "#importing math library"
   ]
  },
  {
   "cell_type": "code",
   "execution_count": 40,
   "id": "6218d804-e07f-4168-90e0-ddb9320b79a8",
   "metadata": {},
   "outputs": [
    {
     "data": {
      "text/plain": [
       "5.0"
      ]
     },
     "execution_count": 40,
     "metadata": {},
     "output_type": "execute_result"
    }
   ],
   "source": [
    "x=25\n",
    "x=math.sqrt(x)# the sqrt() is used to find the square root.\n",
    "x"
   ]
  },
  {
   "cell_type": "code",
   "execution_count": 41,
   "id": "e57fddfd-7d73-4e92-80f9-127494861951",
   "metadata": {},
   "outputs": [
    {
     "data": {
      "text/plain": [
       "2.23606797749979"
      ]
     },
     "execution_count": 41,
     "metadata": {},
     "output_type": "execute_result"
    }
   ],
   "source": [
    "x=5\n",
    "x=math.sqrt(x)\n",
    "x"
   ]
  },
  {
   "cell_type": "code",
   "execution_count": 42,
   "id": "885851a4-bb3e-4062-a62f-9c677ea36a04",
   "metadata": {},
   "outputs": [
    {
     "data": {
      "text/plain": [
       "10"
      ]
     },
     "execution_count": 42,
     "metadata": {},
     "output_type": "execute_result"
    }
   ],
   "source": [
    "#floor():\n",
    "# it is a predefined function in math library.\n",
    "# it is used to rounding the numbers to the minimum or least value.\n",
    "#example\n",
    "\n",
    "x=10.86\n",
    "math.floor(x)#here 10.86 become to least value=>10."
   ]
  },
  {
   "cell_type": "code",
   "execution_count": 43,
   "id": "82bab55f-e283-4629-9edc-1d4222b496d3",
   "metadata": {},
   "outputs": [
    {
     "name": "stdout",
     "output_type": "stream",
     "text": [
      "2\n"
     ]
    }
   ],
   "source": [
    "print(math.floor(2.66))"
   ]
  },
  {
   "cell_type": "code",
   "execution_count": 44,
   "id": "385f0793-265c-40e7-a694-5656c01f3518",
   "metadata": {},
   "outputs": [
    {
     "name": "stdout",
     "output_type": "stream",
     "text": [
      "5\n"
     ]
    }
   ],
   "source": [
    "print(5)"
   ]
  },
  {
   "cell_type": "code",
   "execution_count": 45,
   "id": "9e3bd781-c8fc-48ab-bd4b-2db5b181d882",
   "metadata": {},
   "outputs": [
    {
     "data": {
      "text/plain": [
       "11"
      ]
     },
     "execution_count": 45,
     "metadata": {},
     "output_type": "execute_result"
    }
   ],
   "source": [
    "#ceil():\n",
    "# it is a predefined function in math library.\n",
    "# it is used to rounding the numbers to the maximum or highest value.\n",
    "#example\n",
    "\n",
    "x=10.86\n",
    "math.ceil(x)#here 10.86 become to highest value=>11."
   ]
  },
  {
   "cell_type": "code",
   "execution_count": 46,
   "id": "3524bceb-ad6e-473d-9962-f96f473baa77",
   "metadata": {},
   "outputs": [
    {
     "data": {
      "text/plain": [
       "3"
      ]
     },
     "execution_count": 46,
     "metadata": {},
     "output_type": "execute_result"
    }
   ],
   "source": [
    "math.ceil(2.66)"
   ]
  },
  {
   "cell_type": "code",
   "execution_count": 47,
   "id": "5b3dba0e-0538-4ca4-9b54-ba890cc73cf7",
   "metadata": {},
   "outputs": [
    {
     "data": {
      "text/plain": [
       "5"
      ]
     },
     "execution_count": 47,
     "metadata": {},
     "output_type": "execute_result"
    }
   ],
   "source": [
    "math.ceil(5)"
   ]
  },
  {
   "cell_type": "code",
   "execution_count": 48,
   "id": "48c24158-af05-40d7-8ab4-8699cd814b09",
   "metadata": {},
   "outputs": [
    {
     "data": {
      "text/plain": [
       "9.0"
      ]
     },
     "execution_count": 48,
     "metadata": {},
     "output_type": "execute_result"
    }
   ],
   "source": [
    "#pow():\n",
    "# it is a predefined function in math library.\n",
    "# it is used to get the power value.\n",
    "#example:\n",
    "math.pow(3,2)"
   ]
  },
  {
   "cell_type": "code",
   "execution_count": 49,
   "id": "b05487c1-1edf-407a-b9e2-be51bd72cb40",
   "metadata": {},
   "outputs": [
    {
     "data": {
      "text/plain": [
       "8.0"
      ]
     },
     "execution_count": 49,
     "metadata": {},
     "output_type": "execute_result"
    }
   ],
   "source": [
    "math.pow(2,3)"
   ]
  },
  {
   "cell_type": "code",
   "execution_count": 50,
   "id": "b3df9720-b00e-4435-9868-ab07da042ceb",
   "metadata": {},
   "outputs": [
    {
     "data": {
      "text/plain": [
       "3125.0"
      ]
     },
     "execution_count": 50,
     "metadata": {},
     "output_type": "execute_result"
    }
   ],
   "source": [
    "math.pow(5,5)"
   ]
  },
  {
   "cell_type": "code",
   "execution_count": 51,
   "id": "f353c809-10e6-46da-ba61-aa8d62d522b0",
   "metadata": {},
   "outputs": [
    {
     "data": {
      "text/plain": [
       "3.141592653589793"
      ]
     },
     "execution_count": 51,
     "metadata": {},
     "output_type": "execute_result"
    }
   ],
   "source": [
    "math.pi#in math, pi is the pi value =>3.141592653589793\n",
    "#in mathematics, it is constant but, we can able to change in python."
   ]
  },
  {
   "cell_type": "code",
   "execution_count": 52,
   "id": "6542490f-61e7-4751-b4c5-e84f35e5c72f",
   "metadata": {},
   "outputs": [
    {
     "data": {
      "text/plain": [
       "2.718281828459045"
      ]
     },
     "execution_count": 52,
     "metadata": {},
     "output_type": "execute_result"
    }
   ],
   "source": [
    "math.e#it is the exponent value"
   ]
  },
  {
   "cell_type": "code",
   "execution_count": 68,
   "id": "90ab271c-de6f-4781-89e3-1bea4fe85dc9",
   "metadata": {},
   "outputs": [],
   "source": [
    "#Today we need to download the pycharm IDE"
   ]
  },
  {
   "cell_type": "code",
   "execution_count": 72,
   "id": "a9130d8a-b36b-4827-81e1-ec87ed53c753",
   "metadata": {},
   "outputs": [],
   "source": [
    "#input():\n",
    "# -it is an in-built function.\n",
    "# -it is used to allow the runtime values from the users.\n",
    "# -By default it stores the values as string format."
   ]
  },
  {
   "cell_type": "code",
   "execution_count": 76,
   "id": "345532cd-9252-418d-9a72-c80ef00b6540",
   "metadata": {},
   "outputs": [
    {
     "name": "stdin",
     "output_type": "stream",
     "text": [
      " 5\n",
      " 8\n"
     ]
    },
    {
     "name": "stdout",
     "output_type": "stream",
     "text": [
      "58\n"
     ]
    }
   ],
   "source": [
    "x=input()\n",
    "y=input()\n",
    "z=x+y\n",
    "print(z)#here the output is 12 because the input() function by default store the values as string format."
   ]
  },
  {
   "cell_type": "code",
   "execution_count": 80,
   "id": "9df8e968-c666-4df6-b098-b1154bb1a6c3",
   "metadata": {},
   "outputs": [
    {
     "name": "stdout",
     "output_type": "stream",
     "text": [
      "<class 'str'>\n",
      "<class 'str'>\n"
     ]
    }
   ],
   "source": [
    "print(type(x))\n",
    "print(type(y))#that's why we get 58 in the above output"
   ]
  },
  {
   "cell_type": "code",
   "execution_count": 92,
   "id": "b3dce8aa-1fa0-4514-97cc-afb4dd5dc3a7",
   "metadata": {},
   "outputs": [
    {
     "name": "stdin",
     "output_type": "stream",
     "text": [
      "Enter the first Number 5\n",
      "Enter the second Number 3\n"
     ]
    },
    {
     "name": "stdout",
     "output_type": "stream",
     "text": [
      "the output is:- 53\n"
     ]
    }
   ],
   "source": [
    "x=input('Enter the first Number')#here we can able to display any text or content will accepting the values from the user.\n",
    "y=input('Enter the second Number')\n",
    "z=x+y\n",
    "print('the output is:-',z)#here the output is 53 because, the input() will by default stores the values as string."
   ]
  },
  {
   "cell_type": "code",
   "execution_count": 100,
   "id": "b45a37b2-3b89-46e2-919a-b5f232f74c3f",
   "metadata": {},
   "outputs": [
    {
     "name": "stdin",
     "output_type": "stream",
     "text": [
      "Enter the first Number 5\n",
      "Enter the second Number 3\n"
     ]
    },
    {
     "name": "stdout",
     "output_type": "stream",
     "text": [
      "the output is:- 8\n"
     ]
    }
   ],
   "source": [
    "# At this situation, we need to do type casting.\n",
    "x=input('Enter the first Number')#here we can able to display any text or content will accepting the values from the user.\n",
    "x1=int(x)\n",
    "y=input('Enter the second Number')\n",
    "y1=int(y)\n",
    "z=x1+y1\n",
    "print('the output is:-',z)#here the output is 8 because, we convert the values from string to int.\n"
   ]
  },
  {
   "cell_type": "code",
   "execution_count": 104,
   "id": "571bc1f4-a9ed-4b0f-86ae-36f9a183f4d4",
   "metadata": {},
   "outputs": [
    {
     "name": "stdin",
     "output_type": "stream",
     "text": [
      "Enter the 1st num:  2\n",
      "Enter the 2nd num:  6\n"
     ]
    },
    {
     "name": "stdout",
     "output_type": "stream",
     "text": [
      "Output is:-  8\n"
     ]
    }
   ],
   "source": [
    "#In the above program, there are more lines of code for small logic. \n",
    "#It is not a good pratice. it consumes more memory.\n",
    "# Best and alternate way given below.\n",
    "\n",
    "x=int(input('Enter the 1st num: '))\n",
    "y=int(input('Enter the 2nd num: '))\n",
    "print('Output is:- ',x+y)"
   ]
  },
  {
   "cell_type": "code",
   "execution_count": 106,
   "id": "3b231d13-4f1a-4c3d-8c29-38314ab45385",
   "metadata": {},
   "outputs": [],
   "source": [
    "#Till now we entered the numbers in the input()\n",
    "#now we will try the characters."
   ]
  },
  {
   "cell_type": "code",
   "execution_count": 116,
   "id": "f4b38cfa-46b3-4140-9ee5-a6ae029695a1",
   "metadata": {},
   "outputs": [
    {
     "name": "stdin",
     "output_type": "stream",
     "text": [
      "enter something vamsi\n"
     ]
    },
    {
     "name": "stdout",
     "output_type": "stream",
     "text": [
      "you entered:  vamsi\n"
     ]
    }
   ],
   "source": [
    "word=input('enter something')\n",
    "print('you entered: ',word)"
   ]
  },
  {
   "cell_type": "code",
   "execution_count": 118,
   "id": "43c3ec70-f24b-485a-81a8-697b3b8a48f9",
   "metadata": {},
   "outputs": [
    {
     "data": {
      "text/plain": [
       "'v'"
      ]
     },
     "execution_count": 118,
     "metadata": {},
     "output_type": "execute_result"
    }
   ],
   "source": [
    "word[0]"
   ]
  },
  {
   "cell_type": "code",
   "execution_count": 120,
   "id": "eddb972a-54a1-44ef-aba9-313bd97e46d2",
   "metadata": {},
   "outputs": [
    {
     "data": {
      "text/plain": [
       "'m'"
      ]
     },
     "execution_count": 120,
     "metadata": {},
     "output_type": "execute_result"
    }
   ],
   "source": [
    "word[2]"
   ]
  },
  {
   "cell_type": "code",
   "execution_count": 122,
   "id": "6d8974a1-2db8-4db3-b760-a62301960c40",
   "metadata": {},
   "outputs": [
    {
     "data": {
      "text/plain": [
       "'vamsi'"
      ]
     },
     "execution_count": 122,
     "metadata": {},
     "output_type": "execute_result"
    }
   ],
   "source": [
    "word[:]"
   ]
  },
  {
   "cell_type": "code",
   "execution_count": 124,
   "id": "fedc9dcc-5f57-4438-945d-dcf6ebd5b7a2",
   "metadata": {},
   "outputs": [
    {
     "name": "stdin",
     "output_type": "stream",
     "text": [
      " vamsi\n"
     ]
    },
    {
     "name": "stdout",
     "output_type": "stream",
     "text": [
      "v\n"
     ]
    }
   ],
   "source": [
    "x=input()[0]\n",
    "print(x)"
   ]
  },
  {
   "cell_type": "code",
   "execution_count": 126,
   "id": "0b7c3530-2c56-441e-89d2-b26827308d2b",
   "metadata": {},
   "outputs": [
    {
     "name": "stdin",
     "output_type": "stream",
     "text": [
      " vamsikrishna\n"
     ]
    },
    {
     "name": "stdout",
     "output_type": "stream",
     "text": [
      "vam\n"
     ]
    }
   ],
   "source": [
    "x=input()[0:3]\n",
    "print(x)"
   ]
  },
  {
   "cell_type": "code",
   "execution_count": 130,
   "id": "dc92a347-9b77-4623-be59-99b7a873b213",
   "metadata": {},
   "outputs": [
    {
     "name": "stdin",
     "output_type": "stream",
     "text": [
      " 1+2+6\n"
     ]
    },
    {
     "name": "stdout",
     "output_type": "stream",
     "text": [
      "1+2+6\n"
     ]
    }
   ],
   "source": [
    "x=input()#passing an expression\n",
    "print(x)#here output is 1+2+6, because it's stored as a string by default."
   ]
  },
  {
   "cell_type": "code",
   "execution_count": 134,
   "id": "3a909940-3bbd-49ed-ae14-9e0effd0d758",
   "metadata": {},
   "outputs": [],
   "source": [
    "#But we need the answer as 9.\n",
    "#we can overcome this type of problems by using eval()."
   ]
  },
  {
   "cell_type": "code",
   "execution_count": 136,
   "id": "ade7cf7d-0fef-4a8f-8e37-32270a3dbbab",
   "metadata": {},
   "outputs": [],
   "source": [
    "#eval():\n",
    "# it is used for expressions.\n",
    "# it is used in input()."
   ]
  },
  {
   "cell_type": "code",
   "execution_count": 138,
   "id": "6f67e8ff-8c05-4cee-8c42-473f542afa9c",
   "metadata": {},
   "outputs": [
    {
     "name": "stdin",
     "output_type": "stream",
     "text": [
      " 1+2+3\n"
     ]
    },
    {
     "name": "stdout",
     "output_type": "stream",
     "text": [
      "6\n"
     ]
    }
   ],
   "source": [
    "x=eval(input())\n",
    "print(x)"
   ]
  },
  {
   "cell_type": "code",
   "execution_count": 140,
   "id": "e46ed445-2760-4d3d-a927-12ca3e18911c",
   "metadata": {},
   "outputs": [],
   "source": [
    "# as of now we learned using the above topics in jupyter notebook.\n",
    "#now we will learn using command line."
   ]
  },
  {
   "cell_type": "code",
   "execution_count": 142,
   "id": "3b76c98a-52fc-4584-89ea-677970ee729c",
   "metadata": {},
   "outputs": [
    {
     "data": {
      "text/plain": [
       "'\\n1-open the notepad and write a python program\\n2-save that file with .py extension.\\n3-now, open the command prompt in system.\\n4-go to the file path in the command prompt by using cd command.\\n5-enter the file name and tap enter.\\n6-we will get the output of the program.\\n'"
      ]
     },
     "execution_count": 142,
     "metadata": {},
     "output_type": "execute_result"
    }
   ],
   "source": [
    "\"\"\"\n",
    "1-open the notepad and write a python program\n",
    "2-save that file with .py extension.\n",
    "3-now, open the command prompt in system.\n",
    "4-go to the file path in the command prompt by using cd command.\n",
    "5-enter the file name and tap enter.\n",
    "6-we will get the output of the program.\n",
    "\"\"\""
   ]
  },
  {
   "attachments": {
    "bda7b15c-c35a-4e7a-a7f7-d2a359417780.png": {
     "image/png": "[encoded data removed]"
    }
   },
   "cell_type": "markdown",
   "id": "699c6e9a-5951-4338-97b5-938edda04116",
   "metadata": {},
   "source": [
    "![image.png](attachment:bda7b15c-c35a-4e7a-a7f7-d2a359417780.png)"
   ]
  },
  {
   "cell_type": "code",
   "execution_count": 145,
   "id": "08b0e973-6744-417e-96c8-b47a4dc2992e",
   "metadata": {},
   "outputs": [
    {
     "data": {
      "text/plain": [
       "'\\n-In the above figure right side is command prompt and lrft side is notepad.\\n'"
      ]
     },
     "execution_count": 145,
     "metadata": {},
     "output_type": "execute_result"
    }
   ],
   "source": [
    "\"\"\"\n",
    "-In the above figure right side is command prompt and lrft side is notepad.\n",
    "\"\"\""
   ]
  },
  {
   "attachments": {
    "ac847bf0-c924-4c89-a311-8e2e324d9bf5.png": {
     "image/png": "[encoded data removed]"
    }
   },
   "cell_type": "markdown",
   "id": "a2412820-ab5e-4026-83eb-aca84b24e138",
   "metadata": {},
   "source": [
    "![image.png](attachment:ac847bf0-c924-4c89-a311-8e2e324d9bf5.png)"
   ]
  },
  {
   "cell_type": "code",
   "execution_count": null,
   "id": "6d95c0d3-4d6b-4e33-a569-5afffa9ed63e",
   "metadata": {},
   "outputs": [],
   "source": [
    "\"\"\"\n",
    "-I added 5 and 6 in the command line. But the answer is still 3 only.\n",
    "-So our requirment is to get addition of 5 and 6\n",
    "\"\"\""
   ]
  },
  {
   "attachments": {
    "7312cd2d-6195-475a-a695-e90981cd0fa7.png": {
     "image/png": "[encoded data removed]"
    }
   },
   "cell_type": "markdown",
   "id": "ae308edd-05d1-4d66-9c8a-a392afea549a",
   "metadata": {},
   "source": [
    "![image.png](attachment:7312cd2d-6195-475a-a695-e90981cd0fa7.png)"
   ]
  },
  {
   "cell_type": "code",
   "execution_count": 149,
   "id": "5e5263a4-aec2-42ef-9ea2-170fa3aa125a",
   "metadata": {},
   "outputs": [
    {
     "data": {
      "text/plain": [
       "\"\\n-argv[] is used to provide the arguments in the command line.\\n-argv[] means argument value.\\n-in the left fig, 1 and 2 is first argument and seond argument.\\n-we can't enter the values/arguments in the runtime.\\n-we have to give the values in the command line with space separator as shown in above figure.\\n\\n\""
      ]
     },
     "execution_count": 149,
     "metadata": {},
     "output_type": "execute_result"
    }
   ],
   "source": [
    "\"\"\"\n",
    "-argv[] is used to provide the arguments in the command line.\n",
    "-argv[] means argument value.\n",
    "-in the left fig, 1 and 2 is first argument and seond argument.\n",
    "-we can't enter the values/arguments in the runtime.\n",
    "-we have to give the values in the command line with space separator as shown in above figure.\n",
    "\n",
    "\"\"\""
   ]
  },
  {
   "attachments": {
    "f629bd76-b7bf-462f-a562-1a58d4a7bc34.png": {
     "image/png": "[encoded data removed]"
    }
   },
   "cell_type": "markdown",
   "id": "e761283b-067e-4256-a0bf-d24435833762",
   "metadata": {},
   "source": [
    "![image.png](attachment:f629bd76-b7bf-462f-a562-1a58d4a7bc34.png)"
   ]
  },
  {
   "cell_type": "code",
   "execution_count": 152,
   "id": "f78de81c-7608-4981-a9ae-6007513e1392",
   "metadata": {},
   "outputs": [],
   "source": [
    "#here sys.argv[4] means 4th value in command line(python vamsi.py 5 6 0 5) that is 5"
   ]
  },
  {
   "cell_type": "code",
   "execution_count": 154,
   "id": "48077f6e-d605-440a-ae3b-e41ba556d89f",
   "metadata": {},
   "outputs": [],
   "source": [
    "#Till now the basic python we are completed."
   ]
  },
  {
   "cell_type": "code",
   "execution_count": 156,
   "id": "84653857-a8b5-418f-898d-09e6f0e4d583",
   "metadata": {},
   "outputs": [
    {
     "data": {
      "text/plain": [
       "'\\n\\n-In computer we are having CPU-Central Processing Unit.\\n-In CPU we have three units \\n                1-Control Unit\\n                2-ALU(Arithematic & Logical Units)\\n                3-Memory Unit\\n-In Memory unit, the variables which we created are stored. There all the variable values saved and called from it for future use.\\n\\n-In arithematic unit, the calculation are to be performed such as addition, subtraction, multiplication, division..etc.\\n-In logical unit, the computer will think and take decisions based on the conditions.\\n    like: if true what will do or if false what will do.\\n-We are having some special keywords for conditions\\n    such as: 1-if\\n             2-if else \\n             3-if elif else\\n             4-nested if\\n'"
      ]
     },
     "execution_count": 156,
     "metadata": {},
     "output_type": "execute_result"
    }
   ],
   "source": [
    "\"\"\"\n",
    "\n",
    "-In computer we are having CPU-Central Processing Unit.\n",
    "-In CPU we have three units \n",
    "                1-Control Unit\n",
    "                2-ALU(Arithematic & Logical Units)\n",
    "                3-Memory Unit\n",
    "-In Memory unit, the variables which we created are stored. There all the variable values saved and called from it for future use.\n",
    "\n",
    "-In arithematic unit, the calculation are to be performed such as addition, subtraction, multiplication, division..etc.\n",
    "-In logical unit, the computer will think and take decisions based on the conditions.\n",
    "    like: if true what will do or if false what will do.\n",
    "-We are having some special keywords for conditions\n",
    "    such as: 1-if\n",
    "             2-if else \n",
    "             3-if elif else\n",
    "             4-nested if\n",
    "\"\"\""
   ]
  },
  {
   "cell_type": "code",
   "execution_count": 160,
   "id": "e5a74b1a-51da-4a78-9aee-5abf49571d90",
   "metadata": {},
   "outputs": [
    {
     "data": {
      "text/plain": [
       "'\\n-if is a keyword that is used to take the decisions based on the condition.\\n-if the condition is True then it will execute something or if the conditon is False then it will execute another thing.\\n-syntax of if\\n\\n       if <condition here>:\\n           ----------------\\n           ----------------\\n           ----------------\\n'"
      ]
     },
     "execution_count": 160,
     "metadata": {},
     "output_type": "execute_result"
    }
   ],
   "source": [
    " #if:-\n",
    "\"\"\"\n",
    "-if is a keyword that is used to take the decisions based on the condition.\n",
    "-if the condition is True then it will execute something or if the conditon is False then it will execute another thing.\n",
    "-syntax of if\n",
    "\n",
    "        if <condition here>:\n",
    "            ----------------\n",
    "            ----------------\n",
    "            ----------------\n",
    "\"\"\""
   ]
  },
  {
   "cell_type": "code",
   "execution_count": 164,
   "id": "691543ad-b08c-4169-98d5-b990f84a8b8e",
   "metadata": {},
   "outputs": [
    {
     "name": "stdout",
     "output_type": "stream",
     "text": [
      "vamsikrishna\n"
     ]
    }
   ],
   "source": [
    " if True:\n",
    "     print('vamsikrishna')#HERE the indentation is always 4."
   ]
  },
  {
   "cell_type": "code",
   "execution_count": 170,
   "id": "8f6b4b96-f565-443c-a9cc-244b14dbbaa6",
   "metadata": {},
   "outputs": [
    {
     "name": "stdout",
     "output_type": "stream",
     "text": [
      "bye\n"
     ]
    }
   ],
   "source": [
    "if False:\n",
    "    print(\"vamsi\")\n",
    "print(\"bye\")"
   ]
  },
  {
   "cell_type": "code",
   "execution_count": 172,
   "id": "c12c027e-c914-4ed8-89b1-f4f9e2ef2c6a",
   "metadata": {},
   "outputs": [
    {
     "name": "stdout",
     "output_type": "stream",
     "text": [
      "vamsikrishna\n",
      "bye\n"
     ]
    }
   ],
   "source": [
    "if True:\n",
    "    print('vamsikrishna')\n",
    "print('bye')"
   ]
  },
  {
   "cell_type": "code",
   "execution_count": 178,
   "id": "23db555e-f969-46fa-919b-109d8a8353ef",
   "metadata": {},
   "outputs": [
    {
     "name": "stdout",
     "output_type": "stream",
     "text": [
      "even number\n"
     ]
    }
   ],
   "source": [
    "#Checking the number is even number or not by using if\n",
    "\n",
    "x=6\n",
    "y=x%2\n",
    "if y==0:\n",
    "    print('even number')"
   ]
  },
  {
   "cell_type": "code",
   "execution_count": 182,
   "id": "fcceb5b0-ddf5-4e32-b5f3-a2a029f4f2da",
   "metadata": {},
   "outputs": [],
   "source": [
    "#Checking the number is even number or not by using if\n",
    "\n",
    "x=3\n",
    "y=x%2\n",
    "if y==0:\n",
    "    print('even number')#here x value is 3 so that's why we didn't get output."
   ]
  },
  {
   "cell_type": "code",
   "execution_count": 184,
   "id": "65ebc3cb-dc09-4f28-8e9e-232b5fd8d7a5",
   "metadata": {},
   "outputs": [
    {
     "name": "stdout",
     "output_type": "stream",
     "text": [
      "odd number\n"
     ]
    }
   ],
   "source": [
    "#Checking the number is even number or not by using if\n",
    "\n",
    "x=7\n",
    "y=x%2\n",
    "if y==0:\n",
    "    print('even number')\n",
    "print('odd number')"
   ]
  },
  {
   "cell_type": "code",
   "execution_count": 190,
   "id": "a732072b-c492-488b-87dd-6c69d35de57f",
   "metadata": {},
   "outputs": [
    {
     "name": "stdout",
     "output_type": "stream",
     "text": [
      "even number\n",
      "odd number\n"
     ]
    }
   ],
   "source": [
    "#Checking the number is even number or not by using if\n",
    "\n",
    "x=8\n",
    "y=x%2\n",
    "if y==0:\n",
    "    print('even number')\n",
    "print('odd number')#here if block executed because x value is 8."
   ]
  },
  {
   "cell_type": "code",
   "execution_count": 198,
   "id": "81d60d91-5a7e-44ab-8a4c-56f0bffc836f",
   "metadata": {},
   "outputs": [],
   "source": [
    "#in if else, if the condition is True then if block is executed. if the condition is false then else block is executed."
   ]
  },
  {
   "cell_type": "code",
   "execution_count": 200,
   "id": "f1a5e166-f81d-49fd-8473-988431ce7b62",
   "metadata": {},
   "outputs": [
    {
     "name": "stdout",
     "output_type": "stream",
     "text": [
      "even number\n"
     ]
    }
   ],
   "source": [
    "#Checking the number is even number or not by using if\n",
    "\n",
    "x=8\n",
    "y=x%2\n",
    "if y==0:\n",
    "    print('even number')\n",
    "else:\n",
    "    print('odd number')#here else block doesn't executed because x value is 8."
   ]
  },
  {
   "cell_type": "code",
   "execution_count": 204,
   "id": "bb9e3d75-1ec1-423c-935c-67240e531a95",
   "metadata": {},
   "outputs": [
    {
     "name": "stdout",
     "output_type": "stream",
     "text": [
      "odd number\n"
     ]
    }
   ],
   "source": [
    "#Checking the number is even number or not by using if\n",
    "\n",
    "x=7\n",
    "y=x%2\n",
    "if y==0:\n",
    "    print('even number')\n",
    "else:\n",
    "    print('odd number')#here else blockdoesn't executed because x value is 7."
   ]
  },
  {
   "cell_type": "code",
   "execution_count": 206,
   "id": "b47e4036-f37b-4088-a578-0c4ed287ce08",
   "metadata": {},
   "outputs": [
    {
     "name": "stdout",
     "output_type": "stream",
     "text": [
      "even number\n"
     ]
    }
   ],
   "source": [
    "#Checking the number is even number or not by using if\n",
    "\n",
    "x=60\n",
    "y=x%2\n",
    "if y==0:\n",
    "    print('even number')\n",
    "else:\n",
    "    print('odd number')"
   ]
  }
 ],
 "metadata": {
  "kernelspec": {
   "display_name": "Python [conda env:base] *",
   "language": "python",
   "name": "conda-base-py"
  },
  "language_info": {
   "codemirror_mode": {
    "name": "ipython",
    "version": 3
   },
   "file_extension": ".py",
   "mimetype": "text/x-python",
   "name": "python",
   "nbconvert_exporter": "python",
   "pygments_lexer": "ipython3",
   "version": "3.12.7"
  }
 },
 "nbformat": 4,
 "nbformat_minor": 5
}
