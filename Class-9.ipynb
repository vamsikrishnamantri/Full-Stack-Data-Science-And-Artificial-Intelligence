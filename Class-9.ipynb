{
 "cells": [
  {
   "cell_type": "code",
   "execution_count": 1,
   "id": "c5ffc75f",
   "metadata": {},
   "outputs": [
    {
     "data": {
      "text/plain": [
       "tuple"
      ]
     },
     "execution_count": 1,
     "metadata": {},
     "output_type": "execute_result"
    }
   ],
   "source": [
    "\"\"\"Tuple:\n",
    "    -the tuple is datastructure in python.\n",
    "    -it is collection  of sequencial datatypes.\n",
    "    -it is reresented with ().\n",
    "    -slicing and indexing are performed in tuples also.\n",
    "    -only two functions(count & index) supports in tuples.\n",
    "    \"\"\"\n",
    "t=()\n",
    "type(t)\n",
    "    "
   ]
  },
  {
   "cell_type": "code",
   "execution_count": 2,
   "id": "20b23118",
   "metadata": {},
   "outputs": [
    {
     "name": "stdout",
     "output_type": "stream",
     "text": [
      "2\n",
      "6\n",
      "1\n"
     ]
    }
   ],
   "source": [
    "#count(): this function returns the no of times that an element can repeated in a tuple.\n",
    "t=(1,2,3,4,5,6,7,6)\n",
    "print(t.count(6))\n",
    "\n",
    "#index(): this function returns the index value of the particular element.\n",
    "print(t.index(7))\n",
    "print(t[0])\n"
   ]
  },
  {
   "cell_type": "code",
   "execution_count": 3,
   "id": "c9b68b79",
   "metadata": {},
   "outputs": [
    {
     "ename": "TypeError",
     "evalue": "'tuple' object does not support item assignment",
     "output_type": "error",
     "traceback": [
      "\u001b[1;31m---------------------------------------------------------------------------\u001b[0m",
      "\u001b[1;31mTypeError\u001b[0m                                 Traceback (most recent call last)",
      "Cell \u001b[1;32mIn[3], line 3\u001b[0m\n\u001b[0;32m      1\u001b[0m \u001b[38;5;66;03m#tuples are immutable i.e we can't change the elements in the tuple.\u001b[39;00m\n\u001b[0;32m      2\u001b[0m \u001b[38;5;66;03m#example\u001b[39;00m\n\u001b[1;32m----> 3\u001b[0m t[\u001b[38;5;241m5\u001b[39m]\u001b[38;5;241m=\u001b[39m\u001b[38;5;241m8\u001b[39m\n",
      "\u001b[1;31mTypeError\u001b[0m: 'tuple' object does not support item assignment"
     ]
    }
   ],
   "source": [
    "#tuples are immutable i.e we can't change the elements in the tuple.\n",
    "#example\n",
    "t[5]=8"
   ]
  },
  {
   "cell_type": "code",
   "execution_count": 4,
   "id": "286470c7",
   "metadata": {},
   "outputs": [
    {
     "data": {
      "text/plain": [
       "(1, 1, 1)"
      ]
     },
     "execution_count": 4,
     "metadata": {},
     "output_type": "execute_result"
    }
   ],
   "source": [
    "#tuples allows duplicate elements\n",
    "#example\n",
    "t=(1,1,1)\n",
    "t"
   ]
  },
  {
   "cell_type": "code",
   "execution_count": 5,
   "id": "6a69f008",
   "metadata": {},
   "outputs": [
    {
     "ename": "NameError",
     "evalue": "name 't' is not defined",
     "output_type": "error",
     "traceback": [
      "\u001b[1;31m---------------------------------------------------------------------------\u001b[0m",
      "\u001b[1;31mNameError\u001b[0m                                 Traceback (most recent call last)",
      "Cell \u001b[1;32mIn[5], line 3\u001b[0m\n\u001b[0;32m      1\u001b[0m \u001b[38;5;66;03m#use del to delete the tuple\u001b[39;00m\n\u001b[0;32m      2\u001b[0m \u001b[38;5;28;01mdel\u001b[39;00m t\n\u001b[1;32m----> 3\u001b[0m t\n",
      "\u001b[1;31mNameError\u001b[0m: name 't' is not defined"
     ]
    }
   ],
   "source": [
    "#use del to delete the tuple\n",
    "del t\n",
    "t"
   ]
  },
  {
   "cell_type": "code",
   "execution_count": 6,
   "id": "09a4a963",
   "metadata": {},
   "outputs": [
    {
     "data": {
      "text/plain": [
       "'vamsi\"krishna\"'"
      ]
     },
     "execution_count": 6,
     "metadata": {},
     "output_type": "execute_result"
    }
   ],
   "source": [
    "t=(\"vamsi\\\"krishna\\\"\")#double cots inside the double cots does not works, its gives error. to overcome it by using \\\"backslace\"   \n",
    "t"
   ]
  },
  {
   "cell_type": "code",
   "execution_count": 7,
   "id": "eb7112d3",
   "metadata": {},
   "outputs": [
    {
     "name": "stdout",
     "output_type": "stream",
     "text": [
      "amsikrishna\n",
      "pavan\n",
      "[5, 2, 3, 4]\n"
     ]
    },
    {
     "ename": "TypeError",
     "evalue": "'tuple' object does not support item assignment",
     "output_type": "error",
     "traceback": [
      "\u001b[1;31m---------------------------------------------------------------------------\u001b[0m",
      "\u001b[1;31mTypeError\u001b[0m                                 Traceback (most recent call last)",
      "Cell \u001b[1;32mIn[7], line 6\u001b[0m\n\u001b[0;32m      4\u001b[0m t[\u001b[38;5;241m6\u001b[39m][\u001b[38;5;241m0\u001b[39m]\u001b[38;5;241m=\u001b[39m\u001b[38;5;241m5\u001b[39m\n\u001b[0;32m      5\u001b[0m \u001b[38;5;28mprint\u001b[39m(t[\u001b[38;5;241m6\u001b[39m])\n\u001b[1;32m----> 6\u001b[0m t[\u001b[38;5;241m6\u001b[39m]\u001b[38;5;241m=\u001b[39m\u001b[38;5;241m5\u001b[39m\n",
      "\u001b[1;31mTypeError\u001b[0m: 'tuple' object does not support item assignment"
     ]
    }
   ],
   "source": [
    "t=('vamsikrishna',5,55,987,'pavan',\"vinay\",[1,2,3,4])#tuple allows hetrogenious datatypes.\n",
    "print(t[0][1:])\n",
    "print(t[4])\n",
    "t[6][0]=5\n",
    "print(t[6])\n",
    "t[6]=5#tuples are immutabe"
   ]
  },
  {
   "cell_type": "code",
   "execution_count": 8,
   "id": "866bb8ae",
   "metadata": {},
   "outputs": [
    {
     "data": {
      "text/plain": [
       "(0, 0, 0, 0, 0)"
      ]
     },
     "execution_count": 8,
     "metadata": {},
     "output_type": "execute_result"
    }
   ],
   "source": [
    "#tuple inside the tuple\n",
    "t=(1,2,3,5,8,(8,9,7,6,5,4,(0,0,0,0,0,)))\n",
    "t[5][6]"
   ]
  },
  {
   "cell_type": "code",
   "execution_count": 9,
   "id": "c11b570f",
   "metadata": {},
   "outputs": [
    {
     "name": "stdout",
     "output_type": "stream",
     "text": [
      "10\n",
      "40\n",
      "-20\n",
      "300\n"
     ]
    }
   ],
   "source": [
    "a,b=\"vamsi\",5\n",
    "print(b+5)\n",
    "#here we are using b+5, it internally become like int.__add__(b+5) \n",
    "#example\n",
    "\n",
    "a=10\n",
    "b=30\n",
    "print(int.__add__(a,b))\n",
    "#similarly\n",
    "print(int.__sub__(a,b))\n",
    "print(int.__mul__(a,b))\n",
    "#all the above are the magic methods in python.\n",
    "#whenever we using +/-/* it internally uses the magic methods."
   ]
  },
  {
   "cell_type": "code",
   "execution_count": 10,
   "id": "d4233bca",
   "metadata": {},
   "outputs": [
    {
     "data": {
      "text/plain": [
       "'\\nConstructor:\\n    -it is a special method in python.\\n    -it allocates the memory for identifiers/variabes in the ram.\\n    -we are having a speciAL constructor in python i.e __init__\\n'"
      ]
     },
     "execution_count": 10,
     "metadata": {},
     "output_type": "execute_result"
    }
   ],
   "source": [
    "\"\"\"\n",
    "Constructor:\n",
    "    -it is a special method in python.\n",
    "    -it allocates the memory for identifiers/variabes in the ram.\n",
    "    -we are having a speciAL constructor in python i.e __init__\n",
    "\"\"\""
   ]
  },
  {
   "cell_type": "code",
   "execution_count": 11,
   "id": "12ebe6e3",
   "metadata": {},
   "outputs": [
    {
     "name": "stdout",
     "output_type": "stream",
     "text": [
      "(1, 2, 3, 4, 5, 6, 7, 6)\n",
      "(1, 2, 3, 4, 5)\n",
      "()\n",
      "(5,)\n",
      "(1, 3, 5)\n",
      "(1, 4)\n",
      "(1, 4)\n"
     ]
    }
   ],
   "source": [
    "#tuple slicing:\n",
    "t=(1,2,3,4,5,6,7,6)\n",
    "print(t[:])\n",
    "print(t[0:5])\n",
    "print(t[5:5])\n",
    "print(t[4:5])\n",
    "print(t[0:6:2])\n",
    "print(t[0:6:3])\n",
    "print(t[0:-2:3])"
   ]
  },
  {
   "cell_type": "code",
   "execution_count": 12,
   "id": "3eff43b1",
   "metadata": {},
   "outputs": [
    {
     "data": {
      "text/plain": [
       "range(0, 5)"
      ]
     },
     "execution_count": 12,
     "metadata": {},
     "output_type": "execute_result"
    }
   ],
   "source": [
    "#range(): it is a predefined function in python. \n",
    "#it is used to generate the sequence of number in list or tuple.\n",
    "range(5)"
   ]
  },
  {
   "cell_type": "code",
   "execution_count": 13,
   "id": "25bf5443",
   "metadata": {},
   "outputs": [
    {
     "name": "stdout",
     "output_type": "stream",
     "text": [
      "[6, 7, 8, 9, 10, 11, 12, 13, 14, 15, 16, 17, 18, 19, 20, 21, 22, 23, 24, 25, 26, 27, 28, 29, 30, 31, 32, 33, 34, 35, 36, 37, 38, 39, 40, 41, 42, 43, 44, 45, 46, 47, 48, 49]\n"
     ]
    }
   ],
   "source": [
    "r=list(tuple(range(6,50)))\n",
    "print(r)"
   ]
  },
  {
   "cell_type": "code",
   "execution_count": 14,
   "id": "d7eb727a",
   "metadata": {},
   "outputs": [
    {
     "name": "stdout",
     "output_type": "stream",
     "text": [
      "[6, 11, 16, 21, 26, 31, 36, 41, 46]\n"
     ]
    }
   ],
   "source": [
    "r=list(tuple(range(6,50,5)))#steper value.\n",
    "print(r)"
   ]
  },
  {
   "cell_type": "code",
   "execution_count": 15,
   "id": "fed8803d",
   "metadata": {},
   "outputs": [
    {
     "name": "stdout",
     "output_type": "stream",
     "text": [
      "(0, 6)\n",
      "(1, 11)\n",
      "(2, 16)\n",
      "(3, 21)\n",
      "(4, 26)\n",
      "(5, 31)\n",
      "(6, 36)\n",
      "(7, 41)\n",
      "(8, 46)\n"
     ]
    }
   ],
   "source": [
    "for i in enumerate(r):\n",
    "    print(i)"
   ]
  },
  {
   "cell_type": "code",
   "execution_count": 16,
   "id": "f1fbba5c",
   "metadata": {},
   "outputs": [
    {
     "name": "stdout",
     "output_type": "stream",
     "text": [
      "<class 'tuple'>\n",
      "[0, 7, 14, 21, 28, 35, 42, 49]\n",
      "[49, 42, 35, 28, 21, 14, 7, 0]\n"
     ]
    }
   ],
   "source": [
    "#tuple sorting\n",
    "l=tuple(range(0,50,7))\n",
    "\n",
    "print(type(l))\n",
    "#sorted function is used to sort the tuples and also lists, but it's not saved in memory.\n",
    "print(sorted(l))#by default ascending order\n",
    "print(sorted(l,reverse=True))#hyper parameter tunning"
   ]
  },
  {
   "cell_type": "code",
   "execution_count": 17,
   "id": "41bf2859",
   "metadata": {},
   "outputs": [
    {
     "name": "stdout",
     "output_type": "stream",
     "text": [
      "<class 'set'>\n"
     ]
    }
   ],
   "source": [
    "\"\"\"\n",
    "Set data structure:\n",
    "                    it is the datastructure in python.\n",
    "        -it is represented with {}.\n",
    "\"\"\"\n",
    "#example:\n",
    "s={5,}\n",
    "print(type(s))"
   ]
  },
  {
   "cell_type": "code",
   "execution_count": 18,
   "id": "a877f3a0",
   "metadata": {},
   "outputs": [
    {
     "name": "stdout",
     "output_type": "stream",
     "text": [
      "{0, 1, 2, 3, 5, 6, 7, 8}\n"
     ]
    }
   ],
   "source": [
    "#if we store only homogenious data in the set, then it stored them in sorted.\n",
    "#example:\n",
    "s={1,8,6,2,3,0,7,5}\n",
    "print(s)#it stored in ascending order"
   ]
  },
  {
   "cell_type": "code",
   "execution_count": 19,
   "id": "f75486ad",
   "metadata": {},
   "outputs": [
    {
     "data": {
      "text/plain": [
       "{5, 6, 7, 9}"
      ]
     },
     "execution_count": 19,
     "metadata": {},
     "output_type": "execute_result"
    }
   ],
   "source": [
    "#set does'nt allows the duplicates\n",
    "#example\n",
    "\n",
    "s={5,5,5,5,6,7,7,9}\n",
    "s\n",
    "#if we stored the hetrogenious elements in a set, then it will not stored in ordered format."
   ]
  },
  {
   "cell_type": "code",
   "execution_count": 20,
   "id": "d2124fc0",
   "metadata": {},
   "outputs": [
    {
     "name": "stdout",
     "output_type": "stream",
     "text": [
      "{1, 2, 4, 5, 7, 9, 10, (3.8+5j), 'vamsi'}\n"
     ]
    }
   ],
   "source": [
    "\"\"\"\n",
    "add(): add is a predefined function in python.\n",
    "    -it is a parameterized function that means it allows arguments. \n",
    "    -it alows only one parameter.\n",
    "    -it is used to insert an element into the set.\n",
    "\"\"\"\n",
    "#example:\n",
    "\n",
    "s={1,2,3.8+5j,4,5,7,\"vamsi\"}\n",
    "s.add(10)\n",
    "s.add(9)\n",
    "print(s)\n"
   ]
  },
  {
   "cell_type": "code",
   "execution_count": 21,
   "id": "428e0d42",
   "metadata": {},
   "outputs": [
    {
     "name": "stdout",
     "output_type": "stream",
     "text": [
      "{0, 2, 67, 4, 5, 9}\n",
      "{0, 2, 67, 4, 5, 9}\n",
      "1743512286400 \n",
      " 1743512285952\n"
     ]
    }
   ],
   "source": [
    "#copy(): it is the inbuilt function in python.\n",
    "        #-it is used to copy the set and assigned it to another variable/identifier.\n",
    "#example\n",
    "s={4,9,2,0,67,9,5,9}\n",
    "print(s)\n",
    "ss=s.copy()\n",
    "print(ss)\n",
    "print(id(s),\"\\n\",id(ss))#in sets, eventhough the values are same but id's are different."
   ]
  },
  {
   "cell_type": "code",
   "execution_count": 22,
   "id": "cc870f68",
   "metadata": {},
   "outputs": [
    {
     "name": "stdout",
     "output_type": "stream",
     "text": [
      "{0, 2, 67, 4, 5, 9}\n",
      "set()\n"
     ]
    },
    {
     "ename": "NameError",
     "evalue": "name 'ss' is not defined",
     "output_type": "error",
     "traceback": [
      "\u001b[1;31m---------------------------------------------------------------------------\u001b[0m",
      "\u001b[1;31mNameError\u001b[0m                                 Traceback (most recent call last)",
      "Cell \u001b[1;32mIn[22], line 6\u001b[0m\n\u001b[0;32m      4\u001b[0m \u001b[38;5;28mprint\u001b[39m(s)\n\u001b[0;32m      5\u001b[0m \u001b[38;5;28;01mdel\u001b[39;00m ss\u001b[38;5;66;03m#we can abe to delete set by using del\u001b[39;00m\n\u001b[1;32m----> 6\u001b[0m ss\n",
      "\u001b[1;31mNameError\u001b[0m: name 'ss' is not defined"
     ]
    }
   ],
   "source": [
    "#clear(): it is used to clear the elements in the set.\n",
    "print(s)\n",
    "s.clear()\n",
    "print(s)\n",
    "del ss#we can abe to delete set by using del\n",
    "ss"
   ]
  },
  {
   "cell_type": "code",
   "execution_count": 23,
   "id": "90dc28ba",
   "metadata": {},
   "outputs": [
    {
     "name": "stdout",
     "output_type": "stream",
     "text": [
      "{66, 36, 6, 71, 41, 11, 76, 46, 16, 51, 21, 56, 26, 61, 31}\n",
      "True\n",
      "{66, 36, 6, 41, 11, 76, 46, 16, 51, 21, 56, 26, 61, 31}\n"
     ]
    }
   ],
   "source": [
    "#remove(): it is used to remove a specific element in the set.\n",
    "#example:\n",
    "s=set(range(6,80,5))\n",
    "print(s)\n",
    "print(71 in s)\n",
    "s.remove(71)\n",
    "print(s)"
   ]
  },
  {
   "cell_type": "code",
   "execution_count": 24,
   "id": "54f22b49",
   "metadata": {},
   "outputs": [
    {
     "name": "stdout",
     "output_type": "stream",
     "text": [
      "{66, 36, 6, 41, 11, 76, 46, 16, 51, 21, 56, 26, 61, 31}\n",
      "66\n",
      "36\n",
      "6\n",
      "41\n",
      "11\n"
     ]
    }
   ],
   "source": [
    "#pop(): it is used to remove and return the arbitrary element in the set.\n",
    "#arbitrary element means random element.\n",
    "#pop in list allows the index position as argument but pop in sets does'nt allows arguments.  \n",
    "print(s)\n",
    "print(s.pop())\n",
    "print(s.pop())\n",
    "print(s.pop())\n",
    "print(s.pop())\n",
    "print(s.pop())"
   ]
  },
  {
   "cell_type": "code",
   "execution_count": 25,
   "id": "158c018b",
   "metadata": {},
   "outputs": [
    {
     "name": "stdout",
     "output_type": "stream",
     "text": [
      "{76, 46, 16, 51, 21, 56, 26, 61, 31}\n"
     ]
    },
    {
     "data": {
      "text/plain": [
       "True"
      ]
     },
     "execution_count": 25,
     "metadata": {},
     "output_type": "execute_result"
    }
   ],
   "source": [
    "print(s)\n",
    "76 in s#finding spesific element in a set"
   ]
  },
  {
   "cell_type": "code",
   "execution_count": 26,
   "id": "b00e7e15",
   "metadata": {},
   "outputs": [
    {
     "data": {
      "text/plain": [
       "{1, 2, 3, 10, 12, 14, 16, 21, 26, 31, 46, 51, 56, 61, 76}"
      ]
     },
     "execution_count": 26,
     "metadata": {},
     "output_type": "execute_result"
    }
   ],
   "source": [
    "#update(): it is used to insert multiple elements to a set.\n",
    "#it always accept only iteratetable element(i.e lists, tules, sets)\n",
    "s.update([1,2,3])\n",
    "s.update(range(10,15,2))\n",
    "s1=list(range(100,150)[-1:-25:1])\n",
    "s.update(s1)\n",
    "s"
   ]
  },
  {
   "cell_type": "code",
   "execution_count": 27,
   "id": "29c44826",
   "metadata": {},
   "outputs": [
    {
     "data": {
      "text/plain": [
       "{1, 2, 3, 10, 14, 16, 21, 31, 46, 51, 56, 61, 76}"
      ]
     },
     "execution_count": 27,
     "metadata": {},
     "output_type": "execute_result"
    }
   ],
   "source": [
    "#discard(): it is used to remove an element from a set.\n",
    "#if the required elements present in the set, then it will remove. If the element is not present then also we wil not get any error  \n",
    "#it is similar to remove() in lists. But if the required element is not present in the list then we will get an error\n",
    "s.discard(100)\n",
    "s.discard(12)\n",
    "s.discard(26)\n",
    "s"
   ]
  },
  {
   "cell_type": "code",
   "execution_count": 32,
   "id": "77ddcc85",
   "metadata": {},
   "outputs": [
    {
     "name": "stdout",
     "output_type": "stream",
     "text": [
      "{1, 2, 3, 6, 7, 8, 10, 20, 30}\n",
      "{1, 2, 3, 6, 7, 8}\n",
      "{1, 2, 3, 6, 7, 8, 10, 20, 30}\n"
     ]
    },
    {
     "data": {
      "text/plain": [
       "{1, 2, 3, 6, 7, 8, 10, 20, 30}"
      ]
     },
     "execution_count": 32,
     "metadata": {},
     "output_type": "execute_result"
    }
   ],
   "source": [
    "#Set operations\n",
    "\n",
    "#-> Union: it means all the elements in all sets\n",
    "#in python the union is represented with single pipe \" | \"\n",
    "#example\n",
    "\n",
    "s={1,2,3}\n",
    "a={6,7,8}\n",
    "b={10,20,30}\n",
    "print(s|a|b)\n",
    "\n",
    "#union(): this function is alternate to find the union of the sets\n",
    "#it is a predefined function in set data structure\n",
    "\n",
    "print(s.union(a))\n",
    "print(s.union(a,b))#we can give any number of sets as parameters.\n",
    "s.update(a,b)#we can also preform the above thing by using update()\n",
    "s"
   ]
  },
  {
   "cell_type": "code",
   "execution_count": 33,
   "id": "75b404a7",
   "metadata": {},
   "outputs": [
    {
     "name": "stdout",
     "output_type": "stream",
     "text": [
      "{3, 4}\n",
      "{4}\n",
      "{3, 4}\n",
      "{4}\n"
     ]
    }
   ],
   "source": [
    "#Intersection:  it means commmon elements of the sets.\n",
    "#in python the intersection is represented with AND symbol \" & \".\n",
    "\n",
    "#example\n",
    "\n",
    "a={1,2,3,4,5}\n",
    "b={3,4}\n",
    "c={1,4,8,9}\n",
    "\n",
    "print(b&a)\n",
    "print(a&b&c)\n",
    "#same thing we can able to perform by using intersection()\n",
    "\n",
    "print(b.intersection(a))\n",
    "print(a.intersection(b,c))"
   ]
  },
  {
   "cell_type": "code",
   "execution_count": 34,
   "id": "b48669a1",
   "metadata": {},
   "outputs": [
    {
     "name": "stdout",
     "output_type": "stream",
     "text": [
      "{2, 4, 7}\n"
     ]
    },
    {
     "data": {
      "text/plain": [
       "{2, 4}"
      ]
     },
     "execution_count": 34,
     "metadata": {},
     "output_type": "execute_result"
    }
   ],
   "source": [
    "#difference: it means substracting elements from a set based on another set/sets\n",
    "#example\n",
    "\n",
    "a={1,2,3,4,6,7}\n",
    "b={1,5,3,58,6}\n",
    "c={7,}\n",
    "print(a-b)\n",
    "#same thing we can able to perform by using difference()\n",
    "a.difference(b,c)"
   ]
  },
  {
   "cell_type": "code",
   "execution_count": 35,
   "id": "47bd50b5",
   "metadata": {},
   "outputs": [
    {
     "name": "stdout",
     "output_type": "stream",
     "text": [
      "{8, 9, 5, 6}\n",
      "{5, 6, 9}\n"
     ]
    }
   ],
   "source": [
    "#symmetric difference: it means getting non common elements from the sets.\n",
    "#it is represents with \" ^ \".\n",
    "#example:\n",
    " \n",
    "a={4,5,6,78,8,9}\n",
    "b={4,78,8}\n",
    "c={8}\n",
    "print(a^b^c)\n",
    "#same thing we can able to perform by using symmetric_difference()\n",
    "\n",
    "print(a.symmetric_difference(b))"
   ]
  }
 ],
 "metadata": {
  "kernelspec": {
   "display_name": "Python 3 (ipykernel)",
   "language": "python",
   "name": "python3"
  },
  "language_info": {
   "codemirror_mode": {
    "name": "ipython",
    "version": 3
   },
   "file_extension": ".py",
   "mimetype": "text/x-python",
   "name": "python",
   "nbconvert_exporter": "python",
   "pygments_lexer": "ipython3",
   "version": "3.11.5"
  }
 },
 "nbformat": 4,
 "nbformat_minor": 5
}
