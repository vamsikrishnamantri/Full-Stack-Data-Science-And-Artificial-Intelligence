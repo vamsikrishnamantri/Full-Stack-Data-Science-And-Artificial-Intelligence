{
 "cells": [
  {
   "cell_type": "code",
   "execution_count": 22,
   "id": "25fb1d7c",
   "metadata": {},
   "outputs": [],
   "source": [
    "#Data Structures\n",
    "#Datatype stores one singe value in it\n",
    "a=10\n",
    "b=20\n",
    "#But the data structure store more that one values in it.\n",
    "#datastructure is a collection of datatypes.\n",
    "#we are having some of the data structures in python. they are list, set, tuple, dict."
   ]
  },
  {
   "cell_type": "code",
   "execution_count": 23,
   "id": "7bff839b",
   "metadata": {},
   "outputs": [
    {
     "name": "stdout",
     "output_type": "stream",
     "text": [
      "<class 'list'>\n",
      "[1, 2, 3]\n"
     ]
    }
   ],
   "source": [
    "#List:- it is a data structure in python.\n",
    "#the lists in python are always represented with square brackets []\n",
    "#it is a collection of sequence of datatypes.\n",
    "#example:\n",
    "l=[]#it is empty list\n",
    "print(type(l))\n",
    "l=[1,2,3]\n",
    "print(l)"
   ]
  },
  {
   "cell_type": "code",
   "execution_count": 24,
   "id": "19f436b2",
   "metadata": {},
   "outputs": [
    {
     "name": "stdout",
     "output_type": "stream",
     "text": [
      "[123]\n",
      "[123, 456]\n"
     ]
    }
   ],
   "source": [
    "#list datasturcture have some of the built-in functions such as append, pop, copy, remove, insert, clear, count, reverse, sort.\n",
    "#Append function:- this function is used to add the elements/values/datatypes to the end of the list.\n",
    "#example\n",
    "l=[123]\n",
    "print(l)\n",
    "l.append(456)#append can accept single parameter. If we try to pass more than 1 parameter we will get the error.\n",
    "print(l)"
   ]
  },
  {
   "cell_type": "code",
   "execution_count": 25,
   "id": "83433a40",
   "metadata": {},
   "outputs": [
    {
     "name": "stdout",
     "output_type": "stream",
     "text": [
      "[123, 456, 789, 10.562, (5+0j), True, 'vamsikrishna']\n"
     ]
    }
   ],
   "source": [
    "#list data structure can accept hetrogeneous data(i.e different types of datatypes)\n",
    "#example\n",
    "l.append(789)\n",
    "l.append(10.562)\n",
    "l.append(5+0j)\n",
    "l.append(True)\n",
    "l.append('vamsikrishna')\n",
    "print(l)"
   ]
  },
  {
   "cell_type": "code",
   "execution_count": 26,
   "id": "150a9f51",
   "metadata": {},
   "outputs": [
    {
     "name": "stdout",
     "output_type": "stream",
     "text": [
      "[123, 456, 789, 10.562, (5+0j), True, 'vamsikrishna']\n",
      "[123, 456, 789, 10.562, (5+0j), True, 'vamsikrishna']\n",
      "True\n",
      "[123, 456, 789, 10.562, (5+0j), True, 'vamsikrishna', 'vamsikrishna']\n"
     ]
    }
   ],
   "source": [
    "#copy: this function is used to copy a list and used to assign it to another variable.\n",
    "#example\n",
    "print(l)\n",
    "li=l.copy()\n",
    "print(li)\n",
    "print(l==li)\n",
    "#the list will accepts the duplicate values\n",
    "l.append(\"vamsikrishna\")\n",
    "print(l)"
   ]
  },
  {
   "cell_type": "code",
   "execution_count": 27,
   "id": "e4010ecf",
   "metadata": {},
   "outputs": [
    {
     "name": "stdout",
     "output_type": "stream",
     "text": [
      "[123, 456, 789, 10.562, (5+0j), True, 'vamsikrishna', 'vamsikrishna']\n",
      "[]\n"
     ]
    }
   ],
   "source": [
    "#clear:- this function is used to clear all the elements in the list.\n",
    "#example:\n",
    "print(l)\n",
    "l.clear()\n",
    "print(l)"
   ]
  },
  {
   "cell_type": "code",
   "execution_count": 28,
   "id": "317c5472",
   "metadata": {},
   "outputs": [
    {
     "name": "stdout",
     "output_type": "stream",
     "text": [
      "[123, 456, 789, 10.562, (5+0j), True, 'vamsikrishna']\n",
      "2\n"
     ]
    }
   ],
   "source": [
    "#count:- the function is used to count the elements in the list that how many time a value is repeated.\n",
    "print(li)\n",
    "li.append('vamsikrishna')\n",
    "print(li.count('vamsikrishna'))#vamsikrishna repeated two times\n",
    "#count accepts only one element as a parameter."
   ]
  },
  {
   "cell_type": "code",
   "execution_count": 29,
   "id": "9fdd3a13",
   "metadata": {},
   "outputs": [
    {
     "name": "stdout",
     "output_type": "stream",
     "text": [
      "[123, 456, 789, 10.562, (5+0j), True, 'vamsikrishna', 'vamsikrishna']\n",
      "['vamsi', 123, 456, 789, 10.562, (5+0j), True, 'vamsikrishna', 'vamsikrishna']\n",
      "['vamsi', 123, 456, 789, 10.562, (5+0j), True, 'vamsikrishna', 'vamsikrishna', 'pappu']\n"
     ]
    }
   ],
   "source": [
    "#insert:- this function is used to insert the element in the list in a specific index position.\n",
    "#it accepts two values as parameters, first parameter-index position, second parameter-value.\n",
    "#example\n",
    "print(li)\n",
    "li.insert(0,\"vamsi\")\n",
    "print(li)\n",
    "li.insert(len(li),'pappu')\n",
    "print(li)\n",
    "#insert function add the element at before the index position."
   ]
  },
  {
   "cell_type": "code",
   "execution_count": 30,
   "id": "60d29c14",
   "metadata": {},
   "outputs": [
    {
     "name": "stdout",
     "output_type": "stream",
     "text": [
      "['vamsi', 123, 456, 789, 10.562, (5+0j), True, 'vamsikrishna', 'vamsikrishna', 'pappu']\n",
      "[123, 456, 789, 10.562, (5+0j), True, 'vamsikrishna', 'vamsikrishna', 'pappu']\n"
     ]
    }
   ],
   "source": [
    "#remove:- this function is used to remove a specific element in the list.\n",
    "print(li)\n",
    "#this function accepts only one value as a parameter.\n",
    "li.remove('vamsi')\n",
    "print(li)"
   ]
  },
  {
   "cell_type": "code",
   "execution_count": 31,
   "id": "d384de12",
   "metadata": {},
   "outputs": [
    {
     "name": "stdout",
     "output_type": "stream",
     "text": [
      "[123, 456, 789, 10.562, (5+0j), True, 'vamsikrishna', 'vamsikrishna', 'pappu']\n",
      "pappu\n",
      "[123, 456, 789, 10.562, (5+0j), True, 'vamsikrishna', 'vamsikrishna']\n",
      "[123, 456, 789, 10.562, (5+0j), True, 'vamsikrishna']\n"
     ]
    }
   ],
   "source": [
    "#pop: this function is used to remove the element from the end of the list and print it\n",
    "print(li)\n",
    "print(li.pop())\n",
    "print(li)\n",
    "#pop by default remove the last element, it accepts one parameter and we ahve to pass the index position.\n",
    "li.pop(len(li)-2)\n",
    "print(li)"
   ]
  },
  {
   "cell_type": "code",
   "execution_count": 32,
   "id": "79a8f2e3",
   "metadata": {},
   "outputs": [
    {
     "data": {
      "text/plain": [
       "[1, 2, 3, [123, 456, 789, 10.562, (5+0j), True, 'vamsikrishna']]"
      ]
     },
     "execution_count": 32,
     "metadata": {},
     "output_type": "execute_result"
    }
   ],
   "source": [
    "#we can also append a list inside any list\n",
    "a=[1,2,3]\n",
    "a.append(li)\n",
    "a"
   ]
  },
  {
   "cell_type": "code",
   "execution_count": 33,
   "id": "9512ff84",
   "metadata": {},
   "outputs": [
    {
     "name": "stdout",
     "output_type": "stream",
     "text": [
      "list slicing\n",
      "[123, 456, 789, 10.562, (5+0j), True, 'vamsikrishna']\n",
      "[123, 456, 789, 10.562, (5+0j), True, 'vamsikrishna']\n",
      "[123, 456, 789, 10.562, (5+0j), True, 'vamsikrishna']\n",
      "[10.562, (5+0j), True, 'vamsikrishna']\n",
      "[10.562, (5+0j), True]\n",
      "[123, 456, 789, 10.562, (5+0j)]\n",
      "[789, 10.562]\n"
     ]
    }
   ],
   "source": [
    "#List indexing:- in list we are having both forward and backword indexing.\n",
    "#the forward indexing start with 0 and the backward indexing start with -1\n",
    "#list slicing:- the slicing in python is always represented with : single colon.\n",
    "#the list slicing is used to extract the part of the list in a list.\n",
    "#example:\n",
    "#synatx - a[starting index:ending index]\n",
    "print('list slicing')\n",
    "a=li.copy()\n",
    "print(a)\n",
    "print(a[:])#it returns all the elements\n",
    "print(a[0:])#it returns all the elements\n",
    "print(a[3:])#from 3rd index to last\n",
    "print(a[3:6])#from 3rd to 6-1th index position\n",
    "print(a[0:-2])#backword indexing\n",
    "print(a[-5:-3])"
   ]
  },
  {
   "cell_type": "code",
   "execution_count": 34,
   "id": "9134e492",
   "metadata": {},
   "outputs": [
    {
     "name": "stdout",
     "output_type": "stream",
     "text": [
      "[123, 456, 789, 10.562, (5+0j), True, 'vamsikrishna']\n",
      "['start', 456, 789, 10.562, (5+0j), True, 'end']\n"
     ]
    },
    {
     "data": {
      "text/plain": [
       "'st'"
      ]
     },
     "execution_count": 34,
     "metadata": {},
     "output_type": "execute_result"
    }
   ],
   "source": [
    "#list are mutable(i.e we can replace any element with another element in a list by using index positions)\n",
    "print(a)\n",
    "a[0]=\"start\"\n",
    "a[len(a)-1]=\"end\"\n",
    "print(a)\n",
    "a[0][0:2]                                                                                                 "
   ]
  }
 ],
 "metadata": {
  "kernelspec": {
   "display_name": "Python 3 (ipykernel)",
   "language": "python",
   "name": "python3"
  },
  "language_info": {
   "codemirror_mode": {
    "name": "ipython",
    "version": 3
   },
   "file_extension": ".py",
   "mimetype": "text/x-python",
   "name": "python",
   "nbconvert_exporter": "python",
   "pygments_lexer": "ipython3",
   "version": "3.11.5"
  }
 },
 "nbformat": 4,
 "nbformat_minor": 5
}
