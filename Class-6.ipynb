{
 "cells": [
  {
   "cell_type": "code",
   "execution_count": 1,
   "id": "d8f40e0e",
   "metadata": {},
   "outputs": [
    {
     "data": {
      "text/plain": [
       "3"
      ]
     },
     "execution_count": 1,
     "metadata": {},
     "output_type": "execute_result"
    }
   ],
   "source": [
    "#Bool\n",
    "b=True\n",
    "True+False+True+True#1+0+1+1"
   ]
  },
  {
   "cell_type": "code",
   "execution_count": 2,
   "id": "dae63b10",
   "metadata": {},
   "outputs": [
    {
     "name": "stdout",
     "output_type": "stream",
     "text": [
      "(1+3j)\n",
      "1.0\n",
      "3.0\n"
     ]
    }
   ],
   "source": [
    "#complex\n",
    "c=1+3j\n",
    "print(c)\n",
    "print(c.real)\n",
    "print(c.imag)"
   ]
  },
  {
   "cell_type": "code",
   "execution_count": 3,
   "id": "52566f8a",
   "metadata": {},
   "outputs": [
    {
     "name": "stdout",
     "output_type": "stream",
     "text": [
      "<class 'str'>\n",
      "vamsi\n",
      "\n",
      "i'm learning python\n",
      "here\n",
      "\n",
      "i'm learning python\n",
      "here\n"
     ]
    }
   ],
   "source": [
    "#string\n",
    "s='vamsi'#single lined string\n",
    "print(type(s))\n",
    "print(s)\n",
    "s=\"\"\"\n",
    "i'm learning python\n",
    "here\"\"\"#multi lined string\n",
    "print(s)\n",
    "print(s)"
   ]
  },
  {
   "cell_type": "code",
   "execution_count": 4,
   "id": "3f0eeb03",
   "metadata": {},
   "outputs": [
    {
     "name": "stdout",
     "output_type": "stream",
     "text": [
      "10\n",
      "50\n"
     ]
    }
   ],
   "source": [
    "#variable overwritten\n",
    "a=10\n",
    "print(a)\n",
    "a=50\n",
    "print(a)#here old value i.e 10 overwritten with 50"
   ]
  },
  {
   "cell_type": "code",
   "execution_count": 5,
   "id": "eac77878",
   "metadata": {},
   "outputs": [
    {
     "data": {
      "text/plain": [
       "28"
      ]
     },
     "execution_count": 5,
     "metadata": {},
     "output_type": "execute_result"
    }
   ],
   "source": [
    "p1,p2,p3,p4,p5=1,2,3,4,5\n",
    "p4\n",
    "import sys\n",
    "sys.getsizeof(1)"
   ]
  },
  {
   "cell_type": "code",
   "execution_count": 6,
   "id": "412411f4",
   "metadata": {},
   "outputs": [
    {
     "name": "stdout",
     "output_type": "stream",
     "text": [
      "s\n",
      "i\n",
      "vams\n",
      "v\n",
      "ms\n",
      "ams\n",
      "pyt\n"
     ]
    }
   ],
   "source": [
    "#String indexing\n",
    "#sting indexing always assign in square brackets [].\n",
    "#in strings we are having two types of indexing such as 1-forward indexing and 2-backword indexing\n",
    "#the forward index positions are starts from 0 and the backword index positions are start from -1\n",
    "s=\"vamsi\"\n",
    "print(s[-2])\n",
    "print(s[-1])\n",
    "print(s[0:-1])\n",
    "print(s[0])\n",
    "print(s[-3:-1])\n",
    "print(s[1:-1])\n",
    "print('python'[:3])"
   ]
  },
  {
   "cell_type": "code",
   "execution_count": 7,
   "id": "09fb5430",
   "metadata": {},
   "outputs": [
    {
     "name": "stdout",
     "output_type": "stream",
     "text": [
      "vamsikrishna\n"
     ]
    }
   ],
   "source": [
    "#string concatination: it means combination of two or more strings to form into one string.\n",
    "#strings are immutable in python, immutable means if we concatinate one string with another string, then the first string will not overwritten with the newly formed string. It remains same as old.\n",
    "a=\"vamsi\"\n",
    "b=\"krishna\"\n",
    "print(a+b)\n",
    "#a[1]='h', here we can't change the string with the help of index positions."
   ]
  },
  {
   "cell_type": "code",
   "execution_count": 8,
   "id": "f01594da",
   "metadata": {},
   "outputs": [
    {
     "name": "stdout",
     "output_type": "stream",
     "text": [
      "50\n"
     ]
    }
   ],
   "source": [
    "#arguments or parameters: these are the variables that are present inside the paranthesis of the functions.\n",
    "#for example \n",
    "a=50\n",
    "print(a)#here a is the parameter the is passing the print function."
   ]
  },
  {
   "cell_type": "code",
   "execution_count": 9,
   "id": "85032127",
   "metadata": {},
   "outputs": [
    {
     "name": "stdout",
     "output_type": "stream",
     "text": [
      "converting float to int datatype\n",
      "10.5  is  <class 'float'>  type\n",
      "10  is  <class 'int'>  type\n",
      "conversion is possible\n",
      "===============================\n",
      "\n",
      "converting boolean to int datatype\n",
      "True  is  <class 'bool'>  type\n",
      "1  is  <class 'int'>  type\n",
      "conversion is possible\n",
      "===============================\n",
      "\n",
      "converting complex to int datatype\n",
      "(1+2j)  is  <class 'complex'>  type\n",
      "comlex to int conversion is not possible\n",
      "===============================\n",
      "\n",
      "converting String to int datatype\n",
      "100  is  <class 'str'>  type\n",
      "100  is  <class 'int'>  type\n",
      "string to int conversion is not possible, if we give any integer as string then it will typecast or else we will get an error\n",
      "===============================\n",
      "\n"
     ]
    }
   ],
   "source": [
    "#type casting: typecasting means changing of one datatype into another datatype.\n",
    "#other datatype in int\n",
    "\n",
    "print(\"converting float to int datatype\")\n",
    "a=10.5\n",
    "print(a,\" is \",type(a),\" type\")\n",
    "b=int(a)\n",
    "print(b,\" is \",type(b),\" type\")\n",
    "print(\"conversion is possible\")\n",
    "print(\"===============================\")\n",
    "print()\n",
    "print(\"converting boolean to int datatype\")\n",
    "a=True\n",
    "print(a,\" is \",type(a),\" type\")\n",
    "b=int(a)\n",
    "print(b,\" is \",type(b),\" type\")\n",
    "print(\"conversion is possible\")\n",
    "print(\"===============================\")\n",
    "print()\n",
    "print(\"converting complex to int datatype\")\n",
    "a=1+2j\n",
    "print(a,\" is \",type(a),\" type\")\n",
    "#b=int(a)\n",
    "#print(b,\" is \",type(b),\" type\")\n",
    "print(\"comlex to int conversion is not possible\")\n",
    "print(\"===============================\")\n",
    "print()\n",
    "print(\"converting String to int datatype\")\n",
    "a=\"100\"\n",
    "print(a,\" is \",type(a),\" type\")\n",
    "b=int(a)\n",
    "print(b,\" is \",type(b),\" type\")\n",
    "print(\"string to int conversion is not possible, if we give any integer as string then it will typecast or else we will get an error\")\n",
    "print(\"===============================\")\n",
    "print()"
   ]
  },
  {
   "cell_type": "code",
   "execution_count": 10,
   "id": "f87fb3aa",
   "metadata": {},
   "outputs": [
    {
     "name": "stdout",
     "output_type": "stream",
     "text": [
      "converting int to float datatype\n",
      "10  is  <class 'int'>  type\n",
      "10.0  is  <class 'float'>  type\n",
      "conversion is possible\n",
      "===============================\n",
      "\n",
      "converting boolean to float datatype\n",
      "False  is  <class 'bool'>  type\n",
      "0.0  is  <class 'float'>  type\n",
      "conversion is possible\n",
      "===============================\n",
      "\n",
      "converting complex to float datatype\n",
      "(5+6j)  is  <class 'complex'>  type\n",
      "conversion is not possible\n",
      "===============================\n",
      "\n",
      "converting string to float datatype\n",
      "5.25  is  <class 'str'>  type\n",
      "5.25  is  <class 'float'>  type\n",
      "string to float conversion is not possible, if we give any integer or float as string then it will typecast or else we will get an error\n",
      "===============================\n",
      "\n"
     ]
    }
   ],
   "source": [
    "print(\"converting int to float datatype\")\n",
    "a=10\n",
    "print(a,\" is \",type(a),\" type\")\n",
    "b=float(a)\n",
    "print(b,\" is \",type(b),\" type\")\n",
    "print(\"conversion is possible\")\n",
    "print(\"===============================\")\n",
    "print()\n",
    "print(\"converting boolean to float datatype\")\n",
    "a=False\n",
    "print(a,\" is \",type(a),\" type\")\n",
    "b=float(a)\n",
    "print(b,\" is \",type(b),\" type\")\n",
    "print(\"conversion is possible\")\n",
    "print(\"===============================\")\n",
    "print()\n",
    "print(\"converting complex to float datatype\")\n",
    "a=5+6j\n",
    "print(a,\" is \",type(a),\" type\")\n",
    "#b=float(a)\n",
    "#print(b,\" is \",type(b),\" type\")\n",
    "print(\"conversion is not possible\")\n",
    "print(\"===============================\")\n",
    "print()\n",
    "print(\"converting string to float datatype\")\n",
    "a=\"5.25\"\n",
    "print(a,\" is \",type(a),\" type\")\n",
    "b=float(a)\n",
    "print(b,\" is \",type(b),\" type\")\n",
    "print(\"string to float conversion is not possible, if we give any integer or float as string then it will typecast or else we will get an error\")\n",
    "print(\"===============================\")\n",
    "print()"
   ]
  },
  {
   "cell_type": "code",
   "execution_count": 11,
   "id": "18a00dad",
   "metadata": {},
   "outputs": [
    {
     "name": "stdout",
     "output_type": "stream",
     "text": [
      "converting int to bool datatype\n",
      "10  is  <class 'int'>  type\n",
      "True  is  <class 'bool'>  type\n",
      "conversion is possible\n",
      "===============================\n",
      "\n",
      "converting float to bool datatype\n",
      "10.25  is  <class 'float'>  type\n",
      "True  is  <class 'bool'>  type\n",
      "conversion is possible\n",
      "===============================\n",
      "\n",
      "converting complex to bool datatype\n",
      "(1+5j)  is  <class 'complex'>  type\n",
      "True  is  <class 'bool'>  type\n",
      "conversion is possible\n",
      "===============================\n",
      "\n",
      "converting String to bool datatype\n",
      "0  is  <class 'str'>  type\n",
      "True  is  <class 'bool'>  type\n",
      "conversion is possible\n",
      "===============================\n",
      "\n"
     ]
    }
   ],
   "source": [
    "#in boolean otherthan 0, that is considered as True\n",
    "print(\"converting int to bool datatype\")\n",
    "a=10\n",
    "print(a,\" is \",type(a),\" type\")\n",
    "b=bool(a)\n",
    "print(b,\" is \",type(b),\" type\")\n",
    "print(\"conversion is possible\")\n",
    "print(\"===============================\")\n",
    "print()\n",
    "print(\"converting float to bool datatype\")\n",
    "a=10.25\n",
    "print(a,\" is \",type(a),\" type\")\n",
    "b=bool(a)\n",
    "print(b,\" is \",type(b),\" type\")\n",
    "print(\"conversion is possible\")\n",
    "print(\"===============================\")\n",
    "print()\n",
    "print(\"converting complex to bool datatype\")\n",
    "a=1+5j\n",
    "print(a,\" is \",type(a),\" type\")\n",
    "b=bool(a)\n",
    "print(b,\" is \",type(b),\" type\")\n",
    "print(\"conversion is possible\")\n",
    "print(\"===============================\")\n",
    "print()\n",
    "print(\"converting String to bool datatype\")\n",
    "a=\"0\"\n",
    "print(a,\" is \",type(a),\" type\")\n",
    "b=bool(a)\n",
    "print(b,\" is \",type(b),\" type\")\n",
    "print(\"conversion is possible\")\n",
    "print(\"===============================\")\n",
    "print()"
   ]
  },
  {
   "cell_type": "code",
   "execution_count": 12,
   "id": "29fd02b0",
   "metadata": {},
   "outputs": [
    {
     "name": "stdout",
     "output_type": "stream",
     "text": [
      "converting int to complex datatype\n",
      "10  is  <class 'int'>  type\n",
      "(10+0j)  is  <class 'complex'>  type\n",
      "conversion is possible\n",
      "===============================\n",
      "\n",
      "converting float to complex datatype\n",
      "10.25  is  <class 'float'>  type\n",
      "(10.25+0j)  is  <class 'complex'>  type\n",
      "conversion is possible\n",
      "===============================\n",
      "\n",
      "converting bool to complex datatype\n",
      "False  is  <class 'bool'>  type\n",
      "0j  is  <class 'complex'>  type\n",
      "conversion is possible\n",
      "===============================\n",
      "\n",
      "converting String to complex datatype\n",
      "50  is  <class 'str'>  type\n",
      "(50+0j)  is  <class 'complex'>  type\n",
      "(25+0j)\n",
      "conversion is possible\n",
      "===============================\n",
      "\n"
     ]
    }
   ],
   "source": [
    "print(\"converting int to complex datatype\")\n",
    "a=10\n",
    "print(a,\" is \",type(a),\" type\")\n",
    "b=complex(a)\n",
    "print(b,\" is \",type(b),\" type\")\n",
    "print(\"conversion is possible\")\n",
    "print(\"===============================\")\n",
    "print()\n",
    "print(\"converting float to complex datatype\")\n",
    "a=10.25\n",
    "print(a,\" is \",type(a),\" type\")\n",
    "b=complex(a)\n",
    "print(b,\" is \",type(b),\" type\")\n",
    "print(\"conversion is possible\")\n",
    "print(\"===============================\")\n",
    "print()\n",
    "print(\"converting bool to complex datatype\")\n",
    "a=False\n",
    "print(a,\" is \",type(a),\" type\")\n",
    "b=complex(a)\n",
    "print(b,\" is \",type(b),\" type\")\n",
    "print(\"conversion is possible\")\n",
    "print(\"===============================\")\n",
    "print()\n",
    "print(\"converting String to complex datatype\")\n",
    "a='50'\n",
    "print(a,\" is \",type(a),\" type\")\n",
    "b=complex(a)\n",
    "print(b,\" is \",type(b),\" type\")\n",
    "print(complex('2''5'))\n",
    "print(\"conversion is possible\")\n",
    "print(\"===============================\")\n",
    "print()"
   ]
  },
  {
   "cell_type": "code",
   "execution_count": 13,
   "id": "ca6cf1b2",
   "metadata": {},
   "outputs": [
    {
     "name": "stdout",
     "output_type": "stream",
     "text": [
      "converting int to string datatype\n",
      "10  is  <class 'int'>  type\n",
      "10  is  <class 'str'>  type\n",
      "conversion is possible\n",
      "===============================\n",
      "\n",
      "converting float to string datatype\n",
      "10.52  is  <class 'float'>  type\n",
      "10.52  is  <class 'str'>  type\n",
      "conversion is possible\n",
      "===============================\n",
      "\n",
      "converting bool to string datatype\n",
      "True  is  <class 'bool'>  type\n",
      "True  is  <class 'str'>  type\n",
      "conversion is possible\n",
      "===============================\n",
      "\n",
      "converting complex to string datatype\n",
      "(10+5j)  is  <class 'complex'>  type\n",
      "(10+5j)  is  <class 'str'>  type\n",
      "conversion is possible\n",
      "===============================\n",
      "\n"
     ]
    }
   ],
   "source": [
    "print(\"converting int to string datatype\")\n",
    "a=10\n",
    "print(a,\" is \",type(a),\" type\")\n",
    "b=str(a)\n",
    "print(b,\" is \",type(b),\" type\")\n",
    "print(\"conversion is possible\")\n",
    "print(\"===============================\")\n",
    "print()\n",
    "print(\"converting float to string datatype\")\n",
    "a=10.52\n",
    "print(a,\" is \",type(a),\" type\")\n",
    "b=str(a)\n",
    "print(b,\" is \",type(b),\" type\")\n",
    "print(\"conversion is possible\")\n",
    "print(\"===============================\")\n",
    "print()\n",
    "print(\"converting bool to string datatype\")\n",
    "a=True\n",
    "print(a,\" is \",type(a),\" type\")\n",
    "b=str(a)\n",
    "print(b,\" is \",type(b),\" type\")\n",
    "print(\"conversion is possible\")\n",
    "print(\"===============================\")\n",
    "print()\n",
    "print(\"converting complex to string datatype\")\n",
    "a=10+5j\n",
    "print(a,\" is \",type(a),\" type\")\n",
    "b=str(a)\n",
    "print(b,\" is \",type(b),\" type\")\n",
    "print(\"conversion is possible\")\n",
    "print(\"===============================\")\n",
    "print()"
   ]
  },
  {
   "cell_type": "code",
   "execution_count": 15,
   "id": "3027a4b7",
   "metadata": {},
   "outputs": [
    {
     "name": "stdout",
     "output_type": "stream",
     "text": [
      "['False', 'None', 'True', 'and', 'as', 'assert', 'async', 'await', 'break', 'class', 'continue', 'def', 'del', 'elif', 'else', 'except', 'finally', 'for', 'from', 'global', 'if', 'import', 'in', 'is', 'lambda', 'nonlocal', 'not', 'or', 'pass', 'raise', 'return', 'try', 'while', 'with', 'yield']\n"
     ]
    },
    {
     "data": {
      "text/plain": [
       "35"
      ]
     },
     "execution_count": 15,
     "metadata": {},
     "output_type": "execute_result"
    }
   ],
   "source": [
    "#keyword is a pre-defined library\n",
    "#in keyword libraby- we are having kwlist list. it is used to get the total keywords in python.\n",
    "import keyword as k\n",
    "print(k.kwlist)\n",
    "len(k.kwlist)#len() is a pre defined function that is used to get the length of the lists/tuples .etc"
   ]
  },
  {
   "cell_type": "code",
   "execution_count": 16,
   "id": "8df07c37",
   "metadata": {},
   "outputs": [
    {
     "name": "stdout",
     "output_type": "stream",
     "text": [
      "10\n",
      "20.25\n",
      "True\n",
      "==================\n",
      "28\n",
      "24\n",
      "28\n",
      "True\n"
     ]
    }
   ],
   "source": [
    "import sys\n",
    "a,b,c=10,20.25,True\n",
    "print(a)\n",
    "print(b)\n",
    "print(c)\n",
    "print(\"==================\")\n",
    "print(sys.getsizeof(a))\n",
    "print(sys.getsizeof(b))\n",
    "print(sys.getsizeof(c))\n",
    "print(isinstance(a,int))#isinstance function is used to get wheather the provided value/variable is matched with the provided datatype.\n",
    "#if it is matched, then it returns True or else it will return False."
   ]
  },
  {
   "cell_type": "code",
   "execution_count": 17,
   "id": "7e54f5ef",
   "metadata": {},
   "outputs": [
    {
     "name": "stdout",
     "output_type": "stream",
     "text": [
      "vvvvvvvvvggggggggg\n"
     ]
    },
    {
     "data": {
      "text/plain": [
       "18"
      ]
     },
     "execution_count": 17,
     "metadata": {},
     "output_type": "execute_result"
    }
   ],
   "source": [
    "a=\"v\"\n",
    "b=a+a*8+'g'*9\n",
    "print(b)\n",
    "len(b)"
   ]
  },
  {
   "cell_type": "code",
   "execution_count": 18,
   "id": "a209faf3",
   "metadata": {},
   "outputs": [
    {
     "name": "stdout",
     "output_type": "stream",
     "text": [
      "a\n",
      "n\n",
      "n\n"
     ]
    }
   ],
   "source": [
    "s=\"vamsi krishna\"\n",
    "print(s[1])\n",
    "print(s[len(s)-2])\n",
    "print(s[-2])"
   ]
  },
  {
   "cell_type": "code",
   "execution_count": 19,
   "id": "8dc9eacb",
   "metadata": {},
   "outputs": [
    {
     "name": "stdout",
     "output_type": "stream",
     "text": [
      "h\n"
     ]
    }
   ],
   "source": [
    "\"\"\"print(s[:])\n",
    "print(s[2:])\n",
    "print(s[0:4])\"\"\"\n",
    "s=\"vamsi krishna\"\n",
    "print(s[-3:-2])\n"
   ]
  },
  {
   "cell_type": "code",
   "execution_count": 20,
   "id": "c0175333",
   "metadata": {},
   "outputs": [
    {
     "name": "stdout",
     "output_type": "stream",
     "text": [
      "\n"
     ]
    },
    {
     "ename": "NameError",
     "evalue": "name 's' is not defined",
     "output_type": "error",
     "traceback": [
      "\u001b[1;31m---------------------------------------------------------------------------\u001b[0m",
      "\u001b[1;31mNameError\u001b[0m                                 Traceback (most recent call last)",
      "Cell \u001b[1;32mIn[20], line 4\u001b[0m\n\u001b[0;32m      2\u001b[0m \u001b[38;5;28;01mdel\u001b[39;00m s\n\u001b[0;32m      3\u001b[0m \u001b[38;5;28mprint\u001b[39m()\n\u001b[1;32m----> 4\u001b[0m s\n",
      "\u001b[1;31mNameError\u001b[0m: name 's' is not defined"
     ]
    }
   ],
   "source": [
    "#del is used to distroy a variable.\n",
    "del s\n",
    "print()\n",
    "s"
   ]
  },
  {
   "cell_type": "code",
   "execution_count": 21,
   "id": "52e4493a",
   "metadata": {},
   "outputs": [
    {
     "name": "stdout",
     "output_type": "stream",
     "text": [
      "vamsikrishna mantri\n"
     ]
    }
   ],
   "source": [
    "#we can combain two or more strings to form into one string\n",
    "a=\"vamsi\"\n",
    "b=\"krishna\"\n",
    "c=\" mantri\"\n",
    "d=a+b+c\n",
    "print(d)"
   ]
  }
 ],
 "metadata": {
  "kernelspec": {
   "display_name": "Python 3 (ipykernel)",
   "language": "python",
   "name": "python3"
  },
  "language_info": {
   "codemirror_mode": {
    "name": "ipython",
    "version": 3
   },
   "file_extension": ".py",
   "mimetype": "text/x-python",
   "name": "python",
   "nbconvert_exporter": "python",
   "pygments_lexer": "ipython3",
   "version": "3.11.5"
  }
 },
 "nbformat": 4,
 "nbformat_minor": 5
}
