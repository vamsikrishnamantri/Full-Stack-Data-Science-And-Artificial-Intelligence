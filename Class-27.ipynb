{
 "cells": [
  {
   "cell_type": "code",
   "execution_count": 1,
   "id": "2398695d-8df7-461a-a297-8950f51d842f",
   "metadata": {},
   "outputs": [],
   "source": [
    "# till now we learned if, if else, if else if, nested if, while, for.\n",
    "# In this class we will learn for else."
   ]
  },
  {
   "cell_type": "code",
   "execution_count": 2,
   "id": "d2c857de-5edc-4779-90b2-2d26bf552ff0",
   "metadata": {},
   "outputs": [
    {
     "name": "stdout",
     "output_type": "stream",
     "text": [
      "1\n",
      "2\n",
      "3\n",
      "4\n",
      "6\n",
      "7\n",
      "8\n",
      "9\n",
      "11\n",
      "12\n",
      "13\n",
      "14\n",
      "16\n",
      "17\n",
      "18\n",
      "19\n"
     ]
    }
   ],
   "source": [
    "# print the number from 1-20 but don't print the numbers divisible by 5.\n",
    "\n",
    "for i in range(1,20):\n",
    "    if i%5!=0:\n",
    "        print(i)"
   ]
  },
  {
   "cell_type": "code",
   "execution_count": 3,
   "id": "c8854e39-e275-49bf-971e-0c213b898fe3",
   "metadata": {},
   "outputs": [
    {
     "name": "stdout",
     "output_type": "stream",
     "text": [
      "1\n",
      "2\n",
      "3\n",
      "4\n",
      "6\n",
      "7\n",
      "8\n",
      "9\n",
      "11\n",
      "12\n",
      "13\n",
      "14\n",
      "16\n",
      "17\n",
      "18\n",
      "19\n"
     ]
    }
   ],
   "source": [
    "# alternate\n",
    "\n",
    "for i in range(1,20):\n",
    "    if i%5==0:\n",
    "        continue\n",
    "    print(i)"
   ]
  },
  {
   "cell_type": "code",
   "execution_count": 4,
   "id": "6b02bb98-6432-4d6c-9d76-3773d039fa97",
   "metadata": {},
   "outputs": [
    {
     "name": "stdout",
     "output_type": "stream",
     "text": [
      "25\n",
      "5\n"
     ]
    }
   ],
   "source": [
    "for hi in [25,36,5,2,8,6]:\n",
    "    if hi%5==0:\n",
    "        print(hi)# it will all the number divisible by 5"
   ]
  },
  {
   "cell_type": "code",
   "execution_count": 5,
   "id": "3865a731-6717-4af9-bec2-062117179a43",
   "metadata": {},
   "outputs": [
    {
     "name": "stdout",
     "output_type": "stream",
     "text": [
      "36\n",
      "2\n",
      "8\n",
      "6\n"
     ]
    }
   ],
   "source": [
    "for hi in [25,36,5,2,8,6]:\n",
    "    if hi%5!=0: # it will print the number which are not divisible by 5 in the list\n",
    "        print(hi)"
   ]
  },
  {
   "cell_type": "code",
   "execution_count": 6,
   "id": "d4fbb460-a5df-4678-b35e-e8e6751fcc16",
   "metadata": {},
   "outputs": [
    {
     "name": "stdout",
     "output_type": "stream",
     "text": [
      "25\n"
     ]
    }
   ],
   "source": [
    "for hi in [25,36,5,2,8,6]:\n",
    "    if hi%5==0:\n",
    "        print(hi)# it print fisrt number divisible by 5.\n",
    "        break"
   ]
  },
  {
   "cell_type": "code",
   "execution_count": 7,
   "id": "8ed43cd3-3d02-4b1f-8115-b2009ece8d39",
   "metadata": {},
   "outputs": [
    {
     "name": "stdout",
     "output_type": "stream",
     "text": [
      "36\n"
     ]
    }
   ],
   "source": [
    "for hi in [25,36,5,2,8,6]:\n",
    "    if hi%5!=0:\n",
    "        print(hi)# it print first number which is not divisible by 5.\n",
    "        break"
   ]
  },
  {
   "cell_type": "code",
   "execution_count": 8,
   "id": "fde5ed29-aa10-46e4-8021-f8a4bf170950",
   "metadata": {},
   "outputs": [
    {
     "name": "stdout",
     "output_type": "stream",
     "text": [
      "not found\n"
     ]
    }
   ],
   "source": [
    "for g in range(5):# here if the number 6 is not there in the list, loop will terminate without returning anything. At that situation else will execute.\n",
    "    if g==6:\n",
    "        break\n",
    "else:\n",
    "    print('not found')"
   ]
  },
  {
   "cell_type": "code",
   "execution_count": 9,
   "id": "309593dd-ee5a-41d9-82ff-ff44a7740eba",
   "metadata": {},
   "outputs": [
    {
     "name": "stdout",
     "output_type": "stream",
     "text": [
      "found\n"
     ]
    }
   ],
   "source": [
    "for g in range(6):# here if the number 6 is there in the list, and the condition is true, here we are breaking the loop. at that situation else will not execute.\n",
    "    if g==5:\n",
    "        print('found')\n",
    "        break\n",
    "else:\n",
    "    print('not found')"
   ]
  },
  {
   "cell_type": "code",
   "execution_count": 10,
   "id": "36abebb1-bc0f-4866-a12a-ff45b41d077c",
   "metadata": {},
   "outputs": [
    {
     "name": "stdout",
     "output_type": "stream",
     "text": [
      "found\n",
      "not found\n"
     ]
    }
   ],
   "source": [
    "for i in range(5):\n",
    "    if i==4:\n",
    "        print('found')\n",
    "else:\n",
    "    print('not found')# if we not use break, then both for and else will execute."
   ]
  },
  {
   "cell_type": "code",
   "execution_count": 11,
   "id": "9db33123-65cb-43af-ad38-3ad991be4a26",
   "metadata": {},
   "outputs": [
    {
     "name": "stdout",
     "output_type": "stream",
     "text": [
      "not a prime number\n"
     ]
    }
   ],
   "source": [
    "# checking prime number\n",
    "\n",
    "num=32\n",
    "\n",
    "for i in range(2,num):\n",
    "    if num%i==0:\n",
    "        print('not a prime number')\n",
    "        break\n",
    "else:\n",
    "    print('prime number')"
   ]
  },
  {
   "cell_type": "code",
   "execution_count": 188,
   "id": "bcad1352-b635-44a4-89bd-5c01e45435b7",
   "metadata": {},
   "outputs": [
    {
     "data": {
      "text/plain": [
       "'\\npython arrays:\\n    1- the python array will stores the similar datatype elements.\\n    2- the python arrays are dynamically sized.\\n    3- to use python arrays we need to import array module\\n    syntax of a python array:- array(typecode,[values])\\n                                        |\\n                                        V\\n                                    here in typecode we are having b,B,h,H,i,I,l,L,q,Q,f,F,d,D\\n\\n                                    small letters are signed\\n                                    capital letters are unsigned\\n'"
      ]
     },
     "execution_count": 188,
     "metadata": {},
     "output_type": "execute_result"
    }
   ],
   "source": [
    "\"\"\"\n",
    "python arrays:\n",
    "    1- the python array will stores the similar datatype elements.\n",
    "    2- the python arrays are dynamically sized.\n",
    "    3- to use python arrays we need to import array module\n",
    "    syntax of a python array:- array(typecode,[values])\n",
    "                                        |\n",
    "                                        V\n",
    "                                    here in typecode we are having b,B,h,H,i,I,l,L,q,Q,f,F,d,D\n",
    "\n",
    "                                    small letters are signed\n",
    "                                    capital letters are unsigned\n",
    "\"\"\""
   ]
  },
  {
   "cell_type": "code",
   "execution_count": 183,
   "id": "7fb85fda-d7a1-4f83-86d1-a545d08aa40f",
   "metadata": {},
   "outputs": [
    {
     "data": {
      "text/plain": [
       "array('i', [1, 2, 4, 6, 8])"
      ]
     },
     "execution_count": 183,
     "metadata": {},
     "output_type": "execute_result"
    }
   ],
   "source": [
    "from array import *\n",
    "\n",
    "arr=array('i',[1,2,4,6,8])\n",
    "arr"
   ]
  },
  {
   "cell_type": "code",
   "execution_count": 137,
   "id": "c5a81a36-e6b0-436c-8a9d-733e8a49c4d4",
   "metadata": {},
   "outputs": [
    {
     "data": {
      "text/plain": [
       "array.array"
      ]
     },
     "execution_count": 137,
     "metadata": {},
     "output_type": "execute_result"
    }
   ],
   "source": [
    "type(arr)# it a python array"
   ]
  },
  {
   "cell_type": "code",
   "execution_count": 185,
   "id": "12a8950a-6a1a-4cde-b81d-ea4aa4152992",
   "metadata": {},
   "outputs": [
    {
     "data": {
      "text/plain": [
       "array('i', [0, 1, 2, 3, 4])"
      ]
     },
     "execution_count": 185,
     "metadata": {},
     "output_type": "execute_result"
    }
   ],
   "source": [
    "arr=array('i',[])\n",
    "\n",
    "for i in range(5):\n",
    "    arr.append(i)\n",
    "arr"
   ]
  },
  {
   "cell_type": "code",
   "execution_count": 186,
   "id": "bafd9493-6643-4e2c-834b-6871c4f3a854",
   "metadata": {},
   "outputs": [],
   "source": [
    "# already we worked with numpy arrays"
   ]
  },
  {
   "cell_type": "code",
   "execution_count": 199,
   "id": "1f6a7f51-1a1d-4e00-97f4-1e2427bc962d",
   "metadata": {},
   "outputs": [],
   "source": [
    "import numpy as np"
   ]
  },
  {
   "cell_type": "code",
   "execution_count": 200,
   "id": "2ce22654-68ec-4bce-8676-17c288d45bfe",
   "metadata": {},
   "outputs": [
    {
     "data": {
      "text/plain": [
       "array([0., 1., 2., 3., 4.])"
      ]
     },
     "execution_count": 200,
     "metadata": {},
     "output_type": "execute_result"
    }
   ],
   "source": [
    "np.array(range(5),float)"
   ]
  },
  {
   "cell_type": "code",
   "execution_count": 204,
   "id": "931350f0-5488-44dd-871a-ab3e1f1d827c",
   "metadata": {},
   "outputs": [
    {
     "name": "stdout",
     "output_type": "stream",
     "text": [
      "['0' '1' '2' '3' '4' '5' '6' '7' '8' '9']\n"
     ]
    },
    {
     "data": {
      "text/plain": [
       "numpy.ndarray"
      ]
     },
     "execution_count": 204,
     "metadata": {},
     "output_type": "execute_result"
    }
   ],
   "source": [
    "arr=np.array(range(10),str)\n",
    "print(arr)\n",
    "type(arr)"
   ]
  },
  {
   "cell_type": "code",
   "execution_count": 219,
   "id": "21f5b59f-ab32-4077-87cf-359831dc7748",
   "metadata": {},
   "outputs": [
    {
     "data": {
      "text/plain": [
       "array([0.  , 0.25, 0.5 , 0.75, 1.  ])"
      ]
     },
     "execution_count": 219,
     "metadata": {},
     "output_type": "execute_result"
    }
   ],
   "source": [
    "np.linspace(0,1,5)"
   ]
  },
  {
   "cell_type": "code",
   "execution_count": 224,
   "id": "b7cac13f-2baf-4651-a9c2-992e81fe68d9",
   "metadata": {},
   "outputs": [],
   "source": [
    "# basic python and loops completed"
   ]
  }
 ],
 "metadata": {
  "kernelspec": {
   "display_name": "Python 3 (ipykernel)",
   "language": "python",
   "name": "python3"
  },
  "language_info": {
   "codemirror_mode": {
    "name": "ipython",
    "version": 3
   },
   "file_extension": ".py",
   "mimetype": "text/x-python",
   "name": "python",
   "nbconvert_exporter": "python",
   "pygments_lexer": "ipython3",
   "version": "3.12.7"
  }
 },
 "nbformat": 4,
 "nbformat_minor": 5
}
